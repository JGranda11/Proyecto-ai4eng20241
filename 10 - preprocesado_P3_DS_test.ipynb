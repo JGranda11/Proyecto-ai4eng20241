{
  "nbformat": 4,
  "nbformat_minor": 0,
  "metadata": {
    "colab": {
      "provenance": [],
      "authorship_tag": "ABX9TyME/Zb6J8MiAOhGnM8Rs8JY",
      "include_colab_link": true
    },
    "kernelspec": {
      "name": "python3",
      "display_name": "Python 3"
    },
    "language_info": {
      "name": "python"
    }
  },
  "cells": [
    {
      "cell_type": "markdown",
      "metadata": {
        "id": "view-in-github",
        "colab_type": "text"
      },
      "source": [
        "<a href=\"https://colab.research.google.com/github/JGranda11/Proyecto-ai4eng20241/blob/main/10%20-%20preprocesado_P3_DS_test.ipynb\" target=\"_parent\"><img src=\"https://colab.research.google.com/assets/colab-badge.svg\" alt=\"Open In Colab\"/></a>"
      ]
    },
    {
      "cell_type": "markdown",
      "source": [
        "# Notebook Preprocesamiento\n",
        "En el siguiente cuaderno se quiere mostrar que realizaciones y consideraciones se tuvieron en cuenta para aplicar las operaciones de limpieza y preprocesado de datos al archivo de `test.csv.`"
      ],
      "metadata": {
        "id": "jVBBbmmyutHL"
      }
    },
    {
      "cell_type": "code",
      "execution_count": 1,
      "metadata": {
        "colab": {
          "base_uri": "https://localhost:8080/",
          "height": 90
        },
        "id": "b7IlqG36uZtr",
        "outputId": "f230b36b-3ea1-4c6d-980e-bb32132754d5"
      },
      "outputs": [
        {
          "output_type": "display_data",
          "data": {
            "text/plain": [
              "<IPython.core.display.HTML object>"
            ],
            "text/html": [
              "\n",
              "     <input type=\"file\" id=\"files-d013ed56-226e-4111-8b1d-447b7e22ef16\" name=\"files[]\" multiple disabled\n",
              "        style=\"border:none\" />\n",
              "     <output id=\"result-d013ed56-226e-4111-8b1d-447b7e22ef16\">\n",
              "      Upload widget is only available when the cell has been executed in the\n",
              "      current browser session. Please rerun this cell to enable.\n",
              "      </output>\n",
              "      <script>// Copyright 2017 Google LLC\n",
              "//\n",
              "// Licensed under the Apache License, Version 2.0 (the \"License\");\n",
              "// you may not use this file except in compliance with the License.\n",
              "// You may obtain a copy of the License at\n",
              "//\n",
              "//      http://www.apache.org/licenses/LICENSE-2.0\n",
              "//\n",
              "// Unless required by applicable law or agreed to in writing, software\n",
              "// distributed under the License is distributed on an \"AS IS\" BASIS,\n",
              "// WITHOUT WARRANTIES OR CONDITIONS OF ANY KIND, either express or implied.\n",
              "// See the License for the specific language governing permissions and\n",
              "// limitations under the License.\n",
              "\n",
              "/**\n",
              " * @fileoverview Helpers for google.colab Python module.\n",
              " */\n",
              "(function(scope) {\n",
              "function span(text, styleAttributes = {}) {\n",
              "  const element = document.createElement('span');\n",
              "  element.textContent = text;\n",
              "  for (const key of Object.keys(styleAttributes)) {\n",
              "    element.style[key] = styleAttributes[key];\n",
              "  }\n",
              "  return element;\n",
              "}\n",
              "\n",
              "// Max number of bytes which will be uploaded at a time.\n",
              "const MAX_PAYLOAD_SIZE = 100 * 1024;\n",
              "\n",
              "function _uploadFiles(inputId, outputId) {\n",
              "  const steps = uploadFilesStep(inputId, outputId);\n",
              "  const outputElement = document.getElementById(outputId);\n",
              "  // Cache steps on the outputElement to make it available for the next call\n",
              "  // to uploadFilesContinue from Python.\n",
              "  outputElement.steps = steps;\n",
              "\n",
              "  return _uploadFilesContinue(outputId);\n",
              "}\n",
              "\n",
              "// This is roughly an async generator (not supported in the browser yet),\n",
              "// where there are multiple asynchronous steps and the Python side is going\n",
              "// to poll for completion of each step.\n",
              "// This uses a Promise to block the python side on completion of each step,\n",
              "// then passes the result of the previous step as the input to the next step.\n",
              "function _uploadFilesContinue(outputId) {\n",
              "  const outputElement = document.getElementById(outputId);\n",
              "  const steps = outputElement.steps;\n",
              "\n",
              "  const next = steps.next(outputElement.lastPromiseValue);\n",
              "  return Promise.resolve(next.value.promise).then((value) => {\n",
              "    // Cache the last promise value to make it available to the next\n",
              "    // step of the generator.\n",
              "    outputElement.lastPromiseValue = value;\n",
              "    return next.value.response;\n",
              "  });\n",
              "}\n",
              "\n",
              "/**\n",
              " * Generator function which is called between each async step of the upload\n",
              " * process.\n",
              " * @param {string} inputId Element ID of the input file picker element.\n",
              " * @param {string} outputId Element ID of the output display.\n",
              " * @return {!Iterable<!Object>} Iterable of next steps.\n",
              " */\n",
              "function* uploadFilesStep(inputId, outputId) {\n",
              "  const inputElement = document.getElementById(inputId);\n",
              "  inputElement.disabled = false;\n",
              "\n",
              "  const outputElement = document.getElementById(outputId);\n",
              "  outputElement.innerHTML = '';\n",
              "\n",
              "  const pickedPromise = new Promise((resolve) => {\n",
              "    inputElement.addEventListener('change', (e) => {\n",
              "      resolve(e.target.files);\n",
              "    });\n",
              "  });\n",
              "\n",
              "  const cancel = document.createElement('button');\n",
              "  inputElement.parentElement.appendChild(cancel);\n",
              "  cancel.textContent = 'Cancel upload';\n",
              "  const cancelPromise = new Promise((resolve) => {\n",
              "    cancel.onclick = () => {\n",
              "      resolve(null);\n",
              "    };\n",
              "  });\n",
              "\n",
              "  // Wait for the user to pick the files.\n",
              "  const files = yield {\n",
              "    promise: Promise.race([pickedPromise, cancelPromise]),\n",
              "    response: {\n",
              "      action: 'starting',\n",
              "    }\n",
              "  };\n",
              "\n",
              "  cancel.remove();\n",
              "\n",
              "  // Disable the input element since further picks are not allowed.\n",
              "  inputElement.disabled = true;\n",
              "\n",
              "  if (!files) {\n",
              "    return {\n",
              "      response: {\n",
              "        action: 'complete',\n",
              "      }\n",
              "    };\n",
              "  }\n",
              "\n",
              "  for (const file of files) {\n",
              "    const li = document.createElement('li');\n",
              "    li.append(span(file.name, {fontWeight: 'bold'}));\n",
              "    li.append(span(\n",
              "        `(${file.type || 'n/a'}) - ${file.size} bytes, ` +\n",
              "        `last modified: ${\n",
              "            file.lastModifiedDate ? file.lastModifiedDate.toLocaleDateString() :\n",
              "                                    'n/a'} - `));\n",
              "    const percent = span('0% done');\n",
              "    li.appendChild(percent);\n",
              "\n",
              "    outputElement.appendChild(li);\n",
              "\n",
              "    const fileDataPromise = new Promise((resolve) => {\n",
              "      const reader = new FileReader();\n",
              "      reader.onload = (e) => {\n",
              "        resolve(e.target.result);\n",
              "      };\n",
              "      reader.readAsArrayBuffer(file);\n",
              "    });\n",
              "    // Wait for the data to be ready.\n",
              "    let fileData = yield {\n",
              "      promise: fileDataPromise,\n",
              "      response: {\n",
              "        action: 'continue',\n",
              "      }\n",
              "    };\n",
              "\n",
              "    // Use a chunked sending to avoid message size limits. See b/62115660.\n",
              "    let position = 0;\n",
              "    do {\n",
              "      const length = Math.min(fileData.byteLength - position, MAX_PAYLOAD_SIZE);\n",
              "      const chunk = new Uint8Array(fileData, position, length);\n",
              "      position += length;\n",
              "\n",
              "      const base64 = btoa(String.fromCharCode.apply(null, chunk));\n",
              "      yield {\n",
              "        response: {\n",
              "          action: 'append',\n",
              "          file: file.name,\n",
              "          data: base64,\n",
              "        },\n",
              "      };\n",
              "\n",
              "      let percentDone = fileData.byteLength === 0 ?\n",
              "          100 :\n",
              "          Math.round((position / fileData.byteLength) * 100);\n",
              "      percent.textContent = `${percentDone}% done`;\n",
              "\n",
              "    } while (position < fileData.byteLength);\n",
              "  }\n",
              "\n",
              "  // All done.\n",
              "  yield {\n",
              "    response: {\n",
              "      action: 'complete',\n",
              "    }\n",
              "  };\n",
              "}\n",
              "\n",
              "scope.google = scope.google || {};\n",
              "scope.google.colab = scope.google.colab || {};\n",
              "scope.google.colab._files = {\n",
              "  _uploadFiles,\n",
              "  _uploadFilesContinue,\n",
              "};\n",
              "})(self);\n",
              "</script> "
            ]
          },
          "metadata": {}
        },
        {
          "output_type": "stream",
          "name": "stdout",
          "text": [
            "Saving kaggle.json to kaggle.json\n"
          ]
        },
        {
          "output_type": "execute_result",
          "data": {
            "text/plain": [
              "{'kaggle.json': b'{\"username\":\"jhonatangranda\",\"key\":\"7dd2bc4d9b9fc9fcaeb5d991e5472b44\"}'}"
            ]
          },
          "metadata": {},
          "execution_count": 1
        }
      ],
      "source": [
        "#Cargar el token de Kaggle\n",
        "from google.colab import files\n",
        "files.upload()"
      ]
    },
    {
      "cell_type": "code",
      "source": [
        "import os\n",
        "os.environ['KAGGLE_CONFIG_DIR'] = \".\""
      ],
      "metadata": {
        "id": "y_3yLVrjuwLa"
      },
      "execution_count": 2,
      "outputs": []
    },
    {
      "cell_type": "code",
      "source": [
        "!kaggle competitions download udea-ai4eng-20241"
      ],
      "metadata": {
        "colab": {
          "base_uri": "https://localhost:8080/"
        },
        "id": "snF36lDlvr54",
        "outputId": "ce86c4f0-a32f-4d00-c267-166fd1dab440"
      },
      "execution_count": 3,
      "outputs": [
        {
          "output_type": "stream",
          "name": "stdout",
          "text": [
            "Warning: Your Kaggle API key is readable by other users on this system! To fix this, you can run 'chmod 600 ./kaggle.json'\n",
            "Downloading udea-ai4eng-20241.zip to /content\n",
            " 80% 17.0M/21.2M [00:00<00:00, 86.1MB/s]\n",
            "100% 21.2M/21.2M [00:00<00:00, 85.5MB/s]\n"
          ]
        }
      ]
    },
    {
      "cell_type": "code",
      "source": [
        "#Descomprimiendo los archivos\n",
        "!unzip udea-ai4eng-20241"
      ],
      "metadata": {
        "colab": {
          "base_uri": "https://localhost:8080/"
        },
        "id": "KZ12AavpvZAf",
        "outputId": "a7c0e828-adc7-4382-be2b-020d7f488365"
      },
      "execution_count": 4,
      "outputs": [
        {
          "output_type": "stream",
          "name": "stdout",
          "text": [
            "Archive:  udea-ai4eng-20241.zip\n",
            "  inflating: submission_example.csv  \n",
            "  inflating: test.csv                \n",
            "  inflating: train.csv               \n"
          ]
        }
      ]
    },
    {
      "cell_type": "code",
      "source": [
        "import pandas as pd\n",
        "import numpy as np\n",
        "import matplotlib.pyplot as plt\n",
        "from sklearn import preprocessing\n",
        "from sklearn.preprocessing import OneHotEncoder\n",
        "\n",
        "from sklearn.preprocessing import OrdinalEncoder"
      ],
      "metadata": {
        "id": "AkFG6nKDvynJ"
      },
      "execution_count": 5,
      "outputs": []
    },
    {
      "cell_type": "markdown",
      "source": [
        "## Lectura inicial archivos\n",
        "Queremos empezar a preprocesar el archivo de test, de la forma numero 3, que es la definitiva"
      ],
      "metadata": {
        "id": "w7hpqcrjwJas"
      }
    },
    {
      "cell_type": "code",
      "source": [
        "test = pd.read_csv('test.csv')"
      ],
      "metadata": {
        "id": "VXNhGXbrwGrr"
      },
      "execution_count": 6,
      "outputs": []
    },
    {
      "cell_type": "code",
      "source": [
        "test.shape"
      ],
      "metadata": {
        "colab": {
          "base_uri": "https://localhost:8080/"
        },
        "id": "BpB8GMHTwlYv",
        "outputId": "a24b6a58-44dd-45aa-be4d-fd65b239eb96"
      },
      "execution_count": 7,
      "outputs": [
        {
          "output_type": "execute_result",
          "data": {
            "text/plain": [
              "(296786, 16)"
            ]
          },
          "metadata": {},
          "execution_count": 7
        }
      ]
    },
    {
      "cell_type": "code",
      "source": [
        "test.head()"
      ],
      "metadata": {
        "colab": {
          "base_uri": "https://localhost:8080/",
          "height": 348
        },
        "id": "RPISZu3kwnXy",
        "outputId": "0163e329-53de-40a2-879b-6facd0497eac"
      },
      "execution_count": 8,
      "outputs": [
        {
          "output_type": "execute_result",
          "data": {
            "text/plain": [
              "       ID  PERIODO                     ESTU_PRGM_ACADEMICO  \\\n",
              "0  550236    20183                          TRABAJO SOCIAL   \n",
              "1   98545    20203  ADMINISTRACION COMERCIAL Y DE MERCADEO   \n",
              "2  499179    20212                  INGENIERIA MECATRONICA   \n",
              "3  782980    20195                      CONTADURIA PUBLICA   \n",
              "4  785185    20212              ADMINISTRACION DE EMPRESAS   \n",
              "\n",
              "  ESTU_PRGM_DEPARTAMENTO            ESTU_VALORMATRICULAUNIVERSIDAD  \\\n",
              "0                BOLIVAR                          Menos de 500 mil   \n",
              "1              ANTIOQUIA  Entre 2.5 millones y menos de 4 millones   \n",
              "2                 BOGOTÁ    Entre 1 millón y menos de 2.5 millones   \n",
              "3                  SUCRE    Entre 1 millón y menos de 2.5 millones   \n",
              "4              ATLANTICO  Entre 2.5 millones y menos de 4 millones   \n",
              "\n",
              "  ESTU_HORASSEMANATRABAJA FAMI_ESTRATOVIVIENDA FAMI_TIENEINTERNET  \\\n",
              "0       Menos de 10 horas            Estrato 3                 Si   \n",
              "1     Entre 21 y 30 horas            Estrato 2                 Si   \n",
              "2                       0            Estrato 3                 Si   \n",
              "3     Entre 21 y 30 horas            Estrato 1                 No   \n",
              "4     Entre 11 y 20 horas            Estrato 2                 Si   \n",
              "\n",
              "                    FAMI_EDUCACIONPADRE FAMI_TIENELAVADORA  \\\n",
              "0        Técnica o tecnológica completa                 Si   \n",
              "1    Secundaria (Bachillerato) completa                 Si   \n",
              "2  Secundaria (Bachillerato) incompleta                 Si   \n",
              "3                   Primaria incompleta                 Si   \n",
              "4    Secundaria (Bachillerato) completa                 Si   \n",
              "\n",
              "  FAMI_TIENEAUTOMOVIL ESTU_PRIVADO_LIBERTAD ESTU_PAGOMATRICULAPROPIO  \\\n",
              "0                  No                     N                       Si   \n",
              "1                  No                     N                       No   \n",
              "2                  No                     N                       No   \n",
              "3                  No                     N                       No   \n",
              "4                  No                     N                       No   \n",
              "\n",
              "  FAMI_TIENECOMPUTADOR FAMI_TIENEINTERNET.1  \\\n",
              "0                   Si                   Si   \n",
              "1                   Si                   Si   \n",
              "2                   Si                   Si   \n",
              "3                   No                   No   \n",
              "4                   Si                   Si   \n",
              "\n",
              "                  FAMI_EDUCACIONMADRE  \n",
              "0                   Primaria completa  \n",
              "1      Técnica o tecnológica completa  \n",
              "2  Secundaria (Bachillerato) completa  \n",
              "3                 Primaria incompleta  \n",
              "4  Secundaria (Bachillerato) completa  "
            ],
            "text/html": [
              "\n",
              "  <div id=\"df-badf972b-4da3-4ef5-8ce5-4693dfbbab62\" class=\"colab-df-container\">\n",
              "    <div>\n",
              "<style scoped>\n",
              "    .dataframe tbody tr th:only-of-type {\n",
              "        vertical-align: middle;\n",
              "    }\n",
              "\n",
              "    .dataframe tbody tr th {\n",
              "        vertical-align: top;\n",
              "    }\n",
              "\n",
              "    .dataframe thead th {\n",
              "        text-align: right;\n",
              "    }\n",
              "</style>\n",
              "<table border=\"1\" class=\"dataframe\">\n",
              "  <thead>\n",
              "    <tr style=\"text-align: right;\">\n",
              "      <th></th>\n",
              "      <th>ID</th>\n",
              "      <th>PERIODO</th>\n",
              "      <th>ESTU_PRGM_ACADEMICO</th>\n",
              "      <th>ESTU_PRGM_DEPARTAMENTO</th>\n",
              "      <th>ESTU_VALORMATRICULAUNIVERSIDAD</th>\n",
              "      <th>ESTU_HORASSEMANATRABAJA</th>\n",
              "      <th>FAMI_ESTRATOVIVIENDA</th>\n",
              "      <th>FAMI_TIENEINTERNET</th>\n",
              "      <th>FAMI_EDUCACIONPADRE</th>\n",
              "      <th>FAMI_TIENELAVADORA</th>\n",
              "      <th>FAMI_TIENEAUTOMOVIL</th>\n",
              "      <th>ESTU_PRIVADO_LIBERTAD</th>\n",
              "      <th>ESTU_PAGOMATRICULAPROPIO</th>\n",
              "      <th>FAMI_TIENECOMPUTADOR</th>\n",
              "      <th>FAMI_TIENEINTERNET.1</th>\n",
              "      <th>FAMI_EDUCACIONMADRE</th>\n",
              "    </tr>\n",
              "  </thead>\n",
              "  <tbody>\n",
              "    <tr>\n",
              "      <th>0</th>\n",
              "      <td>550236</td>\n",
              "      <td>20183</td>\n",
              "      <td>TRABAJO SOCIAL</td>\n",
              "      <td>BOLIVAR</td>\n",
              "      <td>Menos de 500 mil</td>\n",
              "      <td>Menos de 10 horas</td>\n",
              "      <td>Estrato 3</td>\n",
              "      <td>Si</td>\n",
              "      <td>Técnica o tecnológica completa</td>\n",
              "      <td>Si</td>\n",
              "      <td>No</td>\n",
              "      <td>N</td>\n",
              "      <td>Si</td>\n",
              "      <td>Si</td>\n",
              "      <td>Si</td>\n",
              "      <td>Primaria completa</td>\n",
              "    </tr>\n",
              "    <tr>\n",
              "      <th>1</th>\n",
              "      <td>98545</td>\n",
              "      <td>20203</td>\n",
              "      <td>ADMINISTRACION COMERCIAL Y DE MERCADEO</td>\n",
              "      <td>ANTIOQUIA</td>\n",
              "      <td>Entre 2.5 millones y menos de 4 millones</td>\n",
              "      <td>Entre 21 y 30 horas</td>\n",
              "      <td>Estrato 2</td>\n",
              "      <td>Si</td>\n",
              "      <td>Secundaria (Bachillerato) completa</td>\n",
              "      <td>Si</td>\n",
              "      <td>No</td>\n",
              "      <td>N</td>\n",
              "      <td>No</td>\n",
              "      <td>Si</td>\n",
              "      <td>Si</td>\n",
              "      <td>Técnica o tecnológica completa</td>\n",
              "    </tr>\n",
              "    <tr>\n",
              "      <th>2</th>\n",
              "      <td>499179</td>\n",
              "      <td>20212</td>\n",
              "      <td>INGENIERIA MECATRONICA</td>\n",
              "      <td>BOGOTÁ</td>\n",
              "      <td>Entre 1 millón y menos de 2.5 millones</td>\n",
              "      <td>0</td>\n",
              "      <td>Estrato 3</td>\n",
              "      <td>Si</td>\n",
              "      <td>Secundaria (Bachillerato) incompleta</td>\n",
              "      <td>Si</td>\n",
              "      <td>No</td>\n",
              "      <td>N</td>\n",
              "      <td>No</td>\n",
              "      <td>Si</td>\n",
              "      <td>Si</td>\n",
              "      <td>Secundaria (Bachillerato) completa</td>\n",
              "    </tr>\n",
              "    <tr>\n",
              "      <th>3</th>\n",
              "      <td>782980</td>\n",
              "      <td>20195</td>\n",
              "      <td>CONTADURIA PUBLICA</td>\n",
              "      <td>SUCRE</td>\n",
              "      <td>Entre 1 millón y menos de 2.5 millones</td>\n",
              "      <td>Entre 21 y 30 horas</td>\n",
              "      <td>Estrato 1</td>\n",
              "      <td>No</td>\n",
              "      <td>Primaria incompleta</td>\n",
              "      <td>Si</td>\n",
              "      <td>No</td>\n",
              "      <td>N</td>\n",
              "      <td>No</td>\n",
              "      <td>No</td>\n",
              "      <td>No</td>\n",
              "      <td>Primaria incompleta</td>\n",
              "    </tr>\n",
              "    <tr>\n",
              "      <th>4</th>\n",
              "      <td>785185</td>\n",
              "      <td>20212</td>\n",
              "      <td>ADMINISTRACION DE EMPRESAS</td>\n",
              "      <td>ATLANTICO</td>\n",
              "      <td>Entre 2.5 millones y menos de 4 millones</td>\n",
              "      <td>Entre 11 y 20 horas</td>\n",
              "      <td>Estrato 2</td>\n",
              "      <td>Si</td>\n",
              "      <td>Secundaria (Bachillerato) completa</td>\n",
              "      <td>Si</td>\n",
              "      <td>No</td>\n",
              "      <td>N</td>\n",
              "      <td>No</td>\n",
              "      <td>Si</td>\n",
              "      <td>Si</td>\n",
              "      <td>Secundaria (Bachillerato) completa</td>\n",
              "    </tr>\n",
              "  </tbody>\n",
              "</table>\n",
              "</div>\n",
              "    <div class=\"colab-df-buttons\">\n",
              "\n",
              "  <div class=\"colab-df-container\">\n",
              "    <button class=\"colab-df-convert\" onclick=\"convertToInteractive('df-badf972b-4da3-4ef5-8ce5-4693dfbbab62')\"\n",
              "            title=\"Convert this dataframe to an interactive table.\"\n",
              "            style=\"display:none;\">\n",
              "\n",
              "  <svg xmlns=\"http://www.w3.org/2000/svg\" height=\"24px\" viewBox=\"0 -960 960 960\">\n",
              "    <path d=\"M120-120v-720h720v720H120Zm60-500h600v-160H180v160Zm220 220h160v-160H400v160Zm0 220h160v-160H400v160ZM180-400h160v-160H180v160Zm440 0h160v-160H620v160ZM180-180h160v-160H180v160Zm440 0h160v-160H620v160Z\"/>\n",
              "  </svg>\n",
              "    </button>\n",
              "\n",
              "  <style>\n",
              "    .colab-df-container {\n",
              "      display:flex;\n",
              "      gap: 12px;\n",
              "    }\n",
              "\n",
              "    .colab-df-convert {\n",
              "      background-color: #E8F0FE;\n",
              "      border: none;\n",
              "      border-radius: 50%;\n",
              "      cursor: pointer;\n",
              "      display: none;\n",
              "      fill: #1967D2;\n",
              "      height: 32px;\n",
              "      padding: 0 0 0 0;\n",
              "      width: 32px;\n",
              "    }\n",
              "\n",
              "    .colab-df-convert:hover {\n",
              "      background-color: #E2EBFA;\n",
              "      box-shadow: 0px 1px 2px rgba(60, 64, 67, 0.3), 0px 1px 3px 1px rgba(60, 64, 67, 0.15);\n",
              "      fill: #174EA6;\n",
              "    }\n",
              "\n",
              "    .colab-df-buttons div {\n",
              "      margin-bottom: 4px;\n",
              "    }\n",
              "\n",
              "    [theme=dark] .colab-df-convert {\n",
              "      background-color: #3B4455;\n",
              "      fill: #D2E3FC;\n",
              "    }\n",
              "\n",
              "    [theme=dark] .colab-df-convert:hover {\n",
              "      background-color: #434B5C;\n",
              "      box-shadow: 0px 1px 3px 1px rgba(0, 0, 0, 0.15);\n",
              "      filter: drop-shadow(0px 1px 2px rgba(0, 0, 0, 0.3));\n",
              "      fill: #FFFFFF;\n",
              "    }\n",
              "  </style>\n",
              "\n",
              "    <script>\n",
              "      const buttonEl =\n",
              "        document.querySelector('#df-badf972b-4da3-4ef5-8ce5-4693dfbbab62 button.colab-df-convert');\n",
              "      buttonEl.style.display =\n",
              "        google.colab.kernel.accessAllowed ? 'block' : 'none';\n",
              "\n",
              "      async function convertToInteractive(key) {\n",
              "        const element = document.querySelector('#df-badf972b-4da3-4ef5-8ce5-4693dfbbab62');\n",
              "        const dataTable =\n",
              "          await google.colab.kernel.invokeFunction('convertToInteractive',\n",
              "                                                    [key], {});\n",
              "        if (!dataTable) return;\n",
              "\n",
              "        const docLinkHtml = 'Like what you see? Visit the ' +\n",
              "          '<a target=\"_blank\" href=https://colab.research.google.com/notebooks/data_table.ipynb>data table notebook</a>'\n",
              "          + ' to learn more about interactive tables.';\n",
              "        element.innerHTML = '';\n",
              "        dataTable['output_type'] = 'display_data';\n",
              "        await google.colab.output.renderOutput(dataTable, element);\n",
              "        const docLink = document.createElement('div');\n",
              "        docLink.innerHTML = docLinkHtml;\n",
              "        element.appendChild(docLink);\n",
              "      }\n",
              "    </script>\n",
              "  </div>\n",
              "\n",
              "\n",
              "<div id=\"df-7fa89a68-e934-485a-84be-1f465a8a8c44\">\n",
              "  <button class=\"colab-df-quickchart\" onclick=\"quickchart('df-7fa89a68-e934-485a-84be-1f465a8a8c44')\"\n",
              "            title=\"Suggest charts\"\n",
              "            style=\"display:none;\">\n",
              "\n",
              "<svg xmlns=\"http://www.w3.org/2000/svg\" height=\"24px\"viewBox=\"0 0 24 24\"\n",
              "     width=\"24px\">\n",
              "    <g>\n",
              "        <path d=\"M19 3H5c-1.1 0-2 .9-2 2v14c0 1.1.9 2 2 2h14c1.1 0 2-.9 2-2V5c0-1.1-.9-2-2-2zM9 17H7v-7h2v7zm4 0h-2V7h2v10zm4 0h-2v-4h2v4z\"/>\n",
              "    </g>\n",
              "</svg>\n",
              "  </button>\n",
              "\n",
              "<style>\n",
              "  .colab-df-quickchart {\n",
              "      --bg-color: #E8F0FE;\n",
              "      --fill-color: #1967D2;\n",
              "      --hover-bg-color: #E2EBFA;\n",
              "      --hover-fill-color: #174EA6;\n",
              "      --disabled-fill-color: #AAA;\n",
              "      --disabled-bg-color: #DDD;\n",
              "  }\n",
              "\n",
              "  [theme=dark] .colab-df-quickchart {\n",
              "      --bg-color: #3B4455;\n",
              "      --fill-color: #D2E3FC;\n",
              "      --hover-bg-color: #434B5C;\n",
              "      --hover-fill-color: #FFFFFF;\n",
              "      --disabled-bg-color: #3B4455;\n",
              "      --disabled-fill-color: #666;\n",
              "  }\n",
              "\n",
              "  .colab-df-quickchart {\n",
              "    background-color: var(--bg-color);\n",
              "    border: none;\n",
              "    border-radius: 50%;\n",
              "    cursor: pointer;\n",
              "    display: none;\n",
              "    fill: var(--fill-color);\n",
              "    height: 32px;\n",
              "    padding: 0;\n",
              "    width: 32px;\n",
              "  }\n",
              "\n",
              "  .colab-df-quickchart:hover {\n",
              "    background-color: var(--hover-bg-color);\n",
              "    box-shadow: 0 1px 2px rgba(60, 64, 67, 0.3), 0 1px 3px 1px rgba(60, 64, 67, 0.15);\n",
              "    fill: var(--button-hover-fill-color);\n",
              "  }\n",
              "\n",
              "  .colab-df-quickchart-complete:disabled,\n",
              "  .colab-df-quickchart-complete:disabled:hover {\n",
              "    background-color: var(--disabled-bg-color);\n",
              "    fill: var(--disabled-fill-color);\n",
              "    box-shadow: none;\n",
              "  }\n",
              "\n",
              "  .colab-df-spinner {\n",
              "    border: 2px solid var(--fill-color);\n",
              "    border-color: transparent;\n",
              "    border-bottom-color: var(--fill-color);\n",
              "    animation:\n",
              "      spin 1s steps(1) infinite;\n",
              "  }\n",
              "\n",
              "  @keyframes spin {\n",
              "    0% {\n",
              "      border-color: transparent;\n",
              "      border-bottom-color: var(--fill-color);\n",
              "      border-left-color: var(--fill-color);\n",
              "    }\n",
              "    20% {\n",
              "      border-color: transparent;\n",
              "      border-left-color: var(--fill-color);\n",
              "      border-top-color: var(--fill-color);\n",
              "    }\n",
              "    30% {\n",
              "      border-color: transparent;\n",
              "      border-left-color: var(--fill-color);\n",
              "      border-top-color: var(--fill-color);\n",
              "      border-right-color: var(--fill-color);\n",
              "    }\n",
              "    40% {\n",
              "      border-color: transparent;\n",
              "      border-right-color: var(--fill-color);\n",
              "      border-top-color: var(--fill-color);\n",
              "    }\n",
              "    60% {\n",
              "      border-color: transparent;\n",
              "      border-right-color: var(--fill-color);\n",
              "    }\n",
              "    80% {\n",
              "      border-color: transparent;\n",
              "      border-right-color: var(--fill-color);\n",
              "      border-bottom-color: var(--fill-color);\n",
              "    }\n",
              "    90% {\n",
              "      border-color: transparent;\n",
              "      border-bottom-color: var(--fill-color);\n",
              "    }\n",
              "  }\n",
              "</style>\n",
              "\n",
              "  <script>\n",
              "    async function quickchart(key) {\n",
              "      const quickchartButtonEl =\n",
              "        document.querySelector('#' + key + ' button');\n",
              "      quickchartButtonEl.disabled = true;  // To prevent multiple clicks.\n",
              "      quickchartButtonEl.classList.add('colab-df-spinner');\n",
              "      try {\n",
              "        const charts = await google.colab.kernel.invokeFunction(\n",
              "            'suggestCharts', [key], {});\n",
              "      } catch (error) {\n",
              "        console.error('Error during call to suggestCharts:', error);\n",
              "      }\n",
              "      quickchartButtonEl.classList.remove('colab-df-spinner');\n",
              "      quickchartButtonEl.classList.add('colab-df-quickchart-complete');\n",
              "    }\n",
              "    (() => {\n",
              "      let quickchartButtonEl =\n",
              "        document.querySelector('#df-7fa89a68-e934-485a-84be-1f465a8a8c44 button');\n",
              "      quickchartButtonEl.style.display =\n",
              "        google.colab.kernel.accessAllowed ? 'block' : 'none';\n",
              "    })();\n",
              "  </script>\n",
              "</div>\n",
              "    </div>\n",
              "  </div>\n"
            ],
            "application/vnd.google.colaboratory.intrinsic+json": {
              "type": "dataframe",
              "variable_name": "test"
            }
          },
          "metadata": {},
          "execution_count": 8
        }
      ]
    },
    {
      "cell_type": "markdown",
      "source": [
        "#Consideraciones\n",
        "Del proceso de exploración de los datos, se infiere que el dataset en su composición tiene:\n",
        "\n",
        "* Columnas repetidas:\n",
        "__FAMI_TIENEINTERNET__ y __FAMI_TIENEINTERNET.1__\n",
        "\n",
        "Adeás necesito categorizar varias columnas que representan un orden en su estructura\n",
        "* ESTU_VALORMATRICULAUNIVERSIDAD\n",
        "* ESTU_HORASSEMANATRABAJA\n",
        "* FAMI_ESTRATOVIVIENDA\n",
        "* FAMI_EDUCACIONPADRE\n",
        "* FAMI_EDUCACIONMADRE\n",
        "\n",
        " Por lo que asignar numericamente un numero consecutivo, representa una categoria"
      ],
      "metadata": {
        "id": "lEIi2unuxBBy"
      }
    },
    {
      "cell_type": "code",
      "source": [
        "#Se hace la asignación, para el cambio de nombre de la columna repetida\n",
        "test = test.rename(columns={'FAMI_TIENEINTERNET.1': 'FAMI_TIENEINTERNET2'})"
      ],
      "metadata": {
        "id": "fzr5wPrRxBcV"
      },
      "execution_count": 9,
      "outputs": []
    },
    {
      "cell_type": "code",
      "source": [
        "test.FAMI_TIENEINTERNET.value_counts()"
      ],
      "metadata": {
        "colab": {
          "base_uri": "https://localhost:8080/"
        },
        "id": "XopzcdysxE46",
        "outputId": "d1acc7bc-5d67-4074-d50c-881763df2e25"
      },
      "execution_count": 10,
      "outputs": [
        {
          "output_type": "execute_result",
          "data": {
            "text/plain": [
              "FAMI_TIENEINTERNET\n",
              "Si    254075\n",
              "No     31172\n",
              "Name: count, dtype: int64"
            ]
          },
          "metadata": {},
          "execution_count": 10
        }
      ]
    },
    {
      "cell_type": "code",
      "source": [
        "test.FAMI_TIENEINTERNET2.value_counts()\n",
        "#COLUMNA DUPLICADA"
      ],
      "metadata": {
        "colab": {
          "base_uri": "https://localhost:8080/"
        },
        "id": "FvoSbd1KxE1s",
        "outputId": "21531994-b074-464e-ac60-b2e1a1e342ee"
      },
      "execution_count": 11,
      "outputs": [
        {
          "output_type": "execute_result",
          "data": {
            "text/plain": [
              "FAMI_TIENEINTERNET2\n",
              "Si    254075\n",
              "No     31172\n",
              "Name: count, dtype: int64"
            ]
          },
          "metadata": {},
          "execution_count": 11
        }
      ]
    },
    {
      "cell_type": "code",
      "source": [
        "validar = test['FAMI_TIENEINTERNET'].equals(test['FAMI_TIENEINTERNET2'])\n",
        "print(validar)"
      ],
      "metadata": {
        "colab": {
          "base_uri": "https://localhost:8080/"
        },
        "id": "w83HHVdRxEza",
        "outputId": "b69b618c-d8d0-4e1f-b994-3b8d0d0c59be"
      },
      "execution_count": 12,
      "outputs": [
        {
          "output_type": "stream",
          "name": "stdout",
          "text": [
            "True\n"
          ]
        }
      ]
    },
    {
      "cell_type": "code",
      "source": [
        "test = test.drop('FAMI_TIENEINTERNET2', axis=1)"
      ],
      "metadata": {
        "id": "1_i-Ty7yxEw7"
      },
      "execution_count": 13,
      "outputs": []
    },
    {
      "cell_type": "markdown",
      "source": [
        "Evaluación general de todos los datos nulos"
      ],
      "metadata": {
        "id": "IIvB36sfxUUq"
      }
    },
    {
      "cell_type": "code",
      "source": [
        "k = test.isna().sum()\n",
        "k[k!=0]\n"
      ],
      "metadata": {
        "colab": {
          "base_uri": "https://localhost:8080/"
        },
        "id": "EEov37MDxEuS",
        "outputId": "39f9ba0a-5c16-4b52-ea5b-e9f12c14db36"
      },
      "execution_count": 14,
      "outputs": [
        {
          "output_type": "execute_result",
          "data": {
            "text/plain": [
              "ESTU_VALORMATRICULAUNIVERSIDAD     2723\n",
              "ESTU_HORASSEMANATRABAJA           13379\n",
              "FAMI_ESTRATOVIVIENDA              13795\n",
              "FAMI_TIENEINTERNET                11539\n",
              "FAMI_EDUCACIONPADRE                9993\n",
              "FAMI_TIENELAVADORA                17259\n",
              "FAMI_TIENEAUTOMOVIL               18918\n",
              "ESTU_PAGOMATRICULAPROPIO           2807\n",
              "FAMI_TIENECOMPUTADOR              16439\n",
              "FAMI_EDUCACIONMADRE               10223\n",
              "dtype: int64"
            ]
          },
          "metadata": {},
          "execution_count": 14
        }
      ]
    },
    {
      "cell_type": "markdown",
      "source": [
        "## Manejo de la columna PERIODO\n",
        "Esta columna presenta 9 distintas posibilidades de ocurrencia, se quiere corregir y agrupar de mejor manera por año."
      ],
      "metadata": {
        "id": "lzvK9cQMxb--"
      }
    },
    {
      "cell_type": "code",
      "source": [
        "test['PERIODO'] = test['PERIODO'].astype('category')\n",
        "test['PERIODO'] = test['PERIODO'].astype(str).str.replace(r'2018.*', '2018', regex=True)\n",
        "test['PERIODO'] = test['PERIODO'].astype(str).str.replace(r'2019.*', '2019', regex=True)\n",
        "test['PERIODO'] = test['PERIODO'].astype(str).str.replace(r'2020.*', '2020', regex=True)\n",
        "test['PERIODO'] = test['PERIODO'].astype(str).str.replace(r'2021.*', '2021', regex=True)"
      ],
      "metadata": {
        "id": "fBqaxe5fxErq"
      },
      "execution_count": 15,
      "outputs": []
    },
    {
      "cell_type": "code",
      "source": [
        "#crear la instancia de OneHotEncoder\n",
        "encode = OneHotEncoder()\n",
        "\n",
        "#Trabaja con dataframes, no series\n",
        "codificador = encode.fit_transform(test[['PERIODO']])\n",
        "#generar codificacion\n",
        "\n",
        "arreglo = codificador.toarray()\n",
        "periodo = pd.DataFrame(arreglo,\n",
        "                       columns = encode.categories_)\n",
        "\n",
        "## Codificación de las columnas, manejo de OneHotEncoder\n",
        "\n",
        "test = pd.concat([test, periodo], axis = 'columns')\n",
        "test = test.drop('PERIODO', axis=1)"
      ],
      "metadata": {
        "id": "CYwl4DJcxEoy"
      },
      "execution_count": 16,
      "outputs": []
    },
    {
      "cell_type": "markdown",
      "source": [
        "## Manejo de la columna ESTU_PRGM_ACADEMICO"
      ],
      "metadata": {
        "id": "gT6shanxyB04"
      }
    },
    {
      "cell_type": "code",
      "source": [
        "#La columna ESTU_PRGM_ACADEMICO es la que representa un mayor numero de variedad en el rango de sus posibilidades\n",
        "test[\"ESTU_PRGM_ACADEMICO\"].value_counts()"
      ],
      "metadata": {
        "colab": {
          "base_uri": "https://localhost:8080/"
        },
        "id": "E9C4xhCYxmtV",
        "outputId": "fdd2143d-901d-4f40-da26-1f1ab68fe96c"
      },
      "execution_count": 17,
      "outputs": [
        {
          "output_type": "execute_result",
          "data": {
            "text/plain": [
              "ESTU_PRGM_ACADEMICO\n",
              "DERECHO                                                                22984\n",
              "ADMINISTRACION DE EMPRESAS                                             22298\n",
              "CONTADURIA PUBLICA                                                     16861\n",
              "PSICOLOGIA                                                             13818\n",
              "INGENIERIA INDUSTRIAL                                                  12516\n",
              "                                                                       ...  \n",
              "DISEÑO Y GESTIÓN DEL PRODUCTO                                              1\n",
              "LICENCIATURA EN EDUCACION BASICA CON ENFASIS EN IDIOMAS EXTRANJEROS        1\n",
              "ADMINISTRACION TECNOLOGICA                                                 1\n",
              "LICENCIATURA EN EDUCACION ENFASIS EN HUMANIDADES                           1\n",
              "AGROINDUSTRIA                                                              1\n",
              "Name: count, Length: 919, dtype: int64"
            ]
          },
          "metadata": {},
          "execution_count": 17
        }
      ]
    },
    {
      "cell_type": "code",
      "source": [
        "!pip install unidecode"
      ],
      "metadata": {
        "colab": {
          "base_uri": "https://localhost:8080/"
        },
        "id": "ZiQ11drvyFwR",
        "outputId": "37b02e92-6536-43a2-a5e8-439b36699fc7"
      },
      "execution_count": 18,
      "outputs": [
        {
          "output_type": "stream",
          "name": "stdout",
          "text": [
            "Collecting unidecode\n",
            "  Downloading Unidecode-1.3.8-py3-none-any.whl (235 kB)\n",
            "\u001b[?25l     \u001b[90m━━━━━━━━━━━━━━━━━━━━━━━━━━━━━━━━━━━━━━━━\u001b[0m \u001b[32m0.0/235.5 kB\u001b[0m \u001b[31m?\u001b[0m eta \u001b[36m-:--:--\u001b[0m\r\u001b[2K     \u001b[91m━━━━━━━━━━━━━━━━━━━━━━━━\u001b[0m\u001b[90m╺\u001b[0m\u001b[90m━━━━━━━━━━━━━━━\u001b[0m \u001b[32m143.4/235.5 kB\u001b[0m \u001b[31m4.0 MB/s\u001b[0m eta \u001b[36m0:00:01\u001b[0m\r\u001b[2K     \u001b[90m━━━━━━━━━━━━━━━━━━━━━━━━━━━━━━━━━━━━━━━━\u001b[0m \u001b[32m235.5/235.5 kB\u001b[0m \u001b[31m4.0 MB/s\u001b[0m eta \u001b[36m0:00:00\u001b[0m\n",
            "\u001b[?25hInstalling collected packages: unidecode\n",
            "Successfully installed unidecode-1.3.8\n"
          ]
        }
      ]
    },
    {
      "cell_type": "code",
      "source": [
        "from unidecode import unidecode\n",
        "import re\n",
        "\n",
        "test['ESTU_PRGM_ACADEMICO'] = test['ESTU_PRGM_ACADEMICO'].str.upper() # Todo mayúsculas\n",
        "test['ESTU_PRGM_ACADEMICO'] = test['ESTU_PRGM_ACADEMICO'].apply(lambda x: unidecode(x).strip()) # Eliminar tildes\n",
        "test['ESTU_PRGM_ACADEMICO'] = test['ESTU_PRGM_ACADEMICO'].apply(lambda x: re.sub(r'\\s+', ' ',x).strip()) # Eliminar dobles espacios\n",
        "test['ESTU_PRGM_ACADEMICO'] = test['ESTU_PRGM_ACADEMICO'].apply(lambda x: re.sub(r'^PROFESIONAL EN\\s+', '', x).strip()) # \"PROFESIONAL EN ...\" redundante\n",
        "test['ESTU_PRGM_ACADEMICO'] = test['ESTU_PRGM_ACADEMICO'].replace(r'INGENIER\\?A', 'INGENIERIA', regex=True)\n",
        "test['ESTU_PRGM_ACADEMICO'] = test['ESTU_PRGM_ACADEMICO'].replace(r'INGENIIERIA', 'INGENIERIA', regex=True)\n",
        "test['ESTU_PRGM_ACADEMICO'] = test['ESTU_PRGM_ACADEMICO'].replace(r'EDUCACI\\?N\\b', 'EDUCACION', regex=True)\n",
        "test['ESTU_PRGM_ACADEMICO'] = test['ESTU_PRGM_ACADEMICO'].replace(r'RECREACI\\?N\\b', 'RECREACION', regex=True)\n",
        "test['ESTU_PRGM_ACADEMICO'] = test['ESTU_PRGM_ACADEMICO'].replace(r'F\\?SICA\\b', 'FISICA', regex=True)\n",
        "test['ESTU_PRGM_ACADEMICO'] = test['ESTU_PRGM_ACADEMICO'].replace(r'ESC\\?NICAS\\b', 'ESCENICAS', regex=True)\n",
        "test['ESTU_PRGM_ACADEMICO'] = test['ESTU_PRGM_ACADEMICO'].replace(r'MATEM\\?TICAS\\b', 'MATEMATICAS', regex=True)\n",
        "test['ESTU_PRGM_ACADEMICO'] = test['ESTU_PRGM_ACADEMICO'].replace(r'FILOSOF\\?A\\b', 'FILOSOFIA', regex=True)\n",
        "test['ESTU_PRGM_ACADEMICO'] = test['ESTU_PRGM_ACADEMICO'].replace(r'DISE\\?O\\b', 'DISEÑO', regex=True)\n",
        "test['ESTU_PRGM_ACADEMICO'] = test['ESTU_PRGM_ACADEMICO'].replace(r'DISE\\?\\?O\\b', 'DISEÑO', regex=True)\n",
        "test['ESTU_PRGM_ACADEMICO'] = test['ESTU_PRGM_ACADEMICO'].replace(r'COMUNICACI\\?N\\b', 'COMUNICACION', regex=True)\n",
        "test['ESTU_PRGM_ACADEMICO'] = test['ESTU_PRGM_ACADEMICO'].replace(r'COMUNICACI\\?\\?N\\b', 'COMUNICACION', regex=True)\n",
        "test['ESTU_PRGM_ACADEMICO'] = test['ESTU_PRGM_ACADEMICO'].replace(r'GR\\?\\?FICA\\b', 'GRAFICA', regex=True)\n",
        "test['ESTU_PRGM_ACADEMICO'] = test['ESTU_PRGM_ACADEMICO'].replace(r'EL\\?CTRICA\\b', 'ELECTRICA', regex=True)\n",
        "test['ESTU_PRGM_ACADEMICO'] = test['ESTU_PRGM_ACADEMICO'].replace(r'QU\\?MICA\\b', 'QUIMICA', regex=True)\n",
        "test['ESTU_PRGM_ACADEMICO'] = test['ESTU_PRGM_ACADEMICO'].replace(r'FARMAC\\?UTICA\\b', 'FARMACEUTICA', regex=True)\n",
        "test['ESTU_PRGM_ACADEMICO'] = test['ESTU_PRGM_ACADEMICO'].replace(r'ADMINISTRACI\\?N\\b', 'ADMINISTRACION', regex=True)\n",
        "test['ESTU_PRGM_ACADEMICO'] = test['ESTU_PRGM_ACADEMICO'].replace(r'P\\?BLICA\\b', 'PUBLICA', regex=True)\n",
        "test['ESTU_PRGM_ACADEMICO'] = test['ESTU_PRGM_ACADEMICO'].replace(r'INGL\\?S\\b', 'INGLES', regex=True)\n",
        "test['ESTU_PRGM_ACADEMICO'] = test['ESTU_PRGM_ACADEMICO'].replace(r'\\?NFASIS\\b', 'ENFASIS', regex=True)\n",
        "test['ESTU_PRGM_ACADEMICO'] = test['ESTU_PRGM_ACADEMICO'].replace(r'GESTI\\?N\\b', 'GESTION', regex=True)\n",
        "test['ESTU_PRGM_ACADEMICO'] = test['ESTU_PRGM_ACADEMICO'].replace(r'M\\?SICA\\b', 'MUSICA', regex=True)\n",
        "test['ESTU_PRGM_ACADEMICO'] = test['ESTU_PRGM_ACADEMICO'].replace(r'ECONOM\\?A\\b', 'ECONOMIA', regex=True)\n",
        "test['ESTU_PRGM_ACADEMICO'] = test['ESTU_PRGM_ACADEMICO'].replace(r'GASTRONOM\\?A\\b', 'GASTRONOMIA', regex=True)\n",
        "test['ESTU_PRGM_ACADEMICO'] = test['ESTU_PRGM_ACADEMICO'].replace(r'B\\?SICA\\b', 'BASICA', regex=True)\n",
        "test['ESTU_PRGM_ACADEMICO'] = test['ESTU_PRGM_ACADEMICO'].replace(r'GEOLOG\\?A\\b', 'GEOLOGIA', regex=True)\n",
        "test['ESTU_PRGM_ACADEMICO'] = test['ESTU_PRGM_ACADEMICO'].replace(r'PEDAGOG\\?A\\b', 'PEDAGOGIA', regex=True)\n",
        "test['ESTU_PRGM_ACADEMICO'] = test['ESTU_PRGM_ACADEMICO'].replace(r'ART\\?STICA\\b', 'ARTISTICA', regex=True)\n",
        "test['ESTU_PRGM_ACADEMICO'] = test['ESTU_PRGM_ACADEMICO'].replace(r'LOG\\?STICA\\b', 'LOGISTICA', regex=True)\n",
        "# Reemplazar cualquier coincidencia de \"{NOMBRE + AGG} ...\" solo por \"{NOMBRE} mas general\"\n",
        "test['ESTU_PRGM_ACADEMICO'] = test['ESTU_PRGM_ACADEMICO'].replace(r'.*INGENIERIA.*', 'INGENIERIA', regex=True)\n",
        "test['ESTU_PRGM_ACADEMICO'] = test['ESTU_PRGM_ACADEMICO'].replace(r'ADMINISTRACION.*', 'ADMINISTRACION', regex=True)\n",
        "test['ESTU_PRGM_ACADEMICO'] = test['ESTU_PRGM_ACADEMICO'].replace(r'DISEÑO.*', 'DISEÑO', regex=True)\n",
        "test['ESTU_PRGM_ACADEMICO'] = test['ESTU_PRGM_ACADEMICO'].replace(r'DISENO.*', 'DISEÑO', regex=True)\n",
        "test['ESTU_PRGM_ACADEMICO'] = test['ESTU_PRGM_ACADEMICO'].replace(r'LICENCIATURA.*', 'LICENCIATURA', regex=True)\n",
        "test['ESTU_PRGM_ACADEMICO'] = test['ESTU_PRGM_ACADEMICO'].replace(r'CIENCIA.*', 'CIENCIAS', regex=True)\n",
        "test['ESTU_PRGM_ACADEMICO'] = test['ESTU_PRGM_ACADEMICO'].replace(r'COMUNICACION.*', 'COMUNICACION', regex=True)\n",
        "test['ESTU_PRGM_ACADEMICO'] = test['ESTU_PRGM_ACADEMICO'].replace(r'GESTION.*', 'GESTION', regex=True)\n",
        "test['ESTU_PRGM_ACADEMICO'] = test['ESTU_PRGM_ACADEMICO'].replace(r'FILOSOFIA.*', 'FILOSOFIA', regex=True)\n",
        "test['ESTU_PRGM_ACADEMICO'] = test['ESTU_PRGM_ACADEMICO'].replace(r'QUIMICA.*', 'QUIMICA', regex=True)\n",
        "test['ESTU_PRGM_ACADEMICO'] = test['ESTU_PRGM_ACADEMICO'].replace(r'NEGOCIOS.*', 'NEGOCIOS', regex=True)\n",
        "test['ESTU_PRGM_ACADEMICO'] = test['ESTU_PRGM_ACADEMICO'].replace(r'.*MERCAD.*', 'MERCADEO', regex=True)\n",
        "test['ESTU_PRGM_ACADEMICO'] = test['ESTU_PRGM_ACADEMICO'].replace(r'MATEMATICAS.*', 'MATEMATICAS', regex=True)\n",
        "test['ESTU_PRGM_ACADEMICO'] = test['ESTU_PRGM_ACADEMICO'].replace(r'.*ARTE.*', 'ARTES', regex=True)\n",
        "test['ESTU_PRGM_ACADEMICO'] = test['ESTU_PRGM_ACADEMICO'].replace(r'ESTUDIOS.*', 'ESTUDIOS', regex=True)\n",
        "test['ESTU_PRGM_ACADEMICO'] = test['ESTU_PRGM_ACADEMICO'].replace(r'FINANZAS.*', 'FINANZAS', regex=True)\n",
        "test['ESTU_PRGM_ACADEMICO'] = test['ESTU_PRGM_ACADEMICO'].replace(r'CONSTRUCCION.*', 'CONSTRUCCION', regex=True)\n",
        "test['ESTU_PRGM_ACADEMICO'] = test['ESTU_PRGM_ACADEMICO'].replace(r'DIRECCION.*', 'DIRECCION', regex=True)\n",
        "test['ESTU_PRGM_ACADEMICO'] = test['ESTU_PRGM_ACADEMICO'].replace(r'RELACIONES.*', 'RELACIONES', regex=True)\n",
        "test['ESTU_PRGM_ACADEMICO'] = test['ESTU_PRGM_ACADEMICO'].replace(r'GEO.*', 'GEOGRAFIA', regex=True)\n",
        "test['ESTU_PRGM_ACADEMICO'] = test['ESTU_PRGM_ACADEMICO'].replace(r'PROFESIONAL.*', 'PROFESIONAL', regex=True)\n",
        "test['ESTU_PRGM_ACADEMICO'] = test['ESTU_PRGM_ACADEMICO'].replace(r'LENG.*', 'LENGUAS', regex=True)\n",
        "test['ESTU_PRGM_ACADEMICO'] = test['ESTU_PRGM_ACADEMICO'].replace(r'ADMIN.*', 'ADMINISTRACION', regex=True)\n",
        "test['ESTU_PRGM_ACADEMICO'] = test['ESTU_PRGM_ACADEMICO'].replace(r'.*DEPORT.*', 'DEPORTE', regex=True)\n",
        "test['ESTU_PRGM_ACADEMICO'] = test['ESTU_PRGM_ACADEMICO'].replace(r'.*BIOLOGIA.*', 'BIOLOGIA', regex=True)\n",
        "test['ESTU_PRGM_ACADEMICO'] = test['ESTU_PRGM_ACADEMICO'].replace(r'CINE.*', 'CINE', regex=True)\n",
        "test['ESTU_PRGM_ACADEMICO'] = test['ESTU_PRGM_ACADEMICO'].replace(r'CONTADURIA.*', 'CONTADURIA', regex=True)\n",
        "test['ESTU_PRGM_ACADEMICO'] = test['ESTU_PRGM_ACADEMICO'].replace(r'COMERCIO.*', 'COMERCIO', regex=True)\n",
        "test['ESTU_PRGM_ACADEMICO'] = test['ESTU_PRGM_ACADEMICO'].replace(r'.*LITERA.*', 'LITERATURA', regex=True)\n",
        "test['ESTU_PRGM_ACADEMICO'] = test['ESTU_PRGM_ACADEMICO'].replace(r'.*FILOL.*', 'FILOLOGIA', regex=True)\n",
        "test['ESTU_PRGM_ACADEMICO'] = test['ESTU_PRGM_ACADEMICO'].replace(r'PUBLICI.*', 'PUBLICIDAD', regex=True)\n",
        "test['ESTU_PRGM_ACADEMICO'] = test['ESTU_PRGM_ACADEMICO'].replace(r'MARK.*', 'MERCADEO', regex=True)\n",
        "test['ESTU_PRGM_ACADEMICO'] = test['ESTU_PRGM_ACADEMICO'].replace(r'HISTORIA.*', 'HISTORIA', regex=True)\n",
        "test['ESTU_PRGM_ACADEMICO'] = test['ESTU_PRGM_ACADEMICO'].replace(r'.*MUSICA.*', 'MUSICA', regex=True)\n",
        "test['ESTU_PRGM_ACADEMICO'] = test['ESTU_PRGM_ACADEMICO'].replace(r'.*VETE.*', 'VETERINARIA', regex=True)\n",
        "test['ESTU_PRGM_ACADEMICO'] = test['ESTU_PRGM_ACADEMICO'].replace(r'.*ZOO.*', 'VETERINARIA', regex=True)\n",
        "test['ESTU_PRGM_ACADEMICO'] = test['ESTU_PRGM_ACADEMICO'].replace(r'.*GASTR.*', 'GASTRONOMIA', regex=True)\n",
        "test['ESTU_PRGM_ACADEMICO'] = test['ESTU_PRGM_ACADEMICO'].replace(r'.*QUIRURGICA.*', 'MEDICINA', regex=True)\n",
        "test['ESTU_PRGM_ACADEMICO'] = test['ESTU_PRGM_ACADEMICO'].replace(r'ECONO.*', 'ECONOMIA', regex=True)\n",
        "test['ESTU_PRGM_ACADEMICO'] = test['ESTU_PRGM_ACADEMICO'].replace(r'GEREN.*', 'GERENCIA', regex=True)\n",
        "test['ESTU_PRGM_ACADEMICO'] = test['ESTU_PRGM_ACADEMICO'].replace(r'HOTELERIA.*', 'HOTELERIA', regex=True)\n",
        "test['ESTU_PRGM_ACADEMICO'] = test['ESTU_PRGM_ACADEMICO'].replace(r'.*PSICOLO.*', 'PSICOLOGIA', regex=True)\n",
        "test['ESTU_PRGM_ACADEMICO'] = test['ESTU_PRGM_ACADEMICO'].replace(r'.*AGRO.*', 'AGRONOMIA', regex=True)"
      ],
      "metadata": {
        "id": "42-xnnLZyFuB"
      },
      "execution_count": 19,
      "outputs": []
    },
    {
      "cell_type": "markdown",
      "source": [
        "Lo que se hizo fue reducir el rango de las columna 'ESTU_PRGM_ACADEMICO', para que se generan muchas columnas al aplicar Codificación, mayormente llenas de ceros"
      ],
      "metadata": {
        "id": "MAHxlX0GyTDC"
      }
    },
    {
      "cell_type": "code",
      "source": [
        "len(test['ESTU_PRGM_ACADEMICO'].unique())"
      ],
      "metadata": {
        "colab": {
          "base_uri": "https://localhost:8080/"
        },
        "id": "-oAQiO9wyFpZ",
        "outputId": "67dc4c8d-55e0-42bd-bcca-6771fde99335"
      },
      "execution_count": 20,
      "outputs": [
        {
          "output_type": "execute_result",
          "data": {
            "text/plain": [
              "109"
            ]
          },
          "metadata": {},
          "execution_count": 20
        }
      ]
    },
    {
      "cell_type": "code",
      "source": [
        "carreras_agrupadas = ['INGENIERIA','ADMINISTRACION','DISEÑO','LICENCIATURA','CIENCIAS','COMUNICACION','GESTION','FILOSOFIA','QUIMICA','NEGOCIOS','MERCADEO',\n",
        "                       'MATEMATICAS','ARTES','ESTUDIOS','FINANZAS','CONSTRUCCION','DIRECCION','RELACIONES','GEOGRAFIA','PROFESIONAL','LENGUAS', 'DEPORTE'\n",
        "                       'BIOLOGIA','CINE','CONTADURIA','COMERCIO','LITERATURA','FILOLOGIA','PUBLICIDAD','HISTORIA','MUSICA','VETERINARIA','GATRONOMIA'\n",
        "                       'MEDICINA', 'ECONOMIA','GERENCIA','HOTELERIA','PSICOLOGIA','AGRONOMIA']\n",
        "len(carreras_agrupadas)"
      ],
      "metadata": {
        "colab": {
          "base_uri": "https://localhost:8080/"
        },
        "id": "z0-lIN8FymZ7",
        "outputId": "6b7eec27-63c3-409f-e88a-c28aa009e691"
      },
      "execution_count": 21,
      "outputs": [
        {
          "output_type": "execute_result",
          "data": {
            "text/plain": [
              "37"
            ]
          },
          "metadata": {},
          "execution_count": 21
        }
      ]
    },
    {
      "cell_type": "code",
      "source": [
        "carreras_sobrantes = [elem for elem in test['ESTU_PRGM_ACADEMICO'] if elem not in carreras_agrupadas]\n",
        "\n",
        "condicion = test['ESTU_PRGM_ACADEMICO'].isin(carreras_sobrantes)\n",
        "test.loc[condicion, 'ESTU_PRGM_ACADEMICO'] = 'Otras'\n"
      ],
      "metadata": {
        "id": "QViO5qbqyFnJ"
      },
      "execution_count": 22,
      "outputs": []
    },
    {
      "cell_type": "code",
      "source": [
        "academico=test['ESTU_PRGM_ACADEMICO'].unique()\n",
        "len(academico)\n",
        "#academico"
      ],
      "metadata": {
        "colab": {
          "base_uri": "https://localhost:8080/"
        },
        "id": "rEd_sMcOyFk4",
        "outputId": "049c25ce-4016-431f-be7e-4d2dfe481ec5"
      },
      "execution_count": 23,
      "outputs": [
        {
          "output_type": "execute_result",
          "data": {
            "text/plain": [
              "36"
            ]
          },
          "metadata": {},
          "execution_count": 23
        }
      ]
    },
    {
      "cell_type": "code",
      "source": [
        "##CODIFICAR PRGM ACADEMICO\n",
        "#crear la instancia de OneHotEncoder\n",
        "encode = OneHotEncoder()\n",
        "\n",
        "#Trabaja con dataframes, no series\n",
        "codificadorPr = encode.fit_transform(test[['ESTU_PRGM_ACADEMICO']])\n",
        "#generar codificacion\n",
        "\n",
        "arregloPr = codificadorPr.toarray()\n",
        "programa = pd.DataFrame(arregloPr,\n",
        "                       columns = encode.categories_)\n",
        "test = pd.concat([test, programa], axis = 'columns')\n",
        "test = test.drop('ESTU_PRGM_ACADEMICO', axis=1)"
      ],
      "metadata": {
        "id": "5R6GD_GLyFib"
      },
      "execution_count": 24,
      "outputs": []
    },
    {
      "cell_type": "markdown",
      "source": [
        "## Manejo de la columna ESTU_PRGM_DEPARTAMENTO\n",
        "Con el manejo de esta columna lo que se quiere es agrupar por regiones dichos departamentos, es decir, pasar de tener 32 tipos de departamentos, a solo cinco regiones que los agrupen"
      ],
      "metadata": {
        "id": "2UWxL14kzBL_"
      }
    },
    {
      "cell_type": "code",
      "source": [
        "test['ESTU_PRGM_DEPARTAMENTO'] = test['ESTU_PRGM_DEPARTAMENTO'].astype(str).str.replace(r'ANTIOQUIA', 'ANDINA')\n",
        "test['ESTU_PRGM_DEPARTAMENTO'] = test['ESTU_PRGM_DEPARTAMENTO'].astype(str).str.replace(r'BOYACA', 'ANDINA')\n",
        "test['ESTU_PRGM_DEPARTAMENTO'] = test['ESTU_PRGM_DEPARTAMENTO'].astype(str).str.replace(r'BOGOTÁ', 'ANDINA')\n",
        "test['ESTU_PRGM_DEPARTAMENTO'] = test['ESTU_PRGM_DEPARTAMENTO'].astype(str).str.replace(r'CALDAS', 'ANDINA')\n",
        "test['ESTU_PRGM_DEPARTAMENTO'] = test['ESTU_PRGM_DEPARTAMENTO'].astype(str).str.replace(r'CUNDINAMARCA', 'ANDINA')\n",
        "test['ESTU_PRGM_DEPARTAMENTO'] = test['ESTU_PRGM_DEPARTAMENTO'].astype(str).str.replace(r'HUILA', 'ANDINA')\n",
        "test['ESTU_PRGM_DEPARTAMENTO'] = test['ESTU_PRGM_DEPARTAMENTO'].astype(str).str.replace(r'NORTE SANTANDER', 'ANDINA')\n",
        "test['ESTU_PRGM_DEPARTAMENTO'] = test['ESTU_PRGM_DEPARTAMENTO'].astype(str).str.replace(r'QUINDIO', 'ANDINA')\n",
        "test['ESTU_PRGM_DEPARTAMENTO'] = test['ESTU_PRGM_DEPARTAMENTO'].astype(str).str.replace(r'RISARALDA', 'ANDINA')\n",
        "test['ESTU_PRGM_DEPARTAMENTO'] = test['ESTU_PRGM_DEPARTAMENTO'].astype(str).str.replace(r'SANTANDER', 'ANDINA')\n",
        "test['ESTU_PRGM_DEPARTAMENTO'] = test['ESTU_PRGM_DEPARTAMENTO'].astype(str).str.replace(r'TOLIMA', 'ANDINA')\n",
        "test['ESTU_PRGM_DEPARTAMENTO'] = test['ESTU_PRGM_DEPARTAMENTO'].astype(str).str.replace(r'AMAZONAS', 'AMAZONA')\n",
        "test['ESTU_PRGM_DEPARTAMENTO'] = test['ESTU_PRGM_DEPARTAMENTO'].astype(str).str.replace(r'CAQUETA', 'AMAZONA')\n",
        "test['ESTU_PRGM_DEPARTAMENTO'] = test['ESTU_PRGM_DEPARTAMENTO'].astype(str).str.replace(r'VAUPES', 'AMAZONA')\n",
        "test['ESTU_PRGM_DEPARTAMENTO'] = test['ESTU_PRGM_DEPARTAMENTO'].astype(str).str.replace(r'GUAVIARE', 'AMAZONA')\n",
        "test['ESTU_PRGM_DEPARTAMENTO'] = test['ESTU_PRGM_DEPARTAMENTO'].astype(str).str.replace(r'PUTUMAYO', 'AMAZONA')\n",
        "test['ESTU_PRGM_DEPARTAMENTO'] = test['ESTU_PRGM_DEPARTAMENTO'].astype(str).str.replace(r'VALLE', 'PACIFICA')\n",
        "test['ESTU_PRGM_DEPARTAMENTO'] = test['ESTU_PRGM_DEPARTAMENTO'].astype(str).str.replace(r'CHOCO', 'PACIFICA')\n",
        "test['ESTU_PRGM_DEPARTAMENTO'] = test['ESTU_PRGM_DEPARTAMENTO'].astype(str).str.replace(r'CAUCA', 'PACIFICA')\n",
        "test['ESTU_PRGM_DEPARTAMENTO'] = test['ESTU_PRGM_DEPARTAMENTO'].astype(str).str.replace(r'NARIÑO', 'PACIFICA')\n",
        "test['ESTU_PRGM_DEPARTAMENTO'] = test['ESTU_PRGM_DEPARTAMENTO'].astype(str).str.replace(r'ATLANTICO', 'CARIBE')\n",
        "test['ESTU_PRGM_DEPARTAMENTO'] = test['ESTU_PRGM_DEPARTAMENTO'].astype(str).str.replace(r'BOLIVAR', 'CARIBE')\n",
        "test['ESTU_PRGM_DEPARTAMENTO'] = test['ESTU_PRGM_DEPARTAMENTO'].astype(str).str.replace(r'CESAR', 'CARIBE')\n",
        "test['ESTU_PRGM_DEPARTAMENTO'] = test['ESTU_PRGM_DEPARTAMENTO'].astype(str).str.replace(r'CORDOBA', 'CARIBE')\n",
        "test['ESTU_PRGM_DEPARTAMENTO'] = test['ESTU_PRGM_DEPARTAMENTO'].astype(str).str.replace(r'LA GUAJIRA', 'CARIBE')\n",
        "test['ESTU_PRGM_DEPARTAMENTO'] = test['ESTU_PRGM_DEPARTAMENTO'].astype(str).str.replace(r'MAGDALENA', 'CARIBE')\n",
        "test['ESTU_PRGM_DEPARTAMENTO'] = test['ESTU_PRGM_DEPARTAMENTO'].astype(str).str.replace(r'SUCRE', 'CARIBE')\n",
        "test['ESTU_PRGM_DEPARTAMENTO'] = test['ESTU_PRGM_DEPARTAMENTO'].astype(str).str.replace(r'SAN ANDRES', 'CARIBE')\n",
        "test['ESTU_PRGM_DEPARTAMENTO'] = test['ESTU_PRGM_DEPARTAMENTO'].astype(str).str.replace(r'ARAUCA', 'ORINOQUIA')\n",
        "test['ESTU_PRGM_DEPARTAMENTO'] = test['ESTU_PRGM_DEPARTAMENTO'].astype(str).str.replace(r'CASANARE', 'ORINOQUIA')\n",
        "test['ESTU_PRGM_DEPARTAMENTO'] = test['ESTU_PRGM_DEPARTAMENTO'].astype(str).str.replace(r'META', 'ORINOQUIA')\n",
        "test['ESTU_PRGM_DEPARTAMENTO'] = test['ESTU_PRGM_DEPARTAMENTO'].astype(str).str.replace(r'VICHADA', 'ORINOQUIA')"
      ],
      "metadata": {
        "id": "8m-ELGQXyFgD"
      },
      "execution_count": 25,
      "outputs": []
    },
    {
      "cell_type": "code",
      "source": [
        "test['ESTU_PRGM_DEPARTAMENTO'].unique()"
      ],
      "metadata": {
        "colab": {
          "base_uri": "https://localhost:8080/"
        },
        "id": "Jz4wQXFGyFfT",
        "outputId": "ff99e7b8-14a8-4c86-9f34-f2d71c627337"
      },
      "execution_count": 26,
      "outputs": [
        {
          "output_type": "execute_result",
          "data": {
            "text/plain": [
              "array(['CARIBE', 'ANDINA', 'PACIFICA', 'ORINOQUIA', 'AMAZONA'],\n",
              "      dtype=object)"
            ]
          },
          "metadata": {},
          "execution_count": 26
        }
      ]
    },
    {
      "cell_type": "code",
      "source": [
        "##CODIFICAR PRGM DEPARTAMENTO\n",
        "#crear la instancia de OneHotEncoder\n",
        "encode = OneHotEncoder()\n",
        "\n",
        "#Trabaja con dataframes, no series\n",
        "codificadorDepto = encode.fit_transform(test[['ESTU_PRGM_DEPARTAMENTO']])\n",
        "#generar codificacion\n",
        "\n",
        "arregloDepto = codificadorDepto.toarray()\n",
        "departamento = pd.DataFrame(arregloDepto,\n",
        "                       columns = encode.categories_)\n",
        "#Suma de dataframes\n",
        "test = pd.concat([test, departamento], axis = 'columns')\n",
        "test = test.drop('ESTU_PRGM_DEPARTAMENTO', axis=1)"
      ],
      "metadata": {
        "id": "neNK0LiLyFcx"
      },
      "execution_count": 27,
      "outputs": []
    },
    {
      "cell_type": "markdown",
      "source": [
        "## Manejo de la columna ESTU_VALORMATRICULAUNIVERSIDAD\n",
        "La columna presenta una posibilidad de 8 valores a la hroa de elegir cualquier registro y 6287 datos son nulos"
      ],
      "metadata": {
        "id": "N4owxnGpzRsp"
      }
    },
    {
      "cell_type": "code",
      "source": [
        "test['ESTU_VALORMATRICULAUNIVERSIDAD'].value_counts()"
      ],
      "metadata": {
        "colab": {
          "base_uri": "https://localhost:8080/"
        },
        "id": "PA221dJszT6y",
        "outputId": "f71806bf-4046-4a2a-f60f-aff716f3605a"
      },
      "execution_count": 28,
      "outputs": [
        {
          "output_type": "execute_result",
          "data": {
            "text/plain": [
              "ESTU_VALORMATRICULAUNIVERSIDAD\n",
              "Entre 1 millón y menos de 2.5 millones      86923\n",
              "Entre 2.5 millones y menos de 4 millones    55193\n",
              "Menos de 500 mil                            34589\n",
              "Entre 500 mil y menos de 1 millón           33564\n",
              "Entre 4 millones y menos de 5.5 millones    29855\n",
              "Más de 7 millones                           29061\n",
              "Entre 5.5 millones y menos de 7 millones    16558\n",
              "No pagó matrícula                            8320\n",
              "Name: count, dtype: int64"
            ]
          },
          "metadata": {},
          "execution_count": 28
        }
      ]
    },
    {
      "cell_type": "code",
      "source": [
        "test['ESTU_VALORMATRICULAUNIVERSIDAD'] = test['ESTU_VALORMATRICULAUNIVERSIDAD'].fillna('No pagó matrícula')"
      ],
      "metadata": {
        "id": "5JwcmTPtzdwK"
      },
      "execution_count": 29,
      "outputs": []
    },
    {
      "cell_type": "code",
      "source": [
        "valores_matricula = ['No pagó matrícula','Menos de 500 mil','Entre 500 mil y menos de 1 millón',\n",
        "                     'Entre 1 millón y menos de 2.5 millones',\n",
        "                     'Entre 2.5 millones y menos de 4 millones',\n",
        "                     'Entre 4 millones y menos de 5.5 millones',\n",
        "                     'Entre 5.5 millones y menos de 7 millones','Más de 7 millones']\n",
        "encode = OneHotEncoder()\n",
        "\n",
        "#Trabaja con dataframes, no series\n",
        "codificadorPr = encode.fit_transform(test[['ESTU_VALORMATRICULAUNIVERSIDAD']])\n",
        "arregloPr = codificadorPr.toarray()\n",
        "matricula = pd.DataFrame(arregloPr,\n",
        "                       columns = encode.categories_)\n",
        "test = pd.concat([test, matricula], axis = 'columns')\n",
        "test = test.drop('ESTU_VALORMATRICULAUNIVERSIDAD',axis=1)"
      ],
      "metadata": {
        "id": "w_0e7f3izgEa"
      },
      "execution_count": 30,
      "outputs": []
    },
    {
      "cell_type": "code",
      "source": [
        "test.head()"
      ],
      "metadata": {
        "colab": {
          "base_uri": "https://localhost:8080/",
          "height": 412
        },
        "id": "mbQSgDNMz4Jt",
        "outputId": "6b2d18f5-d17b-45a0-eb7c-2126f1d56311"
      },
      "execution_count": 31,
      "outputs": [
        {
          "output_type": "execute_result",
          "data": {
            "text/plain": [
              "       ID ESTU_HORASSEMANATRABAJA FAMI_ESTRATOVIVIENDA FAMI_TIENEINTERNET  \\\n",
              "0  550236       Menos de 10 horas            Estrato 3                 Si   \n",
              "1   98545     Entre 21 y 30 horas            Estrato 2                 Si   \n",
              "2  499179                       0            Estrato 3                 Si   \n",
              "3  782980     Entre 21 y 30 horas            Estrato 1                 No   \n",
              "4  785185     Entre 11 y 20 horas            Estrato 2                 Si   \n",
              "\n",
              "                    FAMI_EDUCACIONPADRE FAMI_TIENELAVADORA  \\\n",
              "0        Técnica o tecnológica completa                 Si   \n",
              "1    Secundaria (Bachillerato) completa                 Si   \n",
              "2  Secundaria (Bachillerato) incompleta                 Si   \n",
              "3                   Primaria incompleta                 Si   \n",
              "4    Secundaria (Bachillerato) completa                 Si   \n",
              "\n",
              "  FAMI_TIENEAUTOMOVIL ESTU_PRIVADO_LIBERTAD ESTU_PAGOMATRICULAPROPIO  \\\n",
              "0                  No                     N                       Si   \n",
              "1                  No                     N                       No   \n",
              "2                  No                     N                       No   \n",
              "3                  No                     N                       No   \n",
              "4                  No                     N                       No   \n",
              "\n",
              "  FAMI_TIENECOMPUTADOR  ... (ORINOQUIA,)  (PACIFICA,)  \\\n",
              "0                   Si  ...          0.0          0.0   \n",
              "1                   Si  ...          0.0          0.0   \n",
              "2                   Si  ...          0.0          0.0   \n",
              "3                   No  ...          0.0          0.0   \n",
              "4                   Si  ...          0.0          0.0   \n",
              "\n",
              "   (Entre 1 millón y menos de 2.5 millones,)  \\\n",
              "0                                        0.0   \n",
              "1                                        0.0   \n",
              "2                                        1.0   \n",
              "3                                        1.0   \n",
              "4                                        0.0   \n",
              "\n",
              "   (Entre 2.5 millones y menos de 4 millones,)  \\\n",
              "0                                          0.0   \n",
              "1                                          1.0   \n",
              "2                                          0.0   \n",
              "3                                          0.0   \n",
              "4                                          1.0   \n",
              "\n",
              "   (Entre 4 millones y menos de 5.5 millones,)  \\\n",
              "0                                          0.0   \n",
              "1                                          0.0   \n",
              "2                                          0.0   \n",
              "3                                          0.0   \n",
              "4                                          0.0   \n",
              "\n",
              "   (Entre 5.5 millones y menos de 7 millones,)  \\\n",
              "0                                          0.0   \n",
              "1                                          0.0   \n",
              "2                                          0.0   \n",
              "3                                          0.0   \n",
              "4                                          0.0   \n",
              "\n",
              "   (Entre 500 mil y menos de 1 millón,)  (Menos de 500 mil,)  \\\n",
              "0                                   0.0                  1.0   \n",
              "1                                   0.0                  0.0   \n",
              "2                                   0.0                  0.0   \n",
              "3                                   0.0                  0.0   \n",
              "4                                   0.0                  0.0   \n",
              "\n",
              "   (Más de 7 millones,)  (No pagó matrícula,)  \n",
              "0                   0.0                   0.0  \n",
              "1                   0.0                   0.0  \n",
              "2                   0.0                   0.0  \n",
              "3                   0.0                   0.0  \n",
              "4                   0.0                   0.0  \n",
              "\n",
              "[5 rows x 64 columns]"
            ],
            "text/html": [
              "\n",
              "  <div id=\"df-6b6601ec-3e4c-461b-bf44-832f37593f08\" class=\"colab-df-container\">\n",
              "    <div>\n",
              "<style scoped>\n",
              "    .dataframe tbody tr th:only-of-type {\n",
              "        vertical-align: middle;\n",
              "    }\n",
              "\n",
              "    .dataframe tbody tr th {\n",
              "        vertical-align: top;\n",
              "    }\n",
              "\n",
              "    .dataframe thead th {\n",
              "        text-align: right;\n",
              "    }\n",
              "</style>\n",
              "<table border=\"1\" class=\"dataframe\">\n",
              "  <thead>\n",
              "    <tr style=\"text-align: right;\">\n",
              "      <th></th>\n",
              "      <th>ID</th>\n",
              "      <th>ESTU_HORASSEMANATRABAJA</th>\n",
              "      <th>FAMI_ESTRATOVIVIENDA</th>\n",
              "      <th>FAMI_TIENEINTERNET</th>\n",
              "      <th>FAMI_EDUCACIONPADRE</th>\n",
              "      <th>FAMI_TIENELAVADORA</th>\n",
              "      <th>FAMI_TIENEAUTOMOVIL</th>\n",
              "      <th>ESTU_PRIVADO_LIBERTAD</th>\n",
              "      <th>ESTU_PAGOMATRICULAPROPIO</th>\n",
              "      <th>FAMI_TIENECOMPUTADOR</th>\n",
              "      <th>...</th>\n",
              "      <th>(ORINOQUIA,)</th>\n",
              "      <th>(PACIFICA,)</th>\n",
              "      <th>(Entre 1 millón y menos de 2.5 millones,)</th>\n",
              "      <th>(Entre 2.5 millones y menos de 4 millones,)</th>\n",
              "      <th>(Entre 4 millones y menos de 5.5 millones,)</th>\n",
              "      <th>(Entre 5.5 millones y menos de 7 millones,)</th>\n",
              "      <th>(Entre 500 mil y menos de 1 millón,)</th>\n",
              "      <th>(Menos de 500 mil,)</th>\n",
              "      <th>(Más de 7 millones,)</th>\n",
              "      <th>(No pagó matrícula,)</th>\n",
              "    </tr>\n",
              "  </thead>\n",
              "  <tbody>\n",
              "    <tr>\n",
              "      <th>0</th>\n",
              "      <td>550236</td>\n",
              "      <td>Menos de 10 horas</td>\n",
              "      <td>Estrato 3</td>\n",
              "      <td>Si</td>\n",
              "      <td>Técnica o tecnológica completa</td>\n",
              "      <td>Si</td>\n",
              "      <td>No</td>\n",
              "      <td>N</td>\n",
              "      <td>Si</td>\n",
              "      <td>Si</td>\n",
              "      <td>...</td>\n",
              "      <td>0.0</td>\n",
              "      <td>0.0</td>\n",
              "      <td>0.0</td>\n",
              "      <td>0.0</td>\n",
              "      <td>0.0</td>\n",
              "      <td>0.0</td>\n",
              "      <td>0.0</td>\n",
              "      <td>1.0</td>\n",
              "      <td>0.0</td>\n",
              "      <td>0.0</td>\n",
              "    </tr>\n",
              "    <tr>\n",
              "      <th>1</th>\n",
              "      <td>98545</td>\n",
              "      <td>Entre 21 y 30 horas</td>\n",
              "      <td>Estrato 2</td>\n",
              "      <td>Si</td>\n",
              "      <td>Secundaria (Bachillerato) completa</td>\n",
              "      <td>Si</td>\n",
              "      <td>No</td>\n",
              "      <td>N</td>\n",
              "      <td>No</td>\n",
              "      <td>Si</td>\n",
              "      <td>...</td>\n",
              "      <td>0.0</td>\n",
              "      <td>0.0</td>\n",
              "      <td>0.0</td>\n",
              "      <td>1.0</td>\n",
              "      <td>0.0</td>\n",
              "      <td>0.0</td>\n",
              "      <td>0.0</td>\n",
              "      <td>0.0</td>\n",
              "      <td>0.0</td>\n",
              "      <td>0.0</td>\n",
              "    </tr>\n",
              "    <tr>\n",
              "      <th>2</th>\n",
              "      <td>499179</td>\n",
              "      <td>0</td>\n",
              "      <td>Estrato 3</td>\n",
              "      <td>Si</td>\n",
              "      <td>Secundaria (Bachillerato) incompleta</td>\n",
              "      <td>Si</td>\n",
              "      <td>No</td>\n",
              "      <td>N</td>\n",
              "      <td>No</td>\n",
              "      <td>Si</td>\n",
              "      <td>...</td>\n",
              "      <td>0.0</td>\n",
              "      <td>0.0</td>\n",
              "      <td>1.0</td>\n",
              "      <td>0.0</td>\n",
              "      <td>0.0</td>\n",
              "      <td>0.0</td>\n",
              "      <td>0.0</td>\n",
              "      <td>0.0</td>\n",
              "      <td>0.0</td>\n",
              "      <td>0.0</td>\n",
              "    </tr>\n",
              "    <tr>\n",
              "      <th>3</th>\n",
              "      <td>782980</td>\n",
              "      <td>Entre 21 y 30 horas</td>\n",
              "      <td>Estrato 1</td>\n",
              "      <td>No</td>\n",
              "      <td>Primaria incompleta</td>\n",
              "      <td>Si</td>\n",
              "      <td>No</td>\n",
              "      <td>N</td>\n",
              "      <td>No</td>\n",
              "      <td>No</td>\n",
              "      <td>...</td>\n",
              "      <td>0.0</td>\n",
              "      <td>0.0</td>\n",
              "      <td>1.0</td>\n",
              "      <td>0.0</td>\n",
              "      <td>0.0</td>\n",
              "      <td>0.0</td>\n",
              "      <td>0.0</td>\n",
              "      <td>0.0</td>\n",
              "      <td>0.0</td>\n",
              "      <td>0.0</td>\n",
              "    </tr>\n",
              "    <tr>\n",
              "      <th>4</th>\n",
              "      <td>785185</td>\n",
              "      <td>Entre 11 y 20 horas</td>\n",
              "      <td>Estrato 2</td>\n",
              "      <td>Si</td>\n",
              "      <td>Secundaria (Bachillerato) completa</td>\n",
              "      <td>Si</td>\n",
              "      <td>No</td>\n",
              "      <td>N</td>\n",
              "      <td>No</td>\n",
              "      <td>Si</td>\n",
              "      <td>...</td>\n",
              "      <td>0.0</td>\n",
              "      <td>0.0</td>\n",
              "      <td>0.0</td>\n",
              "      <td>1.0</td>\n",
              "      <td>0.0</td>\n",
              "      <td>0.0</td>\n",
              "      <td>0.0</td>\n",
              "      <td>0.0</td>\n",
              "      <td>0.0</td>\n",
              "      <td>0.0</td>\n",
              "    </tr>\n",
              "  </tbody>\n",
              "</table>\n",
              "<p>5 rows × 64 columns</p>\n",
              "</div>\n",
              "    <div class=\"colab-df-buttons\">\n",
              "\n",
              "  <div class=\"colab-df-container\">\n",
              "    <button class=\"colab-df-convert\" onclick=\"convertToInteractive('df-6b6601ec-3e4c-461b-bf44-832f37593f08')\"\n",
              "            title=\"Convert this dataframe to an interactive table.\"\n",
              "            style=\"display:none;\">\n",
              "\n",
              "  <svg xmlns=\"http://www.w3.org/2000/svg\" height=\"24px\" viewBox=\"0 -960 960 960\">\n",
              "    <path d=\"M120-120v-720h720v720H120Zm60-500h600v-160H180v160Zm220 220h160v-160H400v160Zm0 220h160v-160H400v160ZM180-400h160v-160H180v160Zm440 0h160v-160H620v160ZM180-180h160v-160H180v160Zm440 0h160v-160H620v160Z\"/>\n",
              "  </svg>\n",
              "    </button>\n",
              "\n",
              "  <style>\n",
              "    .colab-df-container {\n",
              "      display:flex;\n",
              "      gap: 12px;\n",
              "    }\n",
              "\n",
              "    .colab-df-convert {\n",
              "      background-color: #E8F0FE;\n",
              "      border: none;\n",
              "      border-radius: 50%;\n",
              "      cursor: pointer;\n",
              "      display: none;\n",
              "      fill: #1967D2;\n",
              "      height: 32px;\n",
              "      padding: 0 0 0 0;\n",
              "      width: 32px;\n",
              "    }\n",
              "\n",
              "    .colab-df-convert:hover {\n",
              "      background-color: #E2EBFA;\n",
              "      box-shadow: 0px 1px 2px rgba(60, 64, 67, 0.3), 0px 1px 3px 1px rgba(60, 64, 67, 0.15);\n",
              "      fill: #174EA6;\n",
              "    }\n",
              "\n",
              "    .colab-df-buttons div {\n",
              "      margin-bottom: 4px;\n",
              "    }\n",
              "\n",
              "    [theme=dark] .colab-df-convert {\n",
              "      background-color: #3B4455;\n",
              "      fill: #D2E3FC;\n",
              "    }\n",
              "\n",
              "    [theme=dark] .colab-df-convert:hover {\n",
              "      background-color: #434B5C;\n",
              "      box-shadow: 0px 1px 3px 1px rgba(0, 0, 0, 0.15);\n",
              "      filter: drop-shadow(0px 1px 2px rgba(0, 0, 0, 0.3));\n",
              "      fill: #FFFFFF;\n",
              "    }\n",
              "  </style>\n",
              "\n",
              "    <script>\n",
              "      const buttonEl =\n",
              "        document.querySelector('#df-6b6601ec-3e4c-461b-bf44-832f37593f08 button.colab-df-convert');\n",
              "      buttonEl.style.display =\n",
              "        google.colab.kernel.accessAllowed ? 'block' : 'none';\n",
              "\n",
              "      async function convertToInteractive(key) {\n",
              "        const element = document.querySelector('#df-6b6601ec-3e4c-461b-bf44-832f37593f08');\n",
              "        const dataTable =\n",
              "          await google.colab.kernel.invokeFunction('convertToInteractive',\n",
              "                                                    [key], {});\n",
              "        if (!dataTable) return;\n",
              "\n",
              "        const docLinkHtml = 'Like what you see? Visit the ' +\n",
              "          '<a target=\"_blank\" href=https://colab.research.google.com/notebooks/data_table.ipynb>data table notebook</a>'\n",
              "          + ' to learn more about interactive tables.';\n",
              "        element.innerHTML = '';\n",
              "        dataTable['output_type'] = 'display_data';\n",
              "        await google.colab.output.renderOutput(dataTable, element);\n",
              "        const docLink = document.createElement('div');\n",
              "        docLink.innerHTML = docLinkHtml;\n",
              "        element.appendChild(docLink);\n",
              "      }\n",
              "    </script>\n",
              "  </div>\n",
              "\n",
              "\n",
              "<div id=\"df-acffa6af-c57a-4106-ad32-f2ff1ebab40d\">\n",
              "  <button class=\"colab-df-quickchart\" onclick=\"quickchart('df-acffa6af-c57a-4106-ad32-f2ff1ebab40d')\"\n",
              "            title=\"Suggest charts\"\n",
              "            style=\"display:none;\">\n",
              "\n",
              "<svg xmlns=\"http://www.w3.org/2000/svg\" height=\"24px\"viewBox=\"0 0 24 24\"\n",
              "     width=\"24px\">\n",
              "    <g>\n",
              "        <path d=\"M19 3H5c-1.1 0-2 .9-2 2v14c0 1.1.9 2 2 2h14c1.1 0 2-.9 2-2V5c0-1.1-.9-2-2-2zM9 17H7v-7h2v7zm4 0h-2V7h2v10zm4 0h-2v-4h2v4z\"/>\n",
              "    </g>\n",
              "</svg>\n",
              "  </button>\n",
              "\n",
              "<style>\n",
              "  .colab-df-quickchart {\n",
              "      --bg-color: #E8F0FE;\n",
              "      --fill-color: #1967D2;\n",
              "      --hover-bg-color: #E2EBFA;\n",
              "      --hover-fill-color: #174EA6;\n",
              "      --disabled-fill-color: #AAA;\n",
              "      --disabled-bg-color: #DDD;\n",
              "  }\n",
              "\n",
              "  [theme=dark] .colab-df-quickchart {\n",
              "      --bg-color: #3B4455;\n",
              "      --fill-color: #D2E3FC;\n",
              "      --hover-bg-color: #434B5C;\n",
              "      --hover-fill-color: #FFFFFF;\n",
              "      --disabled-bg-color: #3B4455;\n",
              "      --disabled-fill-color: #666;\n",
              "  }\n",
              "\n",
              "  .colab-df-quickchart {\n",
              "    background-color: var(--bg-color);\n",
              "    border: none;\n",
              "    border-radius: 50%;\n",
              "    cursor: pointer;\n",
              "    display: none;\n",
              "    fill: var(--fill-color);\n",
              "    height: 32px;\n",
              "    padding: 0;\n",
              "    width: 32px;\n",
              "  }\n",
              "\n",
              "  .colab-df-quickchart:hover {\n",
              "    background-color: var(--hover-bg-color);\n",
              "    box-shadow: 0 1px 2px rgba(60, 64, 67, 0.3), 0 1px 3px 1px rgba(60, 64, 67, 0.15);\n",
              "    fill: var(--button-hover-fill-color);\n",
              "  }\n",
              "\n",
              "  .colab-df-quickchart-complete:disabled,\n",
              "  .colab-df-quickchart-complete:disabled:hover {\n",
              "    background-color: var(--disabled-bg-color);\n",
              "    fill: var(--disabled-fill-color);\n",
              "    box-shadow: none;\n",
              "  }\n",
              "\n",
              "  .colab-df-spinner {\n",
              "    border: 2px solid var(--fill-color);\n",
              "    border-color: transparent;\n",
              "    border-bottom-color: var(--fill-color);\n",
              "    animation:\n",
              "      spin 1s steps(1) infinite;\n",
              "  }\n",
              "\n",
              "  @keyframes spin {\n",
              "    0% {\n",
              "      border-color: transparent;\n",
              "      border-bottom-color: var(--fill-color);\n",
              "      border-left-color: var(--fill-color);\n",
              "    }\n",
              "    20% {\n",
              "      border-color: transparent;\n",
              "      border-left-color: var(--fill-color);\n",
              "      border-top-color: var(--fill-color);\n",
              "    }\n",
              "    30% {\n",
              "      border-color: transparent;\n",
              "      border-left-color: var(--fill-color);\n",
              "      border-top-color: var(--fill-color);\n",
              "      border-right-color: var(--fill-color);\n",
              "    }\n",
              "    40% {\n",
              "      border-color: transparent;\n",
              "      border-right-color: var(--fill-color);\n",
              "      border-top-color: var(--fill-color);\n",
              "    }\n",
              "    60% {\n",
              "      border-color: transparent;\n",
              "      border-right-color: var(--fill-color);\n",
              "    }\n",
              "    80% {\n",
              "      border-color: transparent;\n",
              "      border-right-color: var(--fill-color);\n",
              "      border-bottom-color: var(--fill-color);\n",
              "    }\n",
              "    90% {\n",
              "      border-color: transparent;\n",
              "      border-bottom-color: var(--fill-color);\n",
              "    }\n",
              "  }\n",
              "</style>\n",
              "\n",
              "  <script>\n",
              "    async function quickchart(key) {\n",
              "      const quickchartButtonEl =\n",
              "        document.querySelector('#' + key + ' button');\n",
              "      quickchartButtonEl.disabled = true;  // To prevent multiple clicks.\n",
              "      quickchartButtonEl.classList.add('colab-df-spinner');\n",
              "      try {\n",
              "        const charts = await google.colab.kernel.invokeFunction(\n",
              "            'suggestCharts', [key], {});\n",
              "      } catch (error) {\n",
              "        console.error('Error during call to suggestCharts:', error);\n",
              "      }\n",
              "      quickchartButtonEl.classList.remove('colab-df-spinner');\n",
              "      quickchartButtonEl.classList.add('colab-df-quickchart-complete');\n",
              "    }\n",
              "    (() => {\n",
              "      let quickchartButtonEl =\n",
              "        document.querySelector('#df-acffa6af-c57a-4106-ad32-f2ff1ebab40d button');\n",
              "      quickchartButtonEl.style.display =\n",
              "        google.colab.kernel.accessAllowed ? 'block' : 'none';\n",
              "    })();\n",
              "  </script>\n",
              "</div>\n",
              "    </div>\n",
              "  </div>\n"
            ],
            "application/vnd.google.colaboratory.intrinsic+json": {
              "type": "dataframe",
              "variable_name": "test"
            }
          },
          "metadata": {},
          "execution_count": 31
        }
      ]
    },
    {
      "cell_type": "markdown",
      "source": [
        "## Manejo de la columna ESTU_HORASSEMANATRABAJA\n",
        "La columna presenta 5 categorias, y presenta 30857 datos nulos, por lo que no debo realizar alguna reparacion, paar este caso asumimos que si el campo esta vacio, es por que el estudiante no tiene unas horas de trabajo"
      ],
      "metadata": {
        "id": "LzjRBpcH0LM_"
      }
    },
    {
      "cell_type": "code",
      "source": [
        "test['ESTU_HORASSEMANATRABAJA'].unique()"
      ],
      "metadata": {
        "colab": {
          "base_uri": "https://localhost:8080/"
        },
        "id": "GGLoqdsY0lVS",
        "outputId": "afafba70-e73c-4343-d863-8c941e2f9c9f"
      },
      "execution_count": 32,
      "outputs": [
        {
          "output_type": "execute_result",
          "data": {
            "text/plain": [
              "array(['Menos de 10 horas', 'Entre 21 y 30 horas', '0',\n",
              "       'Entre 11 y 20 horas', 'Más de 30 horas', nan], dtype=object)"
            ]
          },
          "metadata": {},
          "execution_count": 32
        }
      ]
    },
    {
      "cell_type": "code",
      "source": [
        "test['ESTU_HORASSEMANATRABAJA'] = test['ESTU_HORASSEMANATRABAJA'].fillna('0')"
      ],
      "metadata": {
        "id": "vFa3h4Ky0lIi"
      },
      "execution_count": 33,
      "outputs": []
    },
    {
      "cell_type": "code",
      "source": [
        "horas_trabajo = ['0','Menos de 10 horas','Entre 11 y 20 horas',\n",
        "                'Entre 21 y 30 horas',\n",
        "                'Más de 30 horas']\n",
        "encode = OneHotEncoder()\n",
        "\n",
        "#Trabaja con dataframes, no series\n",
        "codificadorPr = encode.fit_transform(test[['ESTU_HORASSEMANATRABAJA']])\n",
        "arregloPr = codificadorPr.toarray()\n",
        "horas_trabajo = pd.DataFrame(arregloPr,\n",
        "                       columns = encode.categories_)\n",
        "test = pd.concat([test, horas_trabajo], axis = 'columns')\n",
        "test = test.drop('ESTU_HORASSEMANATRABAJA',axis=1)"
      ],
      "metadata": {
        "id": "qVbLk4nyz84T"
      },
      "execution_count": 34,
      "outputs": []
    },
    {
      "cell_type": "code",
      "source": [
        "test.head()"
      ],
      "metadata": {
        "colab": {
          "base_uri": "https://localhost:8080/",
          "height": 412
        },
        "id": "_Wfwbgng0YcB",
        "outputId": "4402f8de-441c-40ac-a76d-de5a12773686"
      },
      "execution_count": 35,
      "outputs": [
        {
          "output_type": "execute_result",
          "data": {
            "text/plain": [
              "       ID FAMI_ESTRATOVIVIENDA FAMI_TIENEINTERNET  \\\n",
              "0  550236            Estrato 3                 Si   \n",
              "1   98545            Estrato 2                 Si   \n",
              "2  499179            Estrato 3                 Si   \n",
              "3  782980            Estrato 1                 No   \n",
              "4  785185            Estrato 2                 Si   \n",
              "\n",
              "                    FAMI_EDUCACIONPADRE FAMI_TIENELAVADORA  \\\n",
              "0        Técnica o tecnológica completa                 Si   \n",
              "1    Secundaria (Bachillerato) completa                 Si   \n",
              "2  Secundaria (Bachillerato) incompleta                 Si   \n",
              "3                   Primaria incompleta                 Si   \n",
              "4    Secundaria (Bachillerato) completa                 Si   \n",
              "\n",
              "  FAMI_TIENEAUTOMOVIL ESTU_PRIVADO_LIBERTAD ESTU_PAGOMATRICULAPROPIO  \\\n",
              "0                  No                     N                       Si   \n",
              "1                  No                     N                       No   \n",
              "2                  No                     N                       No   \n",
              "3                  No                     N                       No   \n",
              "4                  No                     N                       No   \n",
              "\n",
              "  FAMI_TIENECOMPUTADOR                 FAMI_EDUCACIONMADRE  ...  \\\n",
              "0                   Si                   Primaria completa  ...   \n",
              "1                   Si      Técnica o tecnológica completa  ...   \n",
              "2                   Si  Secundaria (Bachillerato) completa  ...   \n",
              "3                   No                 Primaria incompleta  ...   \n",
              "4                   Si  Secundaria (Bachillerato) completa  ...   \n",
              "\n",
              "   (Entre 5.5 millones y menos de 7 millones,)  \\\n",
              "0                                          0.0   \n",
              "1                                          0.0   \n",
              "2                                          0.0   \n",
              "3                                          0.0   \n",
              "4                                          0.0   \n",
              "\n",
              "   (Entre 500 mil y menos de 1 millón,)  (Menos de 500 mil,)  \\\n",
              "0                                   0.0                  1.0   \n",
              "1                                   0.0                  0.0   \n",
              "2                                   0.0                  0.0   \n",
              "3                                   0.0                  0.0   \n",
              "4                                   0.0                  0.0   \n",
              "\n",
              "   (Más de 7 millones,)  (No pagó matrícula,)  (0,)  (Entre 11 y 20 horas,)  \\\n",
              "0                   0.0                   0.0   0.0                     0.0   \n",
              "1                   0.0                   0.0   0.0                     0.0   \n",
              "2                   0.0                   0.0   1.0                     0.0   \n",
              "3                   0.0                   0.0   0.0                     0.0   \n",
              "4                   0.0                   0.0   0.0                     1.0   \n",
              "\n",
              "   (Entre 21 y 30 horas,)  (Menos de 10 horas,)  (Más de 30 horas,)  \n",
              "0                     0.0                   1.0                 0.0  \n",
              "1                     1.0                   0.0                 0.0  \n",
              "2                     0.0                   0.0                 0.0  \n",
              "3                     1.0                   0.0                 0.0  \n",
              "4                     0.0                   0.0                 0.0  \n",
              "\n",
              "[5 rows x 68 columns]"
            ],
            "text/html": [
              "\n",
              "  <div id=\"df-a4d1ae38-4583-4b93-af2a-7143406905ae\" class=\"colab-df-container\">\n",
              "    <div>\n",
              "<style scoped>\n",
              "    .dataframe tbody tr th:only-of-type {\n",
              "        vertical-align: middle;\n",
              "    }\n",
              "\n",
              "    .dataframe tbody tr th {\n",
              "        vertical-align: top;\n",
              "    }\n",
              "\n",
              "    .dataframe thead th {\n",
              "        text-align: right;\n",
              "    }\n",
              "</style>\n",
              "<table border=\"1\" class=\"dataframe\">\n",
              "  <thead>\n",
              "    <tr style=\"text-align: right;\">\n",
              "      <th></th>\n",
              "      <th>ID</th>\n",
              "      <th>FAMI_ESTRATOVIVIENDA</th>\n",
              "      <th>FAMI_TIENEINTERNET</th>\n",
              "      <th>FAMI_EDUCACIONPADRE</th>\n",
              "      <th>FAMI_TIENELAVADORA</th>\n",
              "      <th>FAMI_TIENEAUTOMOVIL</th>\n",
              "      <th>ESTU_PRIVADO_LIBERTAD</th>\n",
              "      <th>ESTU_PAGOMATRICULAPROPIO</th>\n",
              "      <th>FAMI_TIENECOMPUTADOR</th>\n",
              "      <th>FAMI_EDUCACIONMADRE</th>\n",
              "      <th>...</th>\n",
              "      <th>(Entre 5.5 millones y menos de 7 millones,)</th>\n",
              "      <th>(Entre 500 mil y menos de 1 millón,)</th>\n",
              "      <th>(Menos de 500 mil,)</th>\n",
              "      <th>(Más de 7 millones,)</th>\n",
              "      <th>(No pagó matrícula,)</th>\n",
              "      <th>(0,)</th>\n",
              "      <th>(Entre 11 y 20 horas,)</th>\n",
              "      <th>(Entre 21 y 30 horas,)</th>\n",
              "      <th>(Menos de 10 horas,)</th>\n",
              "      <th>(Más de 30 horas,)</th>\n",
              "    </tr>\n",
              "  </thead>\n",
              "  <tbody>\n",
              "    <tr>\n",
              "      <th>0</th>\n",
              "      <td>550236</td>\n",
              "      <td>Estrato 3</td>\n",
              "      <td>Si</td>\n",
              "      <td>Técnica o tecnológica completa</td>\n",
              "      <td>Si</td>\n",
              "      <td>No</td>\n",
              "      <td>N</td>\n",
              "      <td>Si</td>\n",
              "      <td>Si</td>\n",
              "      <td>Primaria completa</td>\n",
              "      <td>...</td>\n",
              "      <td>0.0</td>\n",
              "      <td>0.0</td>\n",
              "      <td>1.0</td>\n",
              "      <td>0.0</td>\n",
              "      <td>0.0</td>\n",
              "      <td>0.0</td>\n",
              "      <td>0.0</td>\n",
              "      <td>0.0</td>\n",
              "      <td>1.0</td>\n",
              "      <td>0.0</td>\n",
              "    </tr>\n",
              "    <tr>\n",
              "      <th>1</th>\n",
              "      <td>98545</td>\n",
              "      <td>Estrato 2</td>\n",
              "      <td>Si</td>\n",
              "      <td>Secundaria (Bachillerato) completa</td>\n",
              "      <td>Si</td>\n",
              "      <td>No</td>\n",
              "      <td>N</td>\n",
              "      <td>No</td>\n",
              "      <td>Si</td>\n",
              "      <td>Técnica o tecnológica completa</td>\n",
              "      <td>...</td>\n",
              "      <td>0.0</td>\n",
              "      <td>0.0</td>\n",
              "      <td>0.0</td>\n",
              "      <td>0.0</td>\n",
              "      <td>0.0</td>\n",
              "      <td>0.0</td>\n",
              "      <td>0.0</td>\n",
              "      <td>1.0</td>\n",
              "      <td>0.0</td>\n",
              "      <td>0.0</td>\n",
              "    </tr>\n",
              "    <tr>\n",
              "      <th>2</th>\n",
              "      <td>499179</td>\n",
              "      <td>Estrato 3</td>\n",
              "      <td>Si</td>\n",
              "      <td>Secundaria (Bachillerato) incompleta</td>\n",
              "      <td>Si</td>\n",
              "      <td>No</td>\n",
              "      <td>N</td>\n",
              "      <td>No</td>\n",
              "      <td>Si</td>\n",
              "      <td>Secundaria (Bachillerato) completa</td>\n",
              "      <td>...</td>\n",
              "      <td>0.0</td>\n",
              "      <td>0.0</td>\n",
              "      <td>0.0</td>\n",
              "      <td>0.0</td>\n",
              "      <td>0.0</td>\n",
              "      <td>1.0</td>\n",
              "      <td>0.0</td>\n",
              "      <td>0.0</td>\n",
              "      <td>0.0</td>\n",
              "      <td>0.0</td>\n",
              "    </tr>\n",
              "    <tr>\n",
              "      <th>3</th>\n",
              "      <td>782980</td>\n",
              "      <td>Estrato 1</td>\n",
              "      <td>No</td>\n",
              "      <td>Primaria incompleta</td>\n",
              "      <td>Si</td>\n",
              "      <td>No</td>\n",
              "      <td>N</td>\n",
              "      <td>No</td>\n",
              "      <td>No</td>\n",
              "      <td>Primaria incompleta</td>\n",
              "      <td>...</td>\n",
              "      <td>0.0</td>\n",
              "      <td>0.0</td>\n",
              "      <td>0.0</td>\n",
              "      <td>0.0</td>\n",
              "      <td>0.0</td>\n",
              "      <td>0.0</td>\n",
              "      <td>0.0</td>\n",
              "      <td>1.0</td>\n",
              "      <td>0.0</td>\n",
              "      <td>0.0</td>\n",
              "    </tr>\n",
              "    <tr>\n",
              "      <th>4</th>\n",
              "      <td>785185</td>\n",
              "      <td>Estrato 2</td>\n",
              "      <td>Si</td>\n",
              "      <td>Secundaria (Bachillerato) completa</td>\n",
              "      <td>Si</td>\n",
              "      <td>No</td>\n",
              "      <td>N</td>\n",
              "      <td>No</td>\n",
              "      <td>Si</td>\n",
              "      <td>Secundaria (Bachillerato) completa</td>\n",
              "      <td>...</td>\n",
              "      <td>0.0</td>\n",
              "      <td>0.0</td>\n",
              "      <td>0.0</td>\n",
              "      <td>0.0</td>\n",
              "      <td>0.0</td>\n",
              "      <td>0.0</td>\n",
              "      <td>1.0</td>\n",
              "      <td>0.0</td>\n",
              "      <td>0.0</td>\n",
              "      <td>0.0</td>\n",
              "    </tr>\n",
              "  </tbody>\n",
              "</table>\n",
              "<p>5 rows × 68 columns</p>\n",
              "</div>\n",
              "    <div class=\"colab-df-buttons\">\n",
              "\n",
              "  <div class=\"colab-df-container\">\n",
              "    <button class=\"colab-df-convert\" onclick=\"convertToInteractive('df-a4d1ae38-4583-4b93-af2a-7143406905ae')\"\n",
              "            title=\"Convert this dataframe to an interactive table.\"\n",
              "            style=\"display:none;\">\n",
              "\n",
              "  <svg xmlns=\"http://www.w3.org/2000/svg\" height=\"24px\" viewBox=\"0 -960 960 960\">\n",
              "    <path d=\"M120-120v-720h720v720H120Zm60-500h600v-160H180v160Zm220 220h160v-160H400v160Zm0 220h160v-160H400v160ZM180-400h160v-160H180v160Zm440 0h160v-160H620v160ZM180-180h160v-160H180v160Zm440 0h160v-160H620v160Z\"/>\n",
              "  </svg>\n",
              "    </button>\n",
              "\n",
              "  <style>\n",
              "    .colab-df-container {\n",
              "      display:flex;\n",
              "      gap: 12px;\n",
              "    }\n",
              "\n",
              "    .colab-df-convert {\n",
              "      background-color: #E8F0FE;\n",
              "      border: none;\n",
              "      border-radius: 50%;\n",
              "      cursor: pointer;\n",
              "      display: none;\n",
              "      fill: #1967D2;\n",
              "      height: 32px;\n",
              "      padding: 0 0 0 0;\n",
              "      width: 32px;\n",
              "    }\n",
              "\n",
              "    .colab-df-convert:hover {\n",
              "      background-color: #E2EBFA;\n",
              "      box-shadow: 0px 1px 2px rgba(60, 64, 67, 0.3), 0px 1px 3px 1px rgba(60, 64, 67, 0.15);\n",
              "      fill: #174EA6;\n",
              "    }\n",
              "\n",
              "    .colab-df-buttons div {\n",
              "      margin-bottom: 4px;\n",
              "    }\n",
              "\n",
              "    [theme=dark] .colab-df-convert {\n",
              "      background-color: #3B4455;\n",
              "      fill: #D2E3FC;\n",
              "    }\n",
              "\n",
              "    [theme=dark] .colab-df-convert:hover {\n",
              "      background-color: #434B5C;\n",
              "      box-shadow: 0px 1px 3px 1px rgba(0, 0, 0, 0.15);\n",
              "      filter: drop-shadow(0px 1px 2px rgba(0, 0, 0, 0.3));\n",
              "      fill: #FFFFFF;\n",
              "    }\n",
              "  </style>\n",
              "\n",
              "    <script>\n",
              "      const buttonEl =\n",
              "        document.querySelector('#df-a4d1ae38-4583-4b93-af2a-7143406905ae button.colab-df-convert');\n",
              "      buttonEl.style.display =\n",
              "        google.colab.kernel.accessAllowed ? 'block' : 'none';\n",
              "\n",
              "      async function convertToInteractive(key) {\n",
              "        const element = document.querySelector('#df-a4d1ae38-4583-4b93-af2a-7143406905ae');\n",
              "        const dataTable =\n",
              "          await google.colab.kernel.invokeFunction('convertToInteractive',\n",
              "                                                    [key], {});\n",
              "        if (!dataTable) return;\n",
              "\n",
              "        const docLinkHtml = 'Like what you see? Visit the ' +\n",
              "          '<a target=\"_blank\" href=https://colab.research.google.com/notebooks/data_table.ipynb>data table notebook</a>'\n",
              "          + ' to learn more about interactive tables.';\n",
              "        element.innerHTML = '';\n",
              "        dataTable['output_type'] = 'display_data';\n",
              "        await google.colab.output.renderOutput(dataTable, element);\n",
              "        const docLink = document.createElement('div');\n",
              "        docLink.innerHTML = docLinkHtml;\n",
              "        element.appendChild(docLink);\n",
              "      }\n",
              "    </script>\n",
              "  </div>\n",
              "\n",
              "\n",
              "<div id=\"df-da97a0d1-6def-4f80-a42d-9d8a4701755d\">\n",
              "  <button class=\"colab-df-quickchart\" onclick=\"quickchart('df-da97a0d1-6def-4f80-a42d-9d8a4701755d')\"\n",
              "            title=\"Suggest charts\"\n",
              "            style=\"display:none;\">\n",
              "\n",
              "<svg xmlns=\"http://www.w3.org/2000/svg\" height=\"24px\"viewBox=\"0 0 24 24\"\n",
              "     width=\"24px\">\n",
              "    <g>\n",
              "        <path d=\"M19 3H5c-1.1 0-2 .9-2 2v14c0 1.1.9 2 2 2h14c1.1 0 2-.9 2-2V5c0-1.1-.9-2-2-2zM9 17H7v-7h2v7zm4 0h-2V7h2v10zm4 0h-2v-4h2v4z\"/>\n",
              "    </g>\n",
              "</svg>\n",
              "  </button>\n",
              "\n",
              "<style>\n",
              "  .colab-df-quickchart {\n",
              "      --bg-color: #E8F0FE;\n",
              "      --fill-color: #1967D2;\n",
              "      --hover-bg-color: #E2EBFA;\n",
              "      --hover-fill-color: #174EA6;\n",
              "      --disabled-fill-color: #AAA;\n",
              "      --disabled-bg-color: #DDD;\n",
              "  }\n",
              "\n",
              "  [theme=dark] .colab-df-quickchart {\n",
              "      --bg-color: #3B4455;\n",
              "      --fill-color: #D2E3FC;\n",
              "      --hover-bg-color: #434B5C;\n",
              "      --hover-fill-color: #FFFFFF;\n",
              "      --disabled-bg-color: #3B4455;\n",
              "      --disabled-fill-color: #666;\n",
              "  }\n",
              "\n",
              "  .colab-df-quickchart {\n",
              "    background-color: var(--bg-color);\n",
              "    border: none;\n",
              "    border-radius: 50%;\n",
              "    cursor: pointer;\n",
              "    display: none;\n",
              "    fill: var(--fill-color);\n",
              "    height: 32px;\n",
              "    padding: 0;\n",
              "    width: 32px;\n",
              "  }\n",
              "\n",
              "  .colab-df-quickchart:hover {\n",
              "    background-color: var(--hover-bg-color);\n",
              "    box-shadow: 0 1px 2px rgba(60, 64, 67, 0.3), 0 1px 3px 1px rgba(60, 64, 67, 0.15);\n",
              "    fill: var(--button-hover-fill-color);\n",
              "  }\n",
              "\n",
              "  .colab-df-quickchart-complete:disabled,\n",
              "  .colab-df-quickchart-complete:disabled:hover {\n",
              "    background-color: var(--disabled-bg-color);\n",
              "    fill: var(--disabled-fill-color);\n",
              "    box-shadow: none;\n",
              "  }\n",
              "\n",
              "  .colab-df-spinner {\n",
              "    border: 2px solid var(--fill-color);\n",
              "    border-color: transparent;\n",
              "    border-bottom-color: var(--fill-color);\n",
              "    animation:\n",
              "      spin 1s steps(1) infinite;\n",
              "  }\n",
              "\n",
              "  @keyframes spin {\n",
              "    0% {\n",
              "      border-color: transparent;\n",
              "      border-bottom-color: var(--fill-color);\n",
              "      border-left-color: var(--fill-color);\n",
              "    }\n",
              "    20% {\n",
              "      border-color: transparent;\n",
              "      border-left-color: var(--fill-color);\n",
              "      border-top-color: var(--fill-color);\n",
              "    }\n",
              "    30% {\n",
              "      border-color: transparent;\n",
              "      border-left-color: var(--fill-color);\n",
              "      border-top-color: var(--fill-color);\n",
              "      border-right-color: var(--fill-color);\n",
              "    }\n",
              "    40% {\n",
              "      border-color: transparent;\n",
              "      border-right-color: var(--fill-color);\n",
              "      border-top-color: var(--fill-color);\n",
              "    }\n",
              "    60% {\n",
              "      border-color: transparent;\n",
              "      border-right-color: var(--fill-color);\n",
              "    }\n",
              "    80% {\n",
              "      border-color: transparent;\n",
              "      border-right-color: var(--fill-color);\n",
              "      border-bottom-color: var(--fill-color);\n",
              "    }\n",
              "    90% {\n",
              "      border-color: transparent;\n",
              "      border-bottom-color: var(--fill-color);\n",
              "    }\n",
              "  }\n",
              "</style>\n",
              "\n",
              "  <script>\n",
              "    async function quickchart(key) {\n",
              "      const quickchartButtonEl =\n",
              "        document.querySelector('#' + key + ' button');\n",
              "      quickchartButtonEl.disabled = true;  // To prevent multiple clicks.\n",
              "      quickchartButtonEl.classList.add('colab-df-spinner');\n",
              "      try {\n",
              "        const charts = await google.colab.kernel.invokeFunction(\n",
              "            'suggestCharts', [key], {});\n",
              "      } catch (error) {\n",
              "        console.error('Error during call to suggestCharts:', error);\n",
              "      }\n",
              "      quickchartButtonEl.classList.remove('colab-df-spinner');\n",
              "      quickchartButtonEl.classList.add('colab-df-quickchart-complete');\n",
              "    }\n",
              "    (() => {\n",
              "      let quickchartButtonEl =\n",
              "        document.querySelector('#df-da97a0d1-6def-4f80-a42d-9d8a4701755d button');\n",
              "      quickchartButtonEl.style.display =\n",
              "        google.colab.kernel.accessAllowed ? 'block' : 'none';\n",
              "    })();\n",
              "  </script>\n",
              "</div>\n",
              "    </div>\n",
              "  </div>\n"
            ],
            "application/vnd.google.colaboratory.intrinsic+json": {
              "type": "dataframe",
              "variable_name": "test"
            }
          },
          "metadata": {},
          "execution_count": 35
        }
      ]
    },
    {
      "cell_type": "markdown",
      "source": [
        "## Manejo de la columna FAMI_ESTRATOVIVIENDA\n",
        "Dicha columna presenta 7 categorias, y ademas de eso un total de 32137 datos nulos, la estrategia que se plantea para repaar dichos datos nulos se baso en ver cual era la categoria con mayor frecuencia"
      ],
      "metadata": {
        "id": "qIRNmOGJ0uvr"
      }
    },
    {
      "cell_type": "code",
      "source": [
        "test['FAMI_ESTRATOVIVIENDA'].value_counts()"
      ],
      "metadata": {
        "colab": {
          "base_uri": "https://localhost:8080/"
        },
        "id": "KCWpBrqJ0YZB",
        "outputId": "0275bf39-6a10-4c7b-f590-2494e94c5b6a"
      },
      "execution_count": 36,
      "outputs": [
        {
          "output_type": "execute_result",
          "data": {
            "text/plain": [
              "FAMI_ESTRATOVIVIENDA\n",
              "Estrato 2      99288\n",
              "Estrato 3      90719\n",
              "Estrato 1      48092\n",
              "Estrato 4      27823\n",
              "Estrato 5      10194\n",
              "Estrato 6       5451\n",
              "Sin Estrato     1424\n",
              "Name: count, dtype: int64"
            ]
          },
          "metadata": {},
          "execution_count": 36
        }
      ]
    },
    {
      "cell_type": "code",
      "source": [
        "test['FAMI_ESTRATOVIVIENDA'] = test['FAMI_ESTRATOVIVIENDA'].fillna('Estrato 2')"
      ],
      "metadata": {
        "id": "oCCzB1kw0YRo"
      },
      "execution_count": 37,
      "outputs": []
    },
    {
      "cell_type": "code",
      "source": [
        "estratos = ['Sin Estrato','Estrato 1','Estrato 2',\n",
        "            'Estrato 3', 'Estrato 4', 'Estrato 5',\n",
        "            'Estrato 6']\n",
        "encode = OneHotEncoder()\n",
        "\n",
        "#Trabaja con dataframes, no series\n",
        "codificadorPr = encode.fit_transform(test[['FAMI_ESTRATOVIVIENDA']])\n",
        "arregloPr = codificadorPr.toarray()\n",
        "estrato = pd.DataFrame(arregloPr,\n",
        "                       columns = encode.categories_)\n",
        "test = pd.concat([test, estrato], axis = 'columns')\n",
        "test = test.drop('FAMI_ESTRATOVIVIENDA',axis=1)"
      ],
      "metadata": {
        "id": "siNI95Yw01h8"
      },
      "execution_count": 38,
      "outputs": []
    },
    {
      "cell_type": "markdown",
      "source": [
        "## Manejo de la columna FAMI_TIENEINTERNET\n",
        "Para este caso, tengo solo dos posibles clases, por lo que debo codificar de manera binaria, ademas tengo 26629 datos nuelos, y se decide clasificar dichos datos que no aparecen, como un 'NO'"
      ],
      "metadata": {
        "id": "gdLSKrMU0_-8"
      }
    },
    {
      "cell_type": "code",
      "source": [
        "test['FAMI_TIENEINTERNET'].value_counts()"
      ],
      "metadata": {
        "colab": {
          "base_uri": "https://localhost:8080/"
        },
        "id": "CtAnPR_201fc",
        "outputId": "08e02eba-02b8-4809-a18c-d25e78a5a484"
      },
      "execution_count": 39,
      "outputs": [
        {
          "output_type": "execute_result",
          "data": {
            "text/plain": [
              "FAMI_TIENEINTERNET\n",
              "Si    254075\n",
              "No     31172\n",
              "Name: count, dtype: int64"
            ]
          },
          "metadata": {},
          "execution_count": 39
        }
      ]
    },
    {
      "cell_type": "code",
      "source": [
        "test['FAMI_TIENEINTERNET'] = test['FAMI_TIENEINTERNET'].fillna(\"No\")"
      ],
      "metadata": {
        "id": "fo8MToQH01b1"
      },
      "execution_count": 40,
      "outputs": []
    },
    {
      "cell_type": "code",
      "source": [
        "test['FAMI_TIENEINTERNET'] = test['FAMI_TIENEINTERNET'].replace(r'Si', 1.)\n",
        "test['FAMI_TIENEINTERNET'] = test['FAMI_TIENEINTERNET'].replace(r'No', 0.)"
      ],
      "metadata": {
        "id": "kawSreIQ01ZE"
      },
      "execution_count": 41,
      "outputs": []
    },
    {
      "cell_type": "markdown",
      "source": [
        "## Manejo de la columna FAMI_TIENELAVADORA\n",
        "Esta columna consideramos que no aporta al modelo, y se suprime del dataframe\n"
      ],
      "metadata": {
        "id": "pprr2R8Y1K4V"
      }
    },
    {
      "cell_type": "code",
      "source": [
        "test['FAMI_TIENELAVADORA'].value_counts()"
      ],
      "metadata": {
        "colab": {
          "base_uri": "https://localhost:8080/"
        },
        "id": "kD5dYctq1Ht8",
        "outputId": "a9b25af2-23b5-4b81-a0b7-2a155980aec4"
      },
      "execution_count": 42,
      "outputs": [
        {
          "output_type": "execute_result",
          "data": {
            "text/plain": [
              "FAMI_TIENELAVADORA\n",
              "Si    241565\n",
              "No     37962\n",
              "Name: count, dtype: int64"
            ]
          },
          "metadata": {},
          "execution_count": 42
        }
      ]
    },
    {
      "cell_type": "code",
      "source": [
        "test = test.drop(['FAMI_TIENELAVADORA'], axis=1)"
      ],
      "metadata": {
        "id": "MfNrJjtE1Hq0"
      },
      "execution_count": 43,
      "outputs": []
    },
    {
      "cell_type": "markdown",
      "source": [
        "## Manejo de la columna FAMI_TIENEAUTOMOVIL\n",
        "La columna presenta una distinción entre valores de tipo binario, por lo que todos los datos pueden tomar solo dos valores, y presenta 43623 registros nulos"
      ],
      "metadata": {
        "id": "DZ3Wliv01kNS"
      }
    },
    {
      "cell_type": "code",
      "source": [
        "test['FAMI_TIENEAUTOMOVIL'].value_counts()"
      ],
      "metadata": {
        "colab": {
          "base_uri": "https://localhost:8080/"
        },
        "id": "50xkKw3p1iDJ",
        "outputId": "99ef839d-04d4-4663-d26c-b17e09903922"
      },
      "execution_count": 44,
      "outputs": [
        {
          "output_type": "execute_result",
          "data": {
            "text/plain": [
              "FAMI_TIENEAUTOMOVIL\n",
              "No    176625\n",
              "Si    101243\n",
              "Name: count, dtype: int64"
            ]
          },
          "metadata": {},
          "execution_count": 44
        }
      ]
    },
    {
      "cell_type": "code",
      "source": [
        "test['FAMI_TIENEAUTOMOVIL'] = test['FAMI_TIENEAUTOMOVIL'].fillna(\"No\")"
      ],
      "metadata": {
        "id": "PRtmdrhn1iAa"
      },
      "execution_count": 45,
      "outputs": []
    },
    {
      "cell_type": "code",
      "source": [
        "test['FAMI_TIENEAUTOMOVIL'] = test['FAMI_TIENEAUTOMOVIL'].replace(r'Si', 1.)\n",
        "test['FAMI_TIENEAUTOMOVIL'] = test['FAMI_TIENEAUTOMOVIL'].replace(r'No', 0.)"
      ],
      "metadata": {
        "id": "8o74sUHl1h9a"
      },
      "execution_count": 46,
      "outputs": []
    },
    {
      "cell_type": "markdown",
      "source": [
        "## Manejo de la columna FAMI_TIENECOMPUTADOR\n",
        "Comportmaiento binario.\n",
        "Presenta 38103 registros nulos"
      ],
      "metadata": {
        "id": "g2SkWQxA1sCK"
      }
    },
    {
      "cell_type": "code",
      "source": [
        "test['FAMI_TIENECOMPUTADOR'].value_counts()"
      ],
      "metadata": {
        "colab": {
          "base_uri": "https://localhost:8080/"
        },
        "id": "kUb3WP_p1Hm9",
        "outputId": "5628af9c-2dd1-4f6c-ec63-b9fb68c71419"
      },
      "execution_count": 47,
      "outputs": [
        {
          "output_type": "execute_result",
          "data": {
            "text/plain": [
              "FAMI_TIENECOMPUTADOR\n",
              "Si    255996\n",
              "No     24351\n",
              "Name: count, dtype: int64"
            ]
          },
          "metadata": {},
          "execution_count": 47
        }
      ]
    },
    {
      "cell_type": "code",
      "source": [
        "test['FAMI_TIENECOMPUTADOR'] = test['FAMI_TIENECOMPUTADOR'].fillna(\"No\")"
      ],
      "metadata": {
        "id": "7a8CAavo1t0y"
      },
      "execution_count": 48,
      "outputs": []
    },
    {
      "cell_type": "code",
      "source": [
        "test['FAMI_TIENECOMPUTADOR'] = test['FAMI_TIENECOMPUTADOR'].replace(r'Si', 1.)\n",
        "test['FAMI_TIENECOMPUTADOR'] = test['FAMI_TIENECOMPUTADOR'].replace(r'No', 0.)"
      ],
      "metadata": {
        "id": "svRkH7mm1tyd"
      },
      "execution_count": 49,
      "outputs": []
    },
    {
      "cell_type": "markdown",
      "source": [
        "## Manejo de la columna ESTU_PAGOMATRICULAPROPIO\n",
        "Esta columna presenta un rango binario en su conjunto de posibles valores, y un total de 6498 datos nulos.\n",
        "Por el momento la decisión para hcaer la reparación, se elige de asignar 'NO' a los datos nulos"
      ],
      "metadata": {
        "id": "clfdSCA710SK"
      }
    },
    {
      "cell_type": "code",
      "source": [
        "test['ESTU_PAGOMATRICULAPROPIO'].value_counts()"
      ],
      "metadata": {
        "colab": {
          "base_uri": "https://localhost:8080/"
        },
        "id": "U1wmhSXX1twD",
        "outputId": "dfda3d59-c357-4295-d005-8b6e619c76b5"
      },
      "execution_count": 50,
      "outputs": [
        {
          "output_type": "execute_result",
          "data": {
            "text/plain": [
              "ESTU_PAGOMATRICULAPROPIO\n",
              "No    163869\n",
              "Si    130110\n",
              "Name: count, dtype: int64"
            ]
          },
          "metadata": {},
          "execution_count": 50
        }
      ]
    },
    {
      "cell_type": "code",
      "source": [
        "test['ESTU_PAGOMATRICULAPROPIO'] = test['ESTU_PAGOMATRICULAPROPIO'].fillna(\"No\")"
      ],
      "metadata": {
        "id": "XGh7TfT71ttn"
      },
      "execution_count": 51,
      "outputs": []
    },
    {
      "cell_type": "code",
      "source": [
        "test['ESTU_PAGOMATRICULAPROPIO'] = test['ESTU_PAGOMATRICULAPROPIO'].replace(r'Si', 1.)\n",
        "test['ESTU_PAGOMATRICULAPROPIO'] = test['ESTU_PAGOMATRICULAPROPIO'].replace(r'No', 0.)"
      ],
      "metadata": {
        "id": "TGA765DW1tro"
      },
      "execution_count": 52,
      "outputs": []
    },
    {
      "cell_type": "markdown",
      "source": [
        "## Manejo de la columna ESTU_PRIVADO_LIBERTAD\n",
        "Esta columna tiene un comportamiento binario, y no presenta datos nulos, se tiene la decisión de eliminar la columna del dataset"
      ],
      "metadata": {
        "id": "uIYcaQ7S18Or"
      }
    },
    {
      "cell_type": "code",
      "source": [
        "test['ESTU_PRIVADO_LIBERTAD'].value_counts()"
      ],
      "metadata": {
        "colab": {
          "base_uri": "https://localhost:8080/"
        },
        "id": "QA-yXdc_1tqt",
        "outputId": "f239a950-fa59-4922-ddf0-36659871a160"
      },
      "execution_count": 53,
      "outputs": [
        {
          "output_type": "execute_result",
          "data": {
            "text/plain": [
              "ESTU_PRIVADO_LIBERTAD\n",
              "N    296773\n",
              "S        13\n",
              "Name: count, dtype: int64"
            ]
          },
          "metadata": {},
          "execution_count": 53
        }
      ]
    },
    {
      "cell_type": "code",
      "source": [
        "test = test.drop(['ESTU_PRIVADO_LIBERTAD'], axis=1)"
      ],
      "metadata": {
        "id": "mFqyMqML1to-"
      },
      "execution_count": 54,
      "outputs": []
    },
    {
      "cell_type": "markdown",
      "source": [
        "## Manejo de la COLUMNA FAMI_EDUCACIONPADRE\n",
        "Esta columna presento varias modificaciones, entre ellas la agrupación de las etiquetas 'Ninguno', 'No sabe' y 'No aplica' en una sola, junto con lso datos nulos, ademas de eso, se considera importante el hecho de jerarquizar dichas etiquetas"
      ],
      "metadata": {
        "id": "zv4ut7VD2Gsc"
      }
    },
    {
      "cell_type": "code",
      "source": [
        "test['FAMI_EDUCACIONPADRE'].value_counts()"
      ],
      "metadata": {
        "colab": {
          "base_uri": "https://localhost:8080/"
        },
        "id": "OfuNwl1A1tmq",
        "outputId": "599ef641-c03e-471a-8b17-aeae6aa15b99"
      },
      "execution_count": 55,
      "outputs": [
        {
          "output_type": "execute_result",
          "data": {
            "text/plain": [
              "FAMI_EDUCACIONPADRE\n",
              "Secundaria (Bachillerato) completa      54838\n",
              "Primaria incompleta                     53432\n",
              "Educación profesional completa          35412\n",
              "Secundaria (Bachillerato) incompleta    30641\n",
              "Técnica o tecnológica completa          27045\n",
              "Primaria completa                       24131\n",
              "Postgrado                               19287\n",
              "Educación profesional incompleta        11744\n",
              "Técnica o tecnológica incompleta         9677\n",
              "Ninguno                                  9565\n",
              "No sabe                                  7066\n",
              "No Aplica                                3955\n",
              "Name: count, dtype: int64"
            ]
          },
          "metadata": {},
          "execution_count": 55
        }
      ]
    },
    {
      "cell_type": "code",
      "source": [
        "test['FAMI_EDUCACIONPADRE'] = test['FAMI_EDUCACIONPADRE'].replace(r'Ninguno', 'No Aplica')\n",
        "test['FAMI_EDUCACIONPADRE'] = test['FAMI_EDUCACIONPADRE'].replace(r'No sabe', 'No Aplica')\n",
        "test['FAMI_EDUCACIONPADRE'] = test['FAMI_EDUCACIONPADRE'].fillna('No Aplica')"
      ],
      "metadata": {
        "id": "pnF8n0Be1tjy"
      },
      "execution_count": 56,
      "outputs": []
    },
    {
      "cell_type": "code",
      "source": [],
      "metadata": {
        "id": "f0hIZvtc2Uym"
      },
      "execution_count": 56,
      "outputs": []
    },
    {
      "cell_type": "code",
      "source": [
        "nivelesPadre = ['No Aplica','Primaria incompleta','Primaria completa',\n",
        "            'Secundaria (Bachillerato) incompleta', 'Secundaria (Bachillerato) completa', 'Técnica o tecnológica incompleta',\n",
        "            'Técnica o tecnológica completa', 'Educación profesional incompleta', 'Educación profesional completa',\n",
        "            'Postgrado']\n",
        "encode = OneHotEncoder()\n",
        "\n",
        "#Trabaja con dataframes, no series\n",
        "codificadorPr = encode.fit_transform(test[['FAMI_EDUCACIONPADRE']])\n",
        "#generar codificacion\n",
        "\n",
        "arregloPr = codificadorPr.toarray()\n",
        "edu_padre = pd.DataFrame(arregloPr,\n",
        "                       columns = encode.categories_)\n",
        "test = pd.concat([test, edu_padre], axis = 'columns')\n",
        "test = test.drop('FAMI_EDUCACIONPADRE',axis=1)"
      ],
      "metadata": {
        "id": "bfhfS-tu2aR7"
      },
      "execution_count": 57,
      "outputs": []
    },
    {
      "cell_type": "code",
      "source": [
        "test.head()"
      ],
      "metadata": {
        "colab": {
          "base_uri": "https://localhost:8080/",
          "height": 342
        },
        "id": "p3xBLTKx2aPn",
        "outputId": "fe86ae95-0971-4e83-b0d6-5ed552b9cfec"
      },
      "execution_count": 58,
      "outputs": [
        {
          "output_type": "execute_result",
          "data": {
            "text/plain": [
              "       ID  FAMI_TIENEINTERNET  FAMI_TIENEAUTOMOVIL  ESTU_PAGOMATRICULAPROPIO  \\\n",
              "0  550236                 1.0                  0.0                       1.0   \n",
              "1   98545                 1.0                  0.0                       0.0   \n",
              "2  499179                 1.0                  0.0                       0.0   \n",
              "3  782980                 0.0                  0.0                       0.0   \n",
              "4  785185                 1.0                  0.0                       0.0   \n",
              "\n",
              "   FAMI_TIENECOMPUTADOR                 FAMI_EDUCACIONMADRE  (2018,)  (2019,)  \\\n",
              "0                   1.0                   Primaria completa      1.0      0.0   \n",
              "1                   1.0      Técnica o tecnológica completa      0.0      0.0   \n",
              "2                   1.0  Secundaria (Bachillerato) completa      0.0      0.0   \n",
              "3                   0.0                 Primaria incompleta      0.0      1.0   \n",
              "4                   1.0  Secundaria (Bachillerato) completa      0.0      0.0   \n",
              "\n",
              "   (2020,)  (2021,)  ...  (Educación profesional completa,)  \\\n",
              "0      0.0      0.0  ...                                0.0   \n",
              "1      1.0      0.0  ...                                0.0   \n",
              "2      0.0      1.0  ...                                0.0   \n",
              "3      0.0      0.0  ...                                0.0   \n",
              "4      0.0      1.0  ...                                0.0   \n",
              "\n",
              "   (Educación profesional incompleta,)  (No Aplica,)  (Postgrado,)  \\\n",
              "0                                  0.0           0.0           0.0   \n",
              "1                                  0.0           0.0           0.0   \n",
              "2                                  0.0           0.0           0.0   \n",
              "3                                  0.0           0.0           0.0   \n",
              "4                                  0.0           0.0           0.0   \n",
              "\n",
              "   (Primaria completa,)  (Primaria incompleta,)  \\\n",
              "0                   0.0                     0.0   \n",
              "1                   0.0                     0.0   \n",
              "2                   0.0                     0.0   \n",
              "3                   0.0                     1.0   \n",
              "4                   0.0                     0.0   \n",
              "\n",
              "   (Secundaria (Bachillerato) completa,)  \\\n",
              "0                                    0.0   \n",
              "1                                    1.0   \n",
              "2                                    0.0   \n",
              "3                                    0.0   \n",
              "4                                    1.0   \n",
              "\n",
              "   (Secundaria (Bachillerato) incompleta,)  (Técnica o tecnológica completa,)  \\\n",
              "0                                      0.0                                1.0   \n",
              "1                                      0.0                                0.0   \n",
              "2                                      1.0                                0.0   \n",
              "3                                      0.0                                0.0   \n",
              "4                                      0.0                                0.0   \n",
              "\n",
              "   (Técnica o tecnológica incompleta,)  \n",
              "0                                  0.0  \n",
              "1                                  0.0  \n",
              "2                                  0.0  \n",
              "3                                  0.0  \n",
              "4                                  0.0  \n",
              "\n",
              "[5 rows x 81 columns]"
            ],
            "text/html": [
              "\n",
              "  <div id=\"df-b9f3a469-42cf-4708-8035-7a0f132275b2\" class=\"colab-df-container\">\n",
              "    <div>\n",
              "<style scoped>\n",
              "    .dataframe tbody tr th:only-of-type {\n",
              "        vertical-align: middle;\n",
              "    }\n",
              "\n",
              "    .dataframe tbody tr th {\n",
              "        vertical-align: top;\n",
              "    }\n",
              "\n",
              "    .dataframe thead th {\n",
              "        text-align: right;\n",
              "    }\n",
              "</style>\n",
              "<table border=\"1\" class=\"dataframe\">\n",
              "  <thead>\n",
              "    <tr style=\"text-align: right;\">\n",
              "      <th></th>\n",
              "      <th>ID</th>\n",
              "      <th>FAMI_TIENEINTERNET</th>\n",
              "      <th>FAMI_TIENEAUTOMOVIL</th>\n",
              "      <th>ESTU_PAGOMATRICULAPROPIO</th>\n",
              "      <th>FAMI_TIENECOMPUTADOR</th>\n",
              "      <th>FAMI_EDUCACIONMADRE</th>\n",
              "      <th>(2018,)</th>\n",
              "      <th>(2019,)</th>\n",
              "      <th>(2020,)</th>\n",
              "      <th>(2021,)</th>\n",
              "      <th>...</th>\n",
              "      <th>(Educación profesional completa,)</th>\n",
              "      <th>(Educación profesional incompleta,)</th>\n",
              "      <th>(No Aplica,)</th>\n",
              "      <th>(Postgrado,)</th>\n",
              "      <th>(Primaria completa,)</th>\n",
              "      <th>(Primaria incompleta,)</th>\n",
              "      <th>(Secundaria (Bachillerato) completa,)</th>\n",
              "      <th>(Secundaria (Bachillerato) incompleta,)</th>\n",
              "      <th>(Técnica o tecnológica completa,)</th>\n",
              "      <th>(Técnica o tecnológica incompleta,)</th>\n",
              "    </tr>\n",
              "  </thead>\n",
              "  <tbody>\n",
              "    <tr>\n",
              "      <th>0</th>\n",
              "      <td>550236</td>\n",
              "      <td>1.0</td>\n",
              "      <td>0.0</td>\n",
              "      <td>1.0</td>\n",
              "      <td>1.0</td>\n",
              "      <td>Primaria completa</td>\n",
              "      <td>1.0</td>\n",
              "      <td>0.0</td>\n",
              "      <td>0.0</td>\n",
              "      <td>0.0</td>\n",
              "      <td>...</td>\n",
              "      <td>0.0</td>\n",
              "      <td>0.0</td>\n",
              "      <td>0.0</td>\n",
              "      <td>0.0</td>\n",
              "      <td>0.0</td>\n",
              "      <td>0.0</td>\n",
              "      <td>0.0</td>\n",
              "      <td>0.0</td>\n",
              "      <td>1.0</td>\n",
              "      <td>0.0</td>\n",
              "    </tr>\n",
              "    <tr>\n",
              "      <th>1</th>\n",
              "      <td>98545</td>\n",
              "      <td>1.0</td>\n",
              "      <td>0.0</td>\n",
              "      <td>0.0</td>\n",
              "      <td>1.0</td>\n",
              "      <td>Técnica o tecnológica completa</td>\n",
              "      <td>0.0</td>\n",
              "      <td>0.0</td>\n",
              "      <td>1.0</td>\n",
              "      <td>0.0</td>\n",
              "      <td>...</td>\n",
              "      <td>0.0</td>\n",
              "      <td>0.0</td>\n",
              "      <td>0.0</td>\n",
              "      <td>0.0</td>\n",
              "      <td>0.0</td>\n",
              "      <td>0.0</td>\n",
              "      <td>1.0</td>\n",
              "      <td>0.0</td>\n",
              "      <td>0.0</td>\n",
              "      <td>0.0</td>\n",
              "    </tr>\n",
              "    <tr>\n",
              "      <th>2</th>\n",
              "      <td>499179</td>\n",
              "      <td>1.0</td>\n",
              "      <td>0.0</td>\n",
              "      <td>0.0</td>\n",
              "      <td>1.0</td>\n",
              "      <td>Secundaria (Bachillerato) completa</td>\n",
              "      <td>0.0</td>\n",
              "      <td>0.0</td>\n",
              "      <td>0.0</td>\n",
              "      <td>1.0</td>\n",
              "      <td>...</td>\n",
              "      <td>0.0</td>\n",
              "      <td>0.0</td>\n",
              "      <td>0.0</td>\n",
              "      <td>0.0</td>\n",
              "      <td>0.0</td>\n",
              "      <td>0.0</td>\n",
              "      <td>0.0</td>\n",
              "      <td>1.0</td>\n",
              "      <td>0.0</td>\n",
              "      <td>0.0</td>\n",
              "    </tr>\n",
              "    <tr>\n",
              "      <th>3</th>\n",
              "      <td>782980</td>\n",
              "      <td>0.0</td>\n",
              "      <td>0.0</td>\n",
              "      <td>0.0</td>\n",
              "      <td>0.0</td>\n",
              "      <td>Primaria incompleta</td>\n",
              "      <td>0.0</td>\n",
              "      <td>1.0</td>\n",
              "      <td>0.0</td>\n",
              "      <td>0.0</td>\n",
              "      <td>...</td>\n",
              "      <td>0.0</td>\n",
              "      <td>0.0</td>\n",
              "      <td>0.0</td>\n",
              "      <td>0.0</td>\n",
              "      <td>0.0</td>\n",
              "      <td>1.0</td>\n",
              "      <td>0.0</td>\n",
              "      <td>0.0</td>\n",
              "      <td>0.0</td>\n",
              "      <td>0.0</td>\n",
              "    </tr>\n",
              "    <tr>\n",
              "      <th>4</th>\n",
              "      <td>785185</td>\n",
              "      <td>1.0</td>\n",
              "      <td>0.0</td>\n",
              "      <td>0.0</td>\n",
              "      <td>1.0</td>\n",
              "      <td>Secundaria (Bachillerato) completa</td>\n",
              "      <td>0.0</td>\n",
              "      <td>0.0</td>\n",
              "      <td>0.0</td>\n",
              "      <td>1.0</td>\n",
              "      <td>...</td>\n",
              "      <td>0.0</td>\n",
              "      <td>0.0</td>\n",
              "      <td>0.0</td>\n",
              "      <td>0.0</td>\n",
              "      <td>0.0</td>\n",
              "      <td>0.0</td>\n",
              "      <td>1.0</td>\n",
              "      <td>0.0</td>\n",
              "      <td>0.0</td>\n",
              "      <td>0.0</td>\n",
              "    </tr>\n",
              "  </tbody>\n",
              "</table>\n",
              "<p>5 rows × 81 columns</p>\n",
              "</div>\n",
              "    <div class=\"colab-df-buttons\">\n",
              "\n",
              "  <div class=\"colab-df-container\">\n",
              "    <button class=\"colab-df-convert\" onclick=\"convertToInteractive('df-b9f3a469-42cf-4708-8035-7a0f132275b2')\"\n",
              "            title=\"Convert this dataframe to an interactive table.\"\n",
              "            style=\"display:none;\">\n",
              "\n",
              "  <svg xmlns=\"http://www.w3.org/2000/svg\" height=\"24px\" viewBox=\"0 -960 960 960\">\n",
              "    <path d=\"M120-120v-720h720v720H120Zm60-500h600v-160H180v160Zm220 220h160v-160H400v160Zm0 220h160v-160H400v160ZM180-400h160v-160H180v160Zm440 0h160v-160H620v160ZM180-180h160v-160H180v160Zm440 0h160v-160H620v160Z\"/>\n",
              "  </svg>\n",
              "    </button>\n",
              "\n",
              "  <style>\n",
              "    .colab-df-container {\n",
              "      display:flex;\n",
              "      gap: 12px;\n",
              "    }\n",
              "\n",
              "    .colab-df-convert {\n",
              "      background-color: #E8F0FE;\n",
              "      border: none;\n",
              "      border-radius: 50%;\n",
              "      cursor: pointer;\n",
              "      display: none;\n",
              "      fill: #1967D2;\n",
              "      height: 32px;\n",
              "      padding: 0 0 0 0;\n",
              "      width: 32px;\n",
              "    }\n",
              "\n",
              "    .colab-df-convert:hover {\n",
              "      background-color: #E2EBFA;\n",
              "      box-shadow: 0px 1px 2px rgba(60, 64, 67, 0.3), 0px 1px 3px 1px rgba(60, 64, 67, 0.15);\n",
              "      fill: #174EA6;\n",
              "    }\n",
              "\n",
              "    .colab-df-buttons div {\n",
              "      margin-bottom: 4px;\n",
              "    }\n",
              "\n",
              "    [theme=dark] .colab-df-convert {\n",
              "      background-color: #3B4455;\n",
              "      fill: #D2E3FC;\n",
              "    }\n",
              "\n",
              "    [theme=dark] .colab-df-convert:hover {\n",
              "      background-color: #434B5C;\n",
              "      box-shadow: 0px 1px 3px 1px rgba(0, 0, 0, 0.15);\n",
              "      filter: drop-shadow(0px 1px 2px rgba(0, 0, 0, 0.3));\n",
              "      fill: #FFFFFF;\n",
              "    }\n",
              "  </style>\n",
              "\n",
              "    <script>\n",
              "      const buttonEl =\n",
              "        document.querySelector('#df-b9f3a469-42cf-4708-8035-7a0f132275b2 button.colab-df-convert');\n",
              "      buttonEl.style.display =\n",
              "        google.colab.kernel.accessAllowed ? 'block' : 'none';\n",
              "\n",
              "      async function convertToInteractive(key) {\n",
              "        const element = document.querySelector('#df-b9f3a469-42cf-4708-8035-7a0f132275b2');\n",
              "        const dataTable =\n",
              "          await google.colab.kernel.invokeFunction('convertToInteractive',\n",
              "                                                    [key], {});\n",
              "        if (!dataTable) return;\n",
              "\n",
              "        const docLinkHtml = 'Like what you see? Visit the ' +\n",
              "          '<a target=\"_blank\" href=https://colab.research.google.com/notebooks/data_table.ipynb>data table notebook</a>'\n",
              "          + ' to learn more about interactive tables.';\n",
              "        element.innerHTML = '';\n",
              "        dataTable['output_type'] = 'display_data';\n",
              "        await google.colab.output.renderOutput(dataTable, element);\n",
              "        const docLink = document.createElement('div');\n",
              "        docLink.innerHTML = docLinkHtml;\n",
              "        element.appendChild(docLink);\n",
              "      }\n",
              "    </script>\n",
              "  </div>\n",
              "\n",
              "\n",
              "<div id=\"df-81578e2e-da97-4494-8593-68797b64a11f\">\n",
              "  <button class=\"colab-df-quickchart\" onclick=\"quickchart('df-81578e2e-da97-4494-8593-68797b64a11f')\"\n",
              "            title=\"Suggest charts\"\n",
              "            style=\"display:none;\">\n",
              "\n",
              "<svg xmlns=\"http://www.w3.org/2000/svg\" height=\"24px\"viewBox=\"0 0 24 24\"\n",
              "     width=\"24px\">\n",
              "    <g>\n",
              "        <path d=\"M19 3H5c-1.1 0-2 .9-2 2v14c0 1.1.9 2 2 2h14c1.1 0 2-.9 2-2V5c0-1.1-.9-2-2-2zM9 17H7v-7h2v7zm4 0h-2V7h2v10zm4 0h-2v-4h2v4z\"/>\n",
              "    </g>\n",
              "</svg>\n",
              "  </button>\n",
              "\n",
              "<style>\n",
              "  .colab-df-quickchart {\n",
              "      --bg-color: #E8F0FE;\n",
              "      --fill-color: #1967D2;\n",
              "      --hover-bg-color: #E2EBFA;\n",
              "      --hover-fill-color: #174EA6;\n",
              "      --disabled-fill-color: #AAA;\n",
              "      --disabled-bg-color: #DDD;\n",
              "  }\n",
              "\n",
              "  [theme=dark] .colab-df-quickchart {\n",
              "      --bg-color: #3B4455;\n",
              "      --fill-color: #D2E3FC;\n",
              "      --hover-bg-color: #434B5C;\n",
              "      --hover-fill-color: #FFFFFF;\n",
              "      --disabled-bg-color: #3B4455;\n",
              "      --disabled-fill-color: #666;\n",
              "  }\n",
              "\n",
              "  .colab-df-quickchart {\n",
              "    background-color: var(--bg-color);\n",
              "    border: none;\n",
              "    border-radius: 50%;\n",
              "    cursor: pointer;\n",
              "    display: none;\n",
              "    fill: var(--fill-color);\n",
              "    height: 32px;\n",
              "    padding: 0;\n",
              "    width: 32px;\n",
              "  }\n",
              "\n",
              "  .colab-df-quickchart:hover {\n",
              "    background-color: var(--hover-bg-color);\n",
              "    box-shadow: 0 1px 2px rgba(60, 64, 67, 0.3), 0 1px 3px 1px rgba(60, 64, 67, 0.15);\n",
              "    fill: var(--button-hover-fill-color);\n",
              "  }\n",
              "\n",
              "  .colab-df-quickchart-complete:disabled,\n",
              "  .colab-df-quickchart-complete:disabled:hover {\n",
              "    background-color: var(--disabled-bg-color);\n",
              "    fill: var(--disabled-fill-color);\n",
              "    box-shadow: none;\n",
              "  }\n",
              "\n",
              "  .colab-df-spinner {\n",
              "    border: 2px solid var(--fill-color);\n",
              "    border-color: transparent;\n",
              "    border-bottom-color: var(--fill-color);\n",
              "    animation:\n",
              "      spin 1s steps(1) infinite;\n",
              "  }\n",
              "\n",
              "  @keyframes spin {\n",
              "    0% {\n",
              "      border-color: transparent;\n",
              "      border-bottom-color: var(--fill-color);\n",
              "      border-left-color: var(--fill-color);\n",
              "    }\n",
              "    20% {\n",
              "      border-color: transparent;\n",
              "      border-left-color: var(--fill-color);\n",
              "      border-top-color: var(--fill-color);\n",
              "    }\n",
              "    30% {\n",
              "      border-color: transparent;\n",
              "      border-left-color: var(--fill-color);\n",
              "      border-top-color: var(--fill-color);\n",
              "      border-right-color: var(--fill-color);\n",
              "    }\n",
              "    40% {\n",
              "      border-color: transparent;\n",
              "      border-right-color: var(--fill-color);\n",
              "      border-top-color: var(--fill-color);\n",
              "    }\n",
              "    60% {\n",
              "      border-color: transparent;\n",
              "      border-right-color: var(--fill-color);\n",
              "    }\n",
              "    80% {\n",
              "      border-color: transparent;\n",
              "      border-right-color: var(--fill-color);\n",
              "      border-bottom-color: var(--fill-color);\n",
              "    }\n",
              "    90% {\n",
              "      border-color: transparent;\n",
              "      border-bottom-color: var(--fill-color);\n",
              "    }\n",
              "  }\n",
              "</style>\n",
              "\n",
              "  <script>\n",
              "    async function quickchart(key) {\n",
              "      const quickchartButtonEl =\n",
              "        document.querySelector('#' + key + ' button');\n",
              "      quickchartButtonEl.disabled = true;  // To prevent multiple clicks.\n",
              "      quickchartButtonEl.classList.add('colab-df-spinner');\n",
              "      try {\n",
              "        const charts = await google.colab.kernel.invokeFunction(\n",
              "            'suggestCharts', [key], {});\n",
              "      } catch (error) {\n",
              "        console.error('Error during call to suggestCharts:', error);\n",
              "      }\n",
              "      quickchartButtonEl.classList.remove('colab-df-spinner');\n",
              "      quickchartButtonEl.classList.add('colab-df-quickchart-complete');\n",
              "    }\n",
              "    (() => {\n",
              "      let quickchartButtonEl =\n",
              "        document.querySelector('#df-81578e2e-da97-4494-8593-68797b64a11f button');\n",
              "      quickchartButtonEl.style.display =\n",
              "        google.colab.kernel.accessAllowed ? 'block' : 'none';\n",
              "    })();\n",
              "  </script>\n",
              "</div>\n",
              "    </div>\n",
              "  </div>\n"
            ],
            "application/vnd.google.colaboratory.intrinsic+json": {
              "type": "dataframe",
              "variable_name": "test"
            }
          },
          "metadata": {},
          "execution_count": 58
        }
      ]
    },
    {
      "cell_type": "markdown",
      "source": [
        "## Manejo de la columna FAMI_EDUCACIONMADRE\n",
        "Esta columna presento varias modificaciones, entre ellas la agrupación de las etiquetas 'Ninguno', 'No sabe' y 'No aplica' en una sola, ademas de eso, se considera importante el hecho de jerarquizar dichas etiquetas"
      ],
      "metadata": {
        "id": "oQf_7H262nGw"
      }
    },
    {
      "cell_type": "code",
      "source": [
        "test['FAMI_EDUCACIONMADRE'].value_counts()"
      ],
      "metadata": {
        "colab": {
          "base_uri": "https://localhost:8080/"
        },
        "id": "28rM8vRi2aNL",
        "outputId": "56845fd7-54ac-4190-fa13-2f074aced03a"
      },
      "execution_count": 59,
      "outputs": [
        {
          "output_type": "execute_result",
          "data": {
            "text/plain": [
              "FAMI_EDUCACIONMADRE\n",
              "Secundaria (Bachillerato) completa      60649\n",
              "Primaria incompleta                     42149\n",
              "Técnica o tecnológica completa          38571\n",
              "Educación profesional completa          36477\n",
              "Secundaria (Bachillerato) incompleta    34566\n",
              "Primaria completa                       24399\n",
              "Postgrado                               20049\n",
              "Técnica o tecnológica incompleta        11650\n",
              "Educación profesional incompleta         9647\n",
              "Ninguno                                  6335\n",
              "No sabe                                  1286\n",
              "No Aplica                                 785\n",
              "Name: count, dtype: int64"
            ]
          },
          "metadata": {},
          "execution_count": 59
        }
      ]
    },
    {
      "cell_type": "code",
      "source": [
        "test['FAMI_EDUCACIONMADRE'] = test['FAMI_EDUCACIONMADRE'].replace(r'Ninguno', 'No Aplica')\n",
        "test['FAMI_EDUCACIONMADRE'] = test['FAMI_EDUCACIONMADRE'].replace(r'No sabe', 'No Aplica')\n",
        "test['FAMI_EDUCACIONMADRE'] = test['FAMI_EDUCACIONMADRE'].fillna('No Aplica')"
      ],
      "metadata": {
        "id": "Fj9xuP5s2uF5"
      },
      "execution_count": 60,
      "outputs": []
    },
    {
      "cell_type": "code",
      "source": [
        "nivelesMadre = ['No Aplica','Primaria incompleta','Primaria completa',\n",
        "            'Secundaria (Bachillerato) incompleta', 'Secundaria (Bachillerato) completa', 'Técnica o tecnológica incompleta',\n",
        "            'Técnica o tecnológica completa', 'Educación profesional incompleta', 'Educación profesional completa',\n",
        "            'Postgrado']\n",
        "encode = OneHotEncoder()\n",
        "\n",
        "#Trabaja con dataframes, no series\n",
        "codificadorPr = encode.fit_transform(test[['FAMI_EDUCACIONMADRE']])\n",
        "#generar codificacion\n",
        "\n",
        "arregloPr = codificadorPr.toarray()\n",
        "edu_madre = pd.DataFrame(arregloPr,\n",
        "                       columns = encode.categories_)\n",
        "test = pd.concat([test, edu_madre], axis = 'columns')\n",
        "test = test.drop('FAMI_EDUCACIONMADRE',axis=1)"
      ],
      "metadata": {
        "id": "T81q3gLK2uAZ"
      },
      "execution_count": 61,
      "outputs": []
    },
    {
      "cell_type": "code",
      "source": [
        "test.head()"
      ],
      "metadata": {
        "colab": {
          "base_uri": "https://localhost:8080/",
          "height": 290
        },
        "id": "ggq5l7ar2aKf",
        "outputId": "f8de35cf-4bce-42b5-8b6d-c6846a7cc735"
      },
      "execution_count": 62,
      "outputs": [
        {
          "output_type": "execute_result",
          "data": {
            "text/plain": [
              "       ID  FAMI_TIENEINTERNET  FAMI_TIENEAUTOMOVIL  ESTU_PAGOMATRICULAPROPIO  \\\n",
              "0  550236                 1.0                  0.0                       1.0   \n",
              "1   98545                 1.0                  0.0                       0.0   \n",
              "2  499179                 1.0                  0.0                       0.0   \n",
              "3  782980                 0.0                  0.0                       0.0   \n",
              "4  785185                 1.0                  0.0                       0.0   \n",
              "\n",
              "   FAMI_TIENECOMPUTADOR  (2018,)  (2019,)  (2020,)  (2021,)  \\\n",
              "0                   1.0      1.0      0.0      0.0      0.0   \n",
              "1                   1.0      0.0      0.0      1.0      0.0   \n",
              "2                   1.0      0.0      0.0      0.0      1.0   \n",
              "3                   0.0      0.0      1.0      0.0      0.0   \n",
              "4                   1.0      0.0      0.0      0.0      1.0   \n",
              "\n",
              "   (ADMINISTRACION,)  ...  (Educación profesional completa,)  \\\n",
              "0                0.0  ...                                0.0   \n",
              "1                1.0  ...                                0.0   \n",
              "2                0.0  ...                                0.0   \n",
              "3                0.0  ...                                0.0   \n",
              "4                1.0  ...                                0.0   \n",
              "\n",
              "   (Educación profesional incompleta,)  (No Aplica,)  (Postgrado,)  \\\n",
              "0                                  0.0           0.0           0.0   \n",
              "1                                  0.0           0.0           0.0   \n",
              "2                                  0.0           0.0           0.0   \n",
              "3                                  0.0           0.0           0.0   \n",
              "4                                  0.0           0.0           0.0   \n",
              "\n",
              "   (Primaria completa,)  (Primaria incompleta,)  \\\n",
              "0                   1.0                     0.0   \n",
              "1                   0.0                     0.0   \n",
              "2                   0.0                     0.0   \n",
              "3                   0.0                     1.0   \n",
              "4                   0.0                     0.0   \n",
              "\n",
              "   (Secundaria (Bachillerato) completa,)  \\\n",
              "0                                    0.0   \n",
              "1                                    0.0   \n",
              "2                                    1.0   \n",
              "3                                    0.0   \n",
              "4                                    1.0   \n",
              "\n",
              "   (Secundaria (Bachillerato) incompleta,)  (Técnica o tecnológica completa,)  \\\n",
              "0                                      0.0                                0.0   \n",
              "1                                      0.0                                1.0   \n",
              "2                                      0.0                                0.0   \n",
              "3                                      0.0                                0.0   \n",
              "4                                      0.0                                0.0   \n",
              "\n",
              "   (Técnica o tecnológica incompleta,)  \n",
              "0                                  0.0  \n",
              "1                                  0.0  \n",
              "2                                  0.0  \n",
              "3                                  0.0  \n",
              "4                                  0.0  \n",
              "\n",
              "[5 rows x 90 columns]"
            ],
            "text/html": [
              "\n",
              "  <div id=\"df-f05b98f6-e22a-4762-a9e0-be15012fd871\" class=\"colab-df-container\">\n",
              "    <div>\n",
              "<style scoped>\n",
              "    .dataframe tbody tr th:only-of-type {\n",
              "        vertical-align: middle;\n",
              "    }\n",
              "\n",
              "    .dataframe tbody tr th {\n",
              "        vertical-align: top;\n",
              "    }\n",
              "\n",
              "    .dataframe thead th {\n",
              "        text-align: right;\n",
              "    }\n",
              "</style>\n",
              "<table border=\"1\" class=\"dataframe\">\n",
              "  <thead>\n",
              "    <tr style=\"text-align: right;\">\n",
              "      <th></th>\n",
              "      <th>ID</th>\n",
              "      <th>FAMI_TIENEINTERNET</th>\n",
              "      <th>FAMI_TIENEAUTOMOVIL</th>\n",
              "      <th>ESTU_PAGOMATRICULAPROPIO</th>\n",
              "      <th>FAMI_TIENECOMPUTADOR</th>\n",
              "      <th>(2018,)</th>\n",
              "      <th>(2019,)</th>\n",
              "      <th>(2020,)</th>\n",
              "      <th>(2021,)</th>\n",
              "      <th>(ADMINISTRACION,)</th>\n",
              "      <th>...</th>\n",
              "      <th>(Educación profesional completa,)</th>\n",
              "      <th>(Educación profesional incompleta,)</th>\n",
              "      <th>(No Aplica,)</th>\n",
              "      <th>(Postgrado,)</th>\n",
              "      <th>(Primaria completa,)</th>\n",
              "      <th>(Primaria incompleta,)</th>\n",
              "      <th>(Secundaria (Bachillerato) completa,)</th>\n",
              "      <th>(Secundaria (Bachillerato) incompleta,)</th>\n",
              "      <th>(Técnica o tecnológica completa,)</th>\n",
              "      <th>(Técnica o tecnológica incompleta,)</th>\n",
              "    </tr>\n",
              "  </thead>\n",
              "  <tbody>\n",
              "    <tr>\n",
              "      <th>0</th>\n",
              "      <td>550236</td>\n",
              "      <td>1.0</td>\n",
              "      <td>0.0</td>\n",
              "      <td>1.0</td>\n",
              "      <td>1.0</td>\n",
              "      <td>1.0</td>\n",
              "      <td>0.0</td>\n",
              "      <td>0.0</td>\n",
              "      <td>0.0</td>\n",
              "      <td>0.0</td>\n",
              "      <td>...</td>\n",
              "      <td>0.0</td>\n",
              "      <td>0.0</td>\n",
              "      <td>0.0</td>\n",
              "      <td>0.0</td>\n",
              "      <td>1.0</td>\n",
              "      <td>0.0</td>\n",
              "      <td>0.0</td>\n",
              "      <td>0.0</td>\n",
              "      <td>0.0</td>\n",
              "      <td>0.0</td>\n",
              "    </tr>\n",
              "    <tr>\n",
              "      <th>1</th>\n",
              "      <td>98545</td>\n",
              "      <td>1.0</td>\n",
              "      <td>0.0</td>\n",
              "      <td>0.0</td>\n",
              "      <td>1.0</td>\n",
              "      <td>0.0</td>\n",
              "      <td>0.0</td>\n",
              "      <td>1.0</td>\n",
              "      <td>0.0</td>\n",
              "      <td>1.0</td>\n",
              "      <td>...</td>\n",
              "      <td>0.0</td>\n",
              "      <td>0.0</td>\n",
              "      <td>0.0</td>\n",
              "      <td>0.0</td>\n",
              "      <td>0.0</td>\n",
              "      <td>0.0</td>\n",
              "      <td>0.0</td>\n",
              "      <td>0.0</td>\n",
              "      <td>1.0</td>\n",
              "      <td>0.0</td>\n",
              "    </tr>\n",
              "    <tr>\n",
              "      <th>2</th>\n",
              "      <td>499179</td>\n",
              "      <td>1.0</td>\n",
              "      <td>0.0</td>\n",
              "      <td>0.0</td>\n",
              "      <td>1.0</td>\n",
              "      <td>0.0</td>\n",
              "      <td>0.0</td>\n",
              "      <td>0.0</td>\n",
              "      <td>1.0</td>\n",
              "      <td>0.0</td>\n",
              "      <td>...</td>\n",
              "      <td>0.0</td>\n",
              "      <td>0.0</td>\n",
              "      <td>0.0</td>\n",
              "      <td>0.0</td>\n",
              "      <td>0.0</td>\n",
              "      <td>0.0</td>\n",
              "      <td>1.0</td>\n",
              "      <td>0.0</td>\n",
              "      <td>0.0</td>\n",
              "      <td>0.0</td>\n",
              "    </tr>\n",
              "    <tr>\n",
              "      <th>3</th>\n",
              "      <td>782980</td>\n",
              "      <td>0.0</td>\n",
              "      <td>0.0</td>\n",
              "      <td>0.0</td>\n",
              "      <td>0.0</td>\n",
              "      <td>0.0</td>\n",
              "      <td>1.0</td>\n",
              "      <td>0.0</td>\n",
              "      <td>0.0</td>\n",
              "      <td>0.0</td>\n",
              "      <td>...</td>\n",
              "      <td>0.0</td>\n",
              "      <td>0.0</td>\n",
              "      <td>0.0</td>\n",
              "      <td>0.0</td>\n",
              "      <td>0.0</td>\n",
              "      <td>1.0</td>\n",
              "      <td>0.0</td>\n",
              "      <td>0.0</td>\n",
              "      <td>0.0</td>\n",
              "      <td>0.0</td>\n",
              "    </tr>\n",
              "    <tr>\n",
              "      <th>4</th>\n",
              "      <td>785185</td>\n",
              "      <td>1.0</td>\n",
              "      <td>0.0</td>\n",
              "      <td>0.0</td>\n",
              "      <td>1.0</td>\n",
              "      <td>0.0</td>\n",
              "      <td>0.0</td>\n",
              "      <td>0.0</td>\n",
              "      <td>1.0</td>\n",
              "      <td>1.0</td>\n",
              "      <td>...</td>\n",
              "      <td>0.0</td>\n",
              "      <td>0.0</td>\n",
              "      <td>0.0</td>\n",
              "      <td>0.0</td>\n",
              "      <td>0.0</td>\n",
              "      <td>0.0</td>\n",
              "      <td>1.0</td>\n",
              "      <td>0.0</td>\n",
              "      <td>0.0</td>\n",
              "      <td>0.0</td>\n",
              "    </tr>\n",
              "  </tbody>\n",
              "</table>\n",
              "<p>5 rows × 90 columns</p>\n",
              "</div>\n",
              "    <div class=\"colab-df-buttons\">\n",
              "\n",
              "  <div class=\"colab-df-container\">\n",
              "    <button class=\"colab-df-convert\" onclick=\"convertToInteractive('df-f05b98f6-e22a-4762-a9e0-be15012fd871')\"\n",
              "            title=\"Convert this dataframe to an interactive table.\"\n",
              "            style=\"display:none;\">\n",
              "\n",
              "  <svg xmlns=\"http://www.w3.org/2000/svg\" height=\"24px\" viewBox=\"0 -960 960 960\">\n",
              "    <path d=\"M120-120v-720h720v720H120Zm60-500h600v-160H180v160Zm220 220h160v-160H400v160Zm0 220h160v-160H400v160ZM180-400h160v-160H180v160Zm440 0h160v-160H620v160ZM180-180h160v-160H180v160Zm440 0h160v-160H620v160Z\"/>\n",
              "  </svg>\n",
              "    </button>\n",
              "\n",
              "  <style>\n",
              "    .colab-df-container {\n",
              "      display:flex;\n",
              "      gap: 12px;\n",
              "    }\n",
              "\n",
              "    .colab-df-convert {\n",
              "      background-color: #E8F0FE;\n",
              "      border: none;\n",
              "      border-radius: 50%;\n",
              "      cursor: pointer;\n",
              "      display: none;\n",
              "      fill: #1967D2;\n",
              "      height: 32px;\n",
              "      padding: 0 0 0 0;\n",
              "      width: 32px;\n",
              "    }\n",
              "\n",
              "    .colab-df-convert:hover {\n",
              "      background-color: #E2EBFA;\n",
              "      box-shadow: 0px 1px 2px rgba(60, 64, 67, 0.3), 0px 1px 3px 1px rgba(60, 64, 67, 0.15);\n",
              "      fill: #174EA6;\n",
              "    }\n",
              "\n",
              "    .colab-df-buttons div {\n",
              "      margin-bottom: 4px;\n",
              "    }\n",
              "\n",
              "    [theme=dark] .colab-df-convert {\n",
              "      background-color: #3B4455;\n",
              "      fill: #D2E3FC;\n",
              "    }\n",
              "\n",
              "    [theme=dark] .colab-df-convert:hover {\n",
              "      background-color: #434B5C;\n",
              "      box-shadow: 0px 1px 3px 1px rgba(0, 0, 0, 0.15);\n",
              "      filter: drop-shadow(0px 1px 2px rgba(0, 0, 0, 0.3));\n",
              "      fill: #FFFFFF;\n",
              "    }\n",
              "  </style>\n",
              "\n",
              "    <script>\n",
              "      const buttonEl =\n",
              "        document.querySelector('#df-f05b98f6-e22a-4762-a9e0-be15012fd871 button.colab-df-convert');\n",
              "      buttonEl.style.display =\n",
              "        google.colab.kernel.accessAllowed ? 'block' : 'none';\n",
              "\n",
              "      async function convertToInteractive(key) {\n",
              "        const element = document.querySelector('#df-f05b98f6-e22a-4762-a9e0-be15012fd871');\n",
              "        const dataTable =\n",
              "          await google.colab.kernel.invokeFunction('convertToInteractive',\n",
              "                                                    [key], {});\n",
              "        if (!dataTable) return;\n",
              "\n",
              "        const docLinkHtml = 'Like what you see? Visit the ' +\n",
              "          '<a target=\"_blank\" href=https://colab.research.google.com/notebooks/data_table.ipynb>data table notebook</a>'\n",
              "          + ' to learn more about interactive tables.';\n",
              "        element.innerHTML = '';\n",
              "        dataTable['output_type'] = 'display_data';\n",
              "        await google.colab.output.renderOutput(dataTable, element);\n",
              "        const docLink = document.createElement('div');\n",
              "        docLink.innerHTML = docLinkHtml;\n",
              "        element.appendChild(docLink);\n",
              "      }\n",
              "    </script>\n",
              "  </div>\n",
              "\n",
              "\n",
              "<div id=\"df-8b0ccaa0-2cfd-4b13-a0fe-66ccf8c7ce37\">\n",
              "  <button class=\"colab-df-quickchart\" onclick=\"quickchart('df-8b0ccaa0-2cfd-4b13-a0fe-66ccf8c7ce37')\"\n",
              "            title=\"Suggest charts\"\n",
              "            style=\"display:none;\">\n",
              "\n",
              "<svg xmlns=\"http://www.w3.org/2000/svg\" height=\"24px\"viewBox=\"0 0 24 24\"\n",
              "     width=\"24px\">\n",
              "    <g>\n",
              "        <path d=\"M19 3H5c-1.1 0-2 .9-2 2v14c0 1.1.9 2 2 2h14c1.1 0 2-.9 2-2V5c0-1.1-.9-2-2-2zM9 17H7v-7h2v7zm4 0h-2V7h2v10zm4 0h-2v-4h2v4z\"/>\n",
              "    </g>\n",
              "</svg>\n",
              "  </button>\n",
              "\n",
              "<style>\n",
              "  .colab-df-quickchart {\n",
              "      --bg-color: #E8F0FE;\n",
              "      --fill-color: #1967D2;\n",
              "      --hover-bg-color: #E2EBFA;\n",
              "      --hover-fill-color: #174EA6;\n",
              "      --disabled-fill-color: #AAA;\n",
              "      --disabled-bg-color: #DDD;\n",
              "  }\n",
              "\n",
              "  [theme=dark] .colab-df-quickchart {\n",
              "      --bg-color: #3B4455;\n",
              "      --fill-color: #D2E3FC;\n",
              "      --hover-bg-color: #434B5C;\n",
              "      --hover-fill-color: #FFFFFF;\n",
              "      --disabled-bg-color: #3B4455;\n",
              "      --disabled-fill-color: #666;\n",
              "  }\n",
              "\n",
              "  .colab-df-quickchart {\n",
              "    background-color: var(--bg-color);\n",
              "    border: none;\n",
              "    border-radius: 50%;\n",
              "    cursor: pointer;\n",
              "    display: none;\n",
              "    fill: var(--fill-color);\n",
              "    height: 32px;\n",
              "    padding: 0;\n",
              "    width: 32px;\n",
              "  }\n",
              "\n",
              "  .colab-df-quickchart:hover {\n",
              "    background-color: var(--hover-bg-color);\n",
              "    box-shadow: 0 1px 2px rgba(60, 64, 67, 0.3), 0 1px 3px 1px rgba(60, 64, 67, 0.15);\n",
              "    fill: var(--button-hover-fill-color);\n",
              "  }\n",
              "\n",
              "  .colab-df-quickchart-complete:disabled,\n",
              "  .colab-df-quickchart-complete:disabled:hover {\n",
              "    background-color: var(--disabled-bg-color);\n",
              "    fill: var(--disabled-fill-color);\n",
              "    box-shadow: none;\n",
              "  }\n",
              "\n",
              "  .colab-df-spinner {\n",
              "    border: 2px solid var(--fill-color);\n",
              "    border-color: transparent;\n",
              "    border-bottom-color: var(--fill-color);\n",
              "    animation:\n",
              "      spin 1s steps(1) infinite;\n",
              "  }\n",
              "\n",
              "  @keyframes spin {\n",
              "    0% {\n",
              "      border-color: transparent;\n",
              "      border-bottom-color: var(--fill-color);\n",
              "      border-left-color: var(--fill-color);\n",
              "    }\n",
              "    20% {\n",
              "      border-color: transparent;\n",
              "      border-left-color: var(--fill-color);\n",
              "      border-top-color: var(--fill-color);\n",
              "    }\n",
              "    30% {\n",
              "      border-color: transparent;\n",
              "      border-left-color: var(--fill-color);\n",
              "      border-top-color: var(--fill-color);\n",
              "      border-right-color: var(--fill-color);\n",
              "    }\n",
              "    40% {\n",
              "      border-color: transparent;\n",
              "      border-right-color: var(--fill-color);\n",
              "      border-top-color: var(--fill-color);\n",
              "    }\n",
              "    60% {\n",
              "      border-color: transparent;\n",
              "      border-right-color: var(--fill-color);\n",
              "    }\n",
              "    80% {\n",
              "      border-color: transparent;\n",
              "      border-right-color: var(--fill-color);\n",
              "      border-bottom-color: var(--fill-color);\n",
              "    }\n",
              "    90% {\n",
              "      border-color: transparent;\n",
              "      border-bottom-color: var(--fill-color);\n",
              "    }\n",
              "  }\n",
              "</style>\n",
              "\n",
              "  <script>\n",
              "    async function quickchart(key) {\n",
              "      const quickchartButtonEl =\n",
              "        document.querySelector('#' + key + ' button');\n",
              "      quickchartButtonEl.disabled = true;  // To prevent multiple clicks.\n",
              "      quickchartButtonEl.classList.add('colab-df-spinner');\n",
              "      try {\n",
              "        const charts = await google.colab.kernel.invokeFunction(\n",
              "            'suggestCharts', [key], {});\n",
              "      } catch (error) {\n",
              "        console.error('Error during call to suggestCharts:', error);\n",
              "      }\n",
              "      quickchartButtonEl.classList.remove('colab-df-spinner');\n",
              "      quickchartButtonEl.classList.add('colab-df-quickchart-complete');\n",
              "    }\n",
              "    (() => {\n",
              "      let quickchartButtonEl =\n",
              "        document.querySelector('#df-8b0ccaa0-2cfd-4b13-a0fe-66ccf8c7ce37 button');\n",
              "      quickchartButtonEl.style.display =\n",
              "        google.colab.kernel.accessAllowed ? 'block' : 'none';\n",
              "    })();\n",
              "  </script>\n",
              "</div>\n",
              "    </div>\n",
              "  </div>\n"
            ],
            "application/vnd.google.colaboratory.intrinsic+json": {
              "type": "dataframe",
              "variable_name": "test"
            }
          },
          "metadata": {},
          "execution_count": 62
        }
      ]
    },
    {
      "cell_type": "code",
      "source": [
        "test.shape"
      ],
      "metadata": {
        "colab": {
          "base_uri": "https://localhost:8080/"
        },
        "id": "E6KVyJCC2_dL",
        "outputId": "29231e43-f6f5-40cc-b425-ff48741b74b4"
      },
      "execution_count": 63,
      "outputs": [
        {
          "output_type": "execute_result",
          "data": {
            "text/plain": [
              "(296786, 90)"
            ]
          },
          "metadata": {},
          "execution_count": 63
        }
      ]
    },
    {
      "cell_type": "code",
      "source": [
        "print(len(test.columns))\n",
        "test.columns"
      ],
      "metadata": {
        "colab": {
          "base_uri": "https://localhost:8080/"
        },
        "id": "1byesfOz2_ac",
        "outputId": "6434bcc6-c2c0-454f-952c-11fbfc934426"
      },
      "execution_count": 64,
      "outputs": [
        {
          "output_type": "stream",
          "name": "stdout",
          "text": [
            "90\n"
          ]
        },
        {
          "output_type": "execute_result",
          "data": {
            "text/plain": [
              "Index([                                         'ID',\n",
              "                                'FAMI_TIENEINTERNET',\n",
              "                               'FAMI_TIENEAUTOMOVIL',\n",
              "                          'ESTU_PAGOMATRICULAPROPIO',\n",
              "                              'FAMI_TIENECOMPUTADOR',\n",
              "                                           ('2018',),\n",
              "                                           ('2019',),\n",
              "                                           ('2020',),\n",
              "                                           ('2021',),\n",
              "                                 ('ADMINISTRACION',),\n",
              "                                      ('AGRONOMIA',),\n",
              "                                          ('ARTES',),\n",
              "                                       ('CIENCIAS',),\n",
              "                                           ('CINE',),\n",
              "                                       ('COMERCIO',),\n",
              "                                   ('COMUNICACION',),\n",
              "                                   ('CONSTRUCCION',),\n",
              "                                     ('CONTADURIA',),\n",
              "                                      ('DIRECCION',),\n",
              "                                         ('DISEÑO',),\n",
              "                                       ('ECONOMIA',),\n",
              "                                       ('ESTUDIOS',),\n",
              "                                      ('FILOLOGIA',),\n",
              "                                      ('FILOSOFIA',),\n",
              "                                       ('FINANZAS',),\n",
              "                                      ('GEOGRAFIA',),\n",
              "                                       ('GERENCIA',),\n",
              "                                        ('GESTION',),\n",
              "                                       ('HISTORIA',),\n",
              "                                      ('HOTELERIA',),\n",
              "                                     ('INGENIERIA',),\n",
              "                                        ('LENGUAS',),\n",
              "                                   ('LICENCIATURA',),\n",
              "                                     ('LITERATURA',),\n",
              "                                    ('MATEMATICAS',),\n",
              "                                       ('MERCADEO',),\n",
              "                                         ('MUSICA',),\n",
              "                                       ('NEGOCIOS',),\n",
              "                                          ('Otras',),\n",
              "                                    ('PROFESIONAL',),\n",
              "                                     ('PSICOLOGIA',),\n",
              "                                     ('PUBLICIDAD',),\n",
              "                                        ('QUIMICA',),\n",
              "                                     ('RELACIONES',),\n",
              "                                    ('VETERINARIA',),\n",
              "                                        ('AMAZONA',),\n",
              "                                         ('ANDINA',),\n",
              "                                         ('CARIBE',),\n",
              "                                      ('ORINOQUIA',),\n",
              "                                       ('PACIFICA',),\n",
              "         ('Entre 1 millón y menos de 2.5 millones',),\n",
              "       ('Entre 2.5 millones y menos de 4 millones',),\n",
              "       ('Entre 4 millones y menos de 5.5 millones',),\n",
              "       ('Entre 5.5 millones y menos de 7 millones',),\n",
              "              ('Entre 500 mil y menos de 1 millón',),\n",
              "                               ('Menos de 500 mil',),\n",
              "                              ('Más de 7 millones',),\n",
              "                              ('No pagó matrícula',),\n",
              "                                              ('0',),\n",
              "                            ('Entre 11 y 20 horas',),\n",
              "                            ('Entre 21 y 30 horas',),\n",
              "                              ('Menos de 10 horas',),\n",
              "                                ('Más de 30 horas',),\n",
              "                                      ('Estrato 1',),\n",
              "                                      ('Estrato 2',),\n",
              "                                      ('Estrato 3',),\n",
              "                                      ('Estrato 4',),\n",
              "                                      ('Estrato 5',),\n",
              "                                      ('Estrato 6',),\n",
              "                                    ('Sin Estrato',),\n",
              "                 ('Educación profesional completa',),\n",
              "               ('Educación profesional incompleta',),\n",
              "                                      ('No Aplica',),\n",
              "                                      ('Postgrado',),\n",
              "                              ('Primaria completa',),\n",
              "                            ('Primaria incompleta',),\n",
              "             ('Secundaria (Bachillerato) completa',),\n",
              "           ('Secundaria (Bachillerato) incompleta',),\n",
              "                 ('Técnica o tecnológica completa',),\n",
              "               ('Técnica o tecnológica incompleta',),\n",
              "                 ('Educación profesional completa',),\n",
              "               ('Educación profesional incompleta',),\n",
              "                                      ('No Aplica',),\n",
              "                                      ('Postgrado',),\n",
              "                              ('Primaria completa',),\n",
              "                            ('Primaria incompleta',),\n",
              "             ('Secundaria (Bachillerato) completa',),\n",
              "           ('Secundaria (Bachillerato) incompleta',),\n",
              "                 ('Técnica o tecnológica completa',),\n",
              "               ('Técnica o tecnológica incompleta',)],\n",
              "      dtype='object')"
            ]
          },
          "metadata": {},
          "execution_count": 64
        }
      ]
    },
    {
      "cell_type": "code",
      "source": [
        "archivo = test.to_csv(\"testP3.csv\", index = False)"
      ],
      "metadata": {
        "id": "lDo3S4dQ2_Si"
      },
      "execution_count": 65,
      "outputs": []
    },
    {
      "cell_type": "code",
      "source": [
        "!head testP3.csv"
      ],
      "metadata": {
        "colab": {
          "base_uri": "https://localhost:8080/"
        },
        "id": "jzijXlXu3IaU",
        "outputId": "4a948b81-394e-4349-e0d8-ea83f66e0da0"
      },
      "execution_count": 66,
      "outputs": [
        {
          "output_type": "stream",
          "name": "stdout",
          "text": [
            "ID,FAMI_TIENEINTERNET,FAMI_TIENEAUTOMOVIL,ESTU_PAGOMATRICULAPROPIO,FAMI_TIENECOMPUTADOR,\"('2018',)\",\"('2019',)\",\"('2020',)\",\"('2021',)\",\"('ADMINISTRACION',)\",\"('AGRONOMIA',)\",\"('ARTES',)\",\"('CIENCIAS',)\",\"('CINE',)\",\"('COMERCIO',)\",\"('COMUNICACION',)\",\"('CONSTRUCCION',)\",\"('CONTADURIA',)\",\"('DIRECCION',)\",\"('DISEÑO',)\",\"('ECONOMIA',)\",\"('ESTUDIOS',)\",\"('FILOLOGIA',)\",\"('FILOSOFIA',)\",\"('FINANZAS',)\",\"('GEOGRAFIA',)\",\"('GERENCIA',)\",\"('GESTION',)\",\"('HISTORIA',)\",\"('HOTELERIA',)\",\"('INGENIERIA',)\",\"('LENGUAS',)\",\"('LICENCIATURA',)\",\"('LITERATURA',)\",\"('MATEMATICAS',)\",\"('MERCADEO',)\",\"('MUSICA',)\",\"('NEGOCIOS',)\",\"('Otras',)\",\"('PROFESIONAL',)\",\"('PSICOLOGIA',)\",\"('PUBLICIDAD',)\",\"('QUIMICA',)\",\"('RELACIONES',)\",\"('VETERINARIA',)\",\"('AMAZONA',)\",\"('ANDINA',)\",\"('CARIBE',)\",\"('ORINOQUIA',)\",\"('PACIFICA',)\",\"('Entre 1 millón y menos de 2.5 millones',)\",\"('Entre 2.5 millones y menos de 4 millones',)\",\"('Entre 4 millones y menos de 5.5 millones',)\",\"('Entre 5.5 millones y menos de 7 millones',)\",\"('Entre 500 mil y menos de 1 millón',)\",\"('Menos de 500 mil',)\",\"('Más de 7 millones',)\",\"('No pagó matrícula',)\",\"('0',)\",\"('Entre 11 y 20 horas',)\",\"('Entre 21 y 30 horas',)\",\"('Menos de 10 horas',)\",\"('Más de 30 horas',)\",\"('Estrato 1',)\",\"('Estrato 2',)\",\"('Estrato 3',)\",\"('Estrato 4',)\",\"('Estrato 5',)\",\"('Estrato 6',)\",\"('Sin Estrato',)\",\"('Educación profesional completa',)\",\"('Educación profesional incompleta',)\",\"('No Aplica',)\",\"('Postgrado',)\",\"('Primaria completa',)\",\"('Primaria incompleta',)\",\"('Secundaria (Bachillerato) completa',)\",\"('Secundaria (Bachillerato) incompleta',)\",\"('Técnica o tecnológica completa',)\",\"('Técnica o tecnológica incompleta',)\",\"('Educación profesional completa',)\",\"('Educación profesional incompleta',)\",\"('No Aplica',)\",\"('Postgrado',)\",\"('Primaria completa',)\",\"('Primaria incompleta',)\",\"('Secundaria (Bachillerato) completa',)\",\"('Secundaria (Bachillerato) incompleta',)\",\"('Técnica o tecnológica completa',)\",\"('Técnica o tecnológica incompleta',)\"\n",
            "550236,1.0,0.0,1.0,1.0,1.0,0.0,0.0,0.0,0.0,0.0,0.0,0.0,0.0,0.0,0.0,0.0,0.0,0.0,0.0,0.0,0.0,0.0,0.0,0.0,0.0,0.0,0.0,0.0,0.0,0.0,0.0,0.0,0.0,0.0,0.0,0.0,0.0,1.0,0.0,0.0,0.0,0.0,0.0,0.0,0.0,0.0,1.0,0.0,0.0,0.0,0.0,0.0,0.0,0.0,1.0,0.0,0.0,0.0,0.0,0.0,1.0,0.0,0.0,0.0,1.0,0.0,0.0,0.0,0.0,0.0,0.0,0.0,0.0,0.0,0.0,0.0,0.0,1.0,0.0,0.0,0.0,0.0,0.0,1.0,0.0,0.0,0.0,0.0,0.0\n",
            "98545,1.0,0.0,0.0,1.0,0.0,0.0,1.0,0.0,1.0,0.0,0.0,0.0,0.0,0.0,0.0,0.0,0.0,0.0,0.0,0.0,0.0,0.0,0.0,0.0,0.0,0.0,0.0,0.0,0.0,0.0,0.0,0.0,0.0,0.0,0.0,0.0,0.0,0.0,0.0,0.0,0.0,0.0,0.0,0.0,0.0,1.0,0.0,0.0,0.0,0.0,1.0,0.0,0.0,0.0,0.0,0.0,0.0,0.0,0.0,1.0,0.0,0.0,0.0,1.0,0.0,0.0,0.0,0.0,0.0,0.0,0.0,0.0,0.0,0.0,0.0,1.0,0.0,0.0,0.0,0.0,0.0,0.0,0.0,0.0,0.0,0.0,0.0,1.0,0.0\n",
            "499179,1.0,0.0,0.0,1.0,0.0,0.0,0.0,1.0,0.0,0.0,0.0,0.0,0.0,0.0,0.0,0.0,0.0,0.0,0.0,0.0,0.0,0.0,0.0,0.0,0.0,0.0,0.0,0.0,0.0,1.0,0.0,0.0,0.0,0.0,0.0,0.0,0.0,0.0,0.0,0.0,0.0,0.0,0.0,0.0,0.0,1.0,0.0,0.0,0.0,1.0,0.0,0.0,0.0,0.0,0.0,0.0,0.0,1.0,0.0,0.0,0.0,0.0,0.0,0.0,1.0,0.0,0.0,0.0,0.0,0.0,0.0,0.0,0.0,0.0,0.0,0.0,1.0,0.0,0.0,0.0,0.0,0.0,0.0,0.0,0.0,1.0,0.0,0.0,0.0\n",
            "782980,0.0,0.0,0.0,0.0,0.0,1.0,0.0,0.0,0.0,0.0,0.0,0.0,0.0,0.0,0.0,0.0,1.0,0.0,0.0,0.0,0.0,0.0,0.0,0.0,0.0,0.0,0.0,0.0,0.0,0.0,0.0,0.0,0.0,0.0,0.0,0.0,0.0,0.0,0.0,0.0,0.0,0.0,0.0,0.0,0.0,0.0,1.0,0.0,0.0,1.0,0.0,0.0,0.0,0.0,0.0,0.0,0.0,0.0,0.0,1.0,0.0,0.0,1.0,0.0,0.0,0.0,0.0,0.0,0.0,0.0,0.0,0.0,0.0,0.0,1.0,0.0,0.0,0.0,0.0,0.0,0.0,0.0,0.0,0.0,1.0,0.0,0.0,0.0,0.0\n",
            "785185,1.0,0.0,0.0,1.0,0.0,0.0,0.0,1.0,1.0,0.0,0.0,0.0,0.0,0.0,0.0,0.0,0.0,0.0,0.0,0.0,0.0,0.0,0.0,0.0,0.0,0.0,0.0,0.0,0.0,0.0,0.0,0.0,0.0,0.0,0.0,0.0,0.0,0.0,0.0,0.0,0.0,0.0,0.0,0.0,0.0,0.0,1.0,0.0,0.0,0.0,1.0,0.0,0.0,0.0,0.0,0.0,0.0,0.0,1.0,0.0,0.0,0.0,0.0,1.0,0.0,0.0,0.0,0.0,0.0,0.0,0.0,0.0,0.0,0.0,0.0,1.0,0.0,0.0,0.0,0.0,0.0,0.0,0.0,0.0,0.0,1.0,0.0,0.0,0.0\n",
            "58495,1.0,0.0,1.0,1.0,1.0,0.0,0.0,0.0,1.0,0.0,0.0,0.0,0.0,0.0,0.0,0.0,0.0,0.0,0.0,0.0,0.0,0.0,0.0,0.0,0.0,0.0,0.0,0.0,0.0,0.0,0.0,0.0,0.0,0.0,0.0,0.0,0.0,0.0,0.0,0.0,0.0,0.0,0.0,0.0,0.0,0.0,0.0,0.0,1.0,0.0,0.0,0.0,0.0,1.0,0.0,0.0,0.0,0.0,0.0,0.0,0.0,1.0,1.0,0.0,0.0,0.0,0.0,0.0,0.0,0.0,0.0,1.0,0.0,0.0,0.0,0.0,0.0,0.0,0.0,0.0,0.0,0.0,0.0,0.0,0.0,1.0,0.0,0.0,0.0\n",
            "705444,1.0,1.0,0.0,1.0,0.0,1.0,0.0,0.0,0.0,0.0,0.0,0.0,0.0,0.0,0.0,0.0,0.0,0.0,0.0,0.0,0.0,0.0,0.0,0.0,0.0,0.0,0.0,0.0,0.0,1.0,0.0,0.0,0.0,0.0,0.0,0.0,0.0,0.0,0.0,0.0,0.0,0.0,0.0,0.0,0.0,1.0,0.0,0.0,0.0,0.0,0.0,0.0,0.0,0.0,1.0,0.0,0.0,1.0,0.0,0.0,0.0,0.0,0.0,0.0,1.0,0.0,0.0,0.0,0.0,0.0,0.0,0.0,0.0,1.0,0.0,0.0,0.0,0.0,0.0,0.0,0.0,0.0,0.0,0.0,0.0,0.0,0.0,1.0,0.0\n",
            "557548,1.0,1.0,0.0,1.0,1.0,0.0,0.0,0.0,0.0,0.0,0.0,0.0,0.0,0.0,0.0,0.0,0.0,0.0,0.0,0.0,0.0,0.0,0.0,0.0,0.0,0.0,0.0,0.0,0.0,1.0,0.0,0.0,0.0,0.0,0.0,0.0,0.0,0.0,0.0,0.0,0.0,0.0,0.0,0.0,0.0,1.0,0.0,0.0,0.0,0.0,0.0,0.0,0.0,0.0,0.0,1.0,0.0,0.0,0.0,0.0,1.0,0.0,0.0,0.0,0.0,1.0,0.0,0.0,0.0,0.0,0.0,0.0,1.0,0.0,0.0,0.0,0.0,0.0,0.0,0.0,0.0,0.0,1.0,0.0,0.0,0.0,0.0,0.0,0.0\n",
            "519909,0.0,0.0,0.0,1.0,0.0,1.0,0.0,0.0,0.0,0.0,0.0,0.0,0.0,0.0,0.0,0.0,0.0,0.0,0.0,0.0,0.0,0.0,0.0,0.0,0.0,0.0,0.0,0.0,0.0,1.0,0.0,0.0,0.0,0.0,0.0,0.0,0.0,0.0,0.0,0.0,0.0,0.0,0.0,0.0,0.0,0.0,1.0,0.0,0.0,1.0,0.0,0.0,0.0,0.0,0.0,0.0,0.0,0.0,0.0,1.0,0.0,0.0,0.0,1.0,0.0,0.0,0.0,0.0,0.0,0.0,0.0,0.0,0.0,0.0,0.0,1.0,0.0,0.0,0.0,0.0,0.0,0.0,0.0,0.0,0.0,1.0,0.0,0.0,0.0\n"
          ]
        }
      ]
    }
  ]
}