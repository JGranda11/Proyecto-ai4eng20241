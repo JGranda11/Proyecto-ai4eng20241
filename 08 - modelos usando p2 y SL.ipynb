{
  "nbformat": 4,
  "nbformat_minor": 0,
  "metadata": {
    "colab": {
      "provenance": [],
      "authorship_tag": "ABX9TyNHj5h/w3JhF1EAnvR2QRKL",
      "include_colab_link": true
    },
    "kernelspec": {
      "name": "python3",
      "display_name": "Python 3"
    },
    "language_info": {
      "name": "python"
    }
  },
  "cells": [
    {
      "cell_type": "markdown",
      "metadata": {
        "id": "view-in-github",
        "colab_type": "text"
      },
      "source": [
        "<a href=\"https://colab.research.google.com/github/JGranda11/Proyecto-ai4eng20241/blob/main/08%20-%20modelos%20usando%20p2%20y%20SL.ipynb\" target=\"_parent\"><img src=\"https://colab.research.google.com/assets/colab-badge.svg\" alt=\"Open In Colab\"/></a>"
      ]
    },
    {
      "cell_type": "markdown",
      "source": [
        "##Preprocesado numero 2\n",
        "Para la realización de esta limpieza tomamos de referencia el priemro, y decidimos tomar algoritmos oguales a los que teniamos en el primer acercamiento"
      ],
      "metadata": {
        "id": "n6i-D80N1uOG"
      }
    },
    {
      "cell_type": "code",
      "execution_count": 1,
      "metadata": {
        "id": "YDnWiqBfTVdh"
      },
      "outputs": [],
      "source": [
        "#bibliotecas de machine learning\n",
        "import pandas as pd\n",
        "import numpy as np\n",
        "import matplotlib.pyplot as plt\n",
        "from sklearn.linear_model import LinearRegression\n",
        "from sklearn.tree import DecisionTreeClassifier\n",
        "from sklearn.ensemble import RandomForestClassifier\n",
        "from sklearn.neighbors import KNeighborsClassifier\n",
        "from sklearn.model_selection import cross_validate, ShuffleSplit, KFold, cross_val_score\n",
        "\n",
        "# Libreria para transformar los datos\n",
        "from sklearn.preprocessing import StandardScaler, MinMaxScaler\n",
        "\n",
        "# Seaborn: Libreria para la visualización de datos\n",
        "import seaborn as sns"
      ]
    },
    {
      "cell_type": "code",
      "source": [
        "train = pd.read_csv('trainP.csv')"
      ],
      "metadata": {
        "id": "vrdffOzfULw4"
      },
      "execution_count": 2,
      "outputs": []
    },
    {
      "cell_type": "code",
      "source": [
        "test = pd.read_csv('testP.csv')"
      ],
      "metadata": {
        "id": "2D0VoBT4UMIg"
      },
      "execution_count": 3,
      "outputs": []
    },
    {
      "cell_type": "code",
      "source": [
        "test.shape, train.shape"
      ],
      "metadata": {
        "colab": {
          "base_uri": "https://localhost:8080/"
        },
        "id": "jVdNBLRCUPs4",
        "outputId": "65ac763a-350e-4710-e861-e637470ea61a"
      },
      "execution_count": 4,
      "outputs": [
        {
          "output_type": "execute_result",
          "data": {
            "text/plain": [
              "((296786, 52), (692500, 52))"
            ]
          },
          "metadata": {},
          "execution_count": 4
        }
      ]
    },
    {
      "cell_type": "markdown",
      "source": [
        "## Definción de la estructura"
      ],
      "metadata": {
        "id": "SOPkKIbF2oNt"
      }
    },
    {
      "cell_type": "code",
      "source": [
        "X = train.drop(['RENDIMIENTO_GLOBAL'],axis=1)"
      ],
      "metadata": {
        "id": "7F-RhNBCURe4"
      },
      "execution_count": 5,
      "outputs": []
    },
    {
      "cell_type": "code",
      "source": [
        "Xtest = test.drop(['ID'], axis=1)"
      ],
      "metadata": {
        "id": "G73uqwb7UTLw"
      },
      "execution_count": 6,
      "outputs": []
    },
    {
      "cell_type": "code",
      "source": [
        "y = train['RENDIMIENTO_GLOBAL'].values"
      ],
      "metadata": {
        "id": "kt5QUGk1UUh4"
      },
      "execution_count": 7,
      "outputs": []
    },
    {
      "cell_type": "code",
      "source": [
        "print(np.unique(X))\n",
        "print(np.unique(y))"
      ],
      "metadata": {
        "colab": {
          "base_uri": "https://localhost:8080/"
        },
        "id": "BcpCmPJpVJZf",
        "outputId": "57a2105d-b1d7-486e-a1d7-45acdfd8fa17"
      },
      "execution_count": 8,
      "outputs": [
        {
          "output_type": "stream",
          "name": "stdout",
          "text": [
            "[0. 1. 2. 3. 4. 5. 6. 7. 8. 9.]\n",
            "[0. 1. 2. 3.]\n"
          ]
        }
      ]
    },
    {
      "cell_type": "markdown",
      "source": [
        "## Partición de los datos\n",
        "Se quiere tomar una partición de los datos como se hizo en el primer caso"
      ],
      "metadata": {
        "id": "zCmY5r9l2rjj"
      }
    },
    {
      "cell_type": "code",
      "source": [
        "from sklearn.model_selection import train_test_split\n",
        "\n",
        "test_size = 0.3\n",
        "val_size  = test_size/(1-test_size) # Elementos de validación\n",
        "\n",
        "print (X.shape, y.shape)\n",
        "print (\"test size %.2f\"%test_size)\n",
        "print (\"val size is %.2f (relative to %.2f) \"%(val_size, 1-test_size))\n",
        "\n",
        "#Xtr, ytr son los datos que se usan para entrenar el modelo\n",
        "#Xts, yts son los datos que usamos para medir una metrica\n",
        "Xtr, Xts, ytr, yts = train_test_split(X, y, test_size=test_size)\n",
        "print (Xtr.shape, Xts.shape)"
      ],
      "metadata": {
        "colab": {
          "base_uri": "https://localhost:8080/"
        },
        "id": "wMbMDkvzVLe-",
        "outputId": "1dfa890d-7702-438b-afeb-05c84569d122"
      },
      "execution_count": 9,
      "outputs": [
        {
          "output_type": "stream",
          "name": "stdout",
          "text": [
            "(692500, 51) (692500,)\n",
            "test size 0.30\n",
            "val size is 0.43 (relative to 0.70) \n",
            "(484750, 51) (207750, 51)\n"
          ]
        }
      ]
    },
    {
      "cell_type": "code",
      "source": [
        "estimator1 = DecisionTreeClassifier()\n",
        "z1 = cross_validate(estimator1, Xtr, ytr, return_train_score=True, return_estimator=True,\n",
        "                    scoring='accuracy', cv=ShuffleSplit(n_splits=5, test_size=0.3))"
      ],
      "metadata": {
        "id": "voKVvmR0VN6m"
      },
      "execution_count": 11,
      "outputs": []
    },
    {
      "cell_type": "code",
      "source": [
        "z1"
      ],
      "metadata": {
        "colab": {
          "base_uri": "https://localhost:8080/"
        },
        "id": "YQFvNmKcVOVX",
        "outputId": "05ece46b-d196-4c3b-f11e-35cd8f0c9272"
      },
      "execution_count": 12,
      "outputs": [
        {
          "output_type": "execute_result",
          "data": {
            "text/plain": [
              "{'fit_time': array([ 4.5516901 , 12.70512819,  6.23155499,  3.76690483,  3.6614306 ]),\n",
              " 'score_time': array([0.20436192, 0.30359221, 0.14681745, 0.12797832, 0.12873173]),\n",
              " 'estimator': [DecisionTreeClassifier(),\n",
              "  DecisionTreeClassifier(),\n",
              "  DecisionTreeClassifier(),\n",
              "  DecisionTreeClassifier(),\n",
              "  DecisionTreeClassifier()],\n",
              " 'test_score': array([0.34458999, 0.34291215, 0.34359979, 0.34144061, 0.34380609]),\n",
              " 'train_score': array([0.77842481, 0.77855448, 0.77825094, 0.77844544, 0.77843366])}"
            ]
          },
          "metadata": {},
          "execution_count": 12
        }
      ]
    },
    {
      "cell_type": "code",
      "source": [
        "estimator2 = RandomForestClassifier(max_depth = 15)\n",
        "z2 = cross_validate(estimator2, Xtr, ytr, return_train_score=True, return_estimator=True,\n",
        "                    scoring='accuracy', cv=ShuffleSplit(n_splits=5, test_size=0.3))"
      ],
      "metadata": {
        "id": "uQhK7cu0VPCm"
      },
      "execution_count": 13,
      "outputs": []
    },
    {
      "cell_type": "code",
      "source": [
        "z2"
      ],
      "metadata": {
        "colab": {
          "base_uri": "https://localhost:8080/"
        },
        "id": "YNG80O-nVQ9-",
        "outputId": "d8c6d04f-851f-479c-fa1e-874ec98e04db"
      },
      "execution_count": 15,
      "outputs": [
        {
          "output_type": "execute_result",
          "data": {
            "text/plain": [
              "{'fit_time': array([55.31026602, 50.97593307, 50.28741717, 45.73684025, 46.02279711]),\n",
              " 'score_time': array([7.15652847, 4.80316448, 3.79813719, 3.75032163, 3.73883462]),\n",
              " 'estimator': [RandomForestClassifier(max_depth=15),\n",
              "  RandomForestClassifier(max_depth=15),\n",
              "  RandomForestClassifier(max_depth=15),\n",
              "  RandomForestClassifier(max_depth=15),\n",
              "  RandomForestClassifier(max_depth=15)],\n",
              " 'test_score': array([0.40560426, 0.40533608, 0.40411896, 0.40702768, 0.40512292]),\n",
              " 'train_score': array([0.50738083, 0.50589847, 0.50837398, 0.50675017, 0.50616665])}"
            ]
          },
          "metadata": {},
          "execution_count": 15
        }
      ]
    },
    {
      "cell_type": "code",
      "source": [
        "def report_cv_score(z):\n",
        "    print (\"test score   %.3f (±%.4f) with %d splits\"%(np.mean(z[\"test_score\"]), np.std(z[\"test_score\"]), len(z[\"test_score\"])))\n",
        "    print (\"train score  %.3f (±%.4f) with %d splits\"%(np.mean(z[\"train_score\"]), np.std(z[\"train_score\"]), len(z[\"train_score\"])))"
      ],
      "metadata": {
        "id": "y_73gWwOVRt2"
      },
      "execution_count": 16,
      "outputs": []
    },
    {
      "cell_type": "markdown",
      "source": [
        "## Modelo Selección\n",
        "El modelo 2, tiene un mejor Score y se elige para las demas consideraciones"
      ],
      "metadata": {
        "id": "hkrVcCid4DNt"
      }
    },
    {
      "cell_type": "code",
      "source": [
        "estimator2.fit(Xtr, ytr)\n",
        "estimator2.score(Xtr, ytr), estimator2.score(Xts, yts)"
      ],
      "metadata": {
        "colab": {
          "base_uri": "https://localhost:8080/"
        },
        "id": "haHf37IJWy8J",
        "outputId": "a439d00f-0363-4c39-dbf4-a80d47d10170"
      },
      "execution_count": 17,
      "outputs": [
        {
          "output_type": "execute_result",
          "data": {
            "text/plain": [
              "(0.4870097988653945, 0.40700361010830327)"
            ]
          },
          "metadata": {},
          "execution_count": 17
        }
      ]
    },
    {
      "cell_type": "code",
      "source": [
        "# Libreria para transformar los datos\n",
        "from sklearn.preprocessing import StandardScaler, MinMaxScaler\n",
        "X_transformed = StandardScaler().fit_transform(X)\n",
        "X_minmax = MinMaxScaler().fit_transform(X)"
      ],
      "metadata": {
        "id": "T1rhES2Paqck"
      },
      "execution_count": 18,
      "outputs": []
    },
    {
      "cell_type": "code",
      "source": [
        "import seaborn as sns\n",
        "\n",
        "# Graficos interactivos\n",
        "# Plotly: Libreria para la visualización de datos interactivos\n",
        "import plotly.express as px\n",
        "import plotly.subplots as sp\n",
        "\n",
        "fig, ax = plt.subplots(1, 3, figsize=(15, 5))\n",
        "sns.distplot(X['FAMI_ESTRATOVIVIENDA'], ax=ax[0])\n",
        "ax[0].set_title('Distribución original')\n",
        "sns.distplot(X_transformed[:, 0], ax=ax[1])\n",
        "ax[1].set_title('Distribución transformada')\n",
        "sns.distplot(X_minmax[:, 0], ax=ax[2])\n",
        "ax[2].set_title('Distribución MinMax')\n",
        "plt.show()"
      ],
      "metadata": {
        "colab": {
          "base_uri": "https://localhost:8080/",
          "height": 947
        },
        "id": "p_0Y-TFxaIew",
        "outputId": "ca9fe100-a08a-4f63-87c2-202c17b3b2d8"
      },
      "execution_count": 19,
      "outputs": [
        {
          "output_type": "stream",
          "name": "stderr",
          "text": [
            "<ipython-input-19-d43dbfaf3e6b>:9: UserWarning: \n",
            "\n",
            "`distplot` is a deprecated function and will be removed in seaborn v0.14.0.\n",
            "\n",
            "Please adapt your code to use either `displot` (a figure-level function with\n",
            "similar flexibility) or `histplot` (an axes-level function for histograms).\n",
            "\n",
            "For a guide to updating your code to use the new functions, please see\n",
            "https://gist.github.com/mwaskom/de44147ed2974457ad6372750bbe5751\n",
            "\n",
            "  sns.distplot(X['FAMI_ESTRATOVIVIENDA'], ax=ax[0])\n",
            "<ipython-input-19-d43dbfaf3e6b>:11: UserWarning: \n",
            "\n",
            "`distplot` is a deprecated function and will be removed in seaborn v0.14.0.\n",
            "\n",
            "Please adapt your code to use either `displot` (a figure-level function with\n",
            "similar flexibility) or `histplot` (an axes-level function for histograms).\n",
            "\n",
            "For a guide to updating your code to use the new functions, please see\n",
            "https://gist.github.com/mwaskom/de44147ed2974457ad6372750bbe5751\n",
            "\n",
            "  sns.distplot(X_transformed[:, 0], ax=ax[1])\n",
            "<ipython-input-19-d43dbfaf3e6b>:13: UserWarning: \n",
            "\n",
            "`distplot` is a deprecated function and will be removed in seaborn v0.14.0.\n",
            "\n",
            "Please adapt your code to use either `displot` (a figure-level function with\n",
            "similar flexibility) or `histplot` (an axes-level function for histograms).\n",
            "\n",
            "For a guide to updating your code to use the new functions, please see\n",
            "https://gist.github.com/mwaskom/de44147ed2974457ad6372750bbe5751\n",
            "\n",
            "  sns.distplot(X_minmax[:, 0], ax=ax[2])\n"
          ]
        },
        {
          "output_type": "display_data",
          "data": {
            "text/plain": [
              "<Figure size 1500x500 with 3 Axes>"
            ],
            "image/png": "[encoded data removed]"
          },
          "metadata": {}
        }
      ]
    },
    {
      "cell_type": "code",
      "source": [
        "from sklearn.model_selection import train_test_split\n",
        "\n",
        "test_size = 0.3\n",
        "val_size  = test_size/(1-test_size) # Elementos de validación\n",
        "\n",
        "print (X_transformed.shape, y.shape)\n",
        "print (\"test size %.2f\"%test_size)\n",
        "print (\"val size is %.2f (relative to %.2f) \"%(val_size, 1-test_size))\n",
        "\n",
        "#Xtr, ytr son los datos que se usan para entrenar el modelo\n",
        "#Xts, yts son los datos que usamos para medir una metrica\n",
        "X_train, X_test, y_train, y_test = train_test_split(X_transformed, y, test_size=test_size)\n",
        "print (X_train.shape, X_test.shape)"
      ],
      "metadata": {
        "colab": {
          "base_uri": "https://localhost:8080/"
        },
        "id": "AEC9Z6Dib72V",
        "outputId": "3b64fe05-4e4e-4b03-da39-471b7dbfcb60"
      },
      "execution_count": 20,
      "outputs": [
        {
          "output_type": "stream",
          "name": "stdout",
          "text": [
            "(692500, 51) (692500,)\n",
            "test size 0.30\n",
            "val size is 0.43 (relative to 0.70) \n",
            "(484750, 51) (207750, 51)\n"
          ]
        }
      ]
    },
    {
      "cell_type": "code",
      "source": [
        "estimator2 = RandomForestClassifier(max_depth=5)\n",
        "z2 = cross_validate(estimator2, X_train, y_train, return_train_score=True, return_estimator=True,\n",
        "                    scoring='accuracy', cv=ShuffleSplit(n_splits=3, test_size=0.3))"
      ],
      "metadata": {
        "id": "l3zY25Lib7vc"
      },
      "execution_count": 21,
      "outputs": []
    },
    {
      "cell_type": "code",
      "source": [
        "z2"
      ],
      "metadata": {
        "colab": {
          "base_uri": "https://localhost:8080/"
        },
        "id": "1Takgaejb7ss",
        "outputId": "1f1b5b22-bd39-4daf-cf94-d00f47b58be1"
      },
      "execution_count": 22,
      "outputs": [
        {
          "output_type": "execute_result",
          "data": {
            "text/plain": [
              "{'fit_time': array([31.29090834, 36.1235323 , 24.32809043]),\n",
              " 'score_time': array([1.46511102, 2.08982706, 1.34909296]),\n",
              " 'estimator': [RandomForestClassifier(max_depth=5),\n",
              "  RandomForestClassifier(max_depth=5),\n",
              "  RandomForestClassifier(max_depth=5)],\n",
              " 'test_score': array([0.3886677 , 0.3868317 , 0.38804882]),\n",
              " 'train_score': array([0.38606056, 0.38548294, 0.3872099 ])}"
            ]
          },
          "metadata": {},
          "execution_count": 22
        }
      ]
    },
    {
      "cell_type": "markdown",
      "source": [
        "## Conclusion Transformacion 1\n",
        "No obtenemos un cambio significativo con ningun modelo, de hecho empeoro el Socre"
      ],
      "metadata": {
        "id": "SUQmsKJy4YAB"
      }
    },
    {
      "cell_type": "code",
      "source": [
        "from sklearn.model_selection import train_test_split\n",
        "\n",
        "test_size = 0.3\n",
        "val_size  = test_size/(1-test_size) # Elementos de validación\n",
        "\n",
        "print (X_transformed.shape, y.shape)\n",
        "print (\"test size %.2f\"%test_size)\n",
        "print (\"val size is %.2f (relative to %.2f) \"%(val_size, 1-test_size))\n",
        "\n",
        "#Xtr, ytr son los datos que se usan para entrenar el modelo\n",
        "#Xts, yts son los datos que usamos para medir una metrica\n",
        "X_train2, X_test2, y_train2, y_test2 = train_test_split(X_minmax , y, test_size=test_size)\n",
        "print (X_train2.shape, X_test2.shape)"
      ],
      "metadata": {
        "colab": {
          "base_uri": "https://localhost:8080/"
        },
        "id": "DZN3awYxb7m0",
        "outputId": "54c88ef1-d85b-4aa7-906b-2bf89bc3c528"
      },
      "execution_count": 23,
      "outputs": [
        {
          "output_type": "stream",
          "name": "stdout",
          "text": [
            "(692500, 51) (692500,)\n",
            "test size 0.30\n",
            "val size is 0.43 (relative to 0.70) \n",
            "(484750, 51) (207750, 51)\n"
          ]
        }
      ]
    },
    {
      "cell_type": "code",
      "source": [
        "estimator2MS = RandomForestClassifier(max_depth = 10)\n",
        "z2MS = cross_validate(estimator2MS, X_train2, y_train2, return_train_score=True, return_estimator=True,\n",
        "                    scoring='accuracy', cv=ShuffleSplit(n_splits=3, test_size=0.3))"
      ],
      "metadata": {
        "id": "acVsgR35jx1k"
      },
      "execution_count": 25,
      "outputs": []
    },
    {
      "cell_type": "code",
      "source": [
        "z2MS"
      ],
      "metadata": {
        "colab": {
          "base_uri": "https://localhost:8080/"
        },
        "id": "DmwHu8lrkH9W",
        "outputId": "8fb4446b-4562-4248-e9ce-0fe951ead2d6"
      },
      "execution_count": 26,
      "outputs": [
        {
          "output_type": "execute_result",
          "data": {
            "text/plain": [
              "{'fit_time': array([51.18298292, 41.28130627, 45.63535762]),\n",
              " 'score_time': array([2.30413508, 2.48493934, 3.62888694]),\n",
              " 'estimator': [RandomForestClassifier(max_depth=10),\n",
              "  RandomForestClassifier(max_depth=10),\n",
              "  RandomForestClassifier(max_depth=10)],\n",
              " 'test_score': array([0.40083204, 0.40182225, 0.40205604]),\n",
              " 'train_score': array([0.4156664 , 0.41562219, 0.41454358])}"
            ]
          },
          "metadata": {},
          "execution_count": 26
        }
      ]
    },
    {
      "cell_type": "markdown",
      "source": [
        "## Optimización\n",
        "ae quiere ver si con los datos no trasnformados, podemos sacarle el maximo provecho al algoritmo de clasificación"
      ],
      "metadata": {
        "id": "imVqf-YT5aOW"
      }
    },
    {
      "cell_type": "code",
      "source": [
        "from sklearn.model_selection import GridSearchCV, RandomizedSearchCV\n",
        "#Estimadores\n",
        "n_estimators = [int(x_minmax) for x_minmax in np.linspace(start = 10, stop = 100, num = 10)]\n",
        "# Profundidad\n",
        "max_depth = [int(x_minmax) for x_minmax in np.linspace(1, 20, num = 10)]\n",
        "max_depth.append(None)\n",
        "\n",
        "max_features = ['log2', 'sqrt']\n",
        "\n",
        "criterion = ['gini', 'entropy']\n",
        "\n",
        "min_samples_split = [2, 5, 10]\n",
        "\n",
        "min_samples_leaf = [1, 2, 4]\n",
        "# Crear la cuadricula aleatoria\n",
        "random_grid = {'n_estimators': n_estimators,\n",
        "               'max_depth': max_depth,\n",
        "               'max_features': max_features,\n",
        "               'criterion': criterion,\n",
        "               'min_samples_split': min_samples_split,\n",
        "               'min_samples_leaf': min_samples_leaf}\n",
        "forest =RandomForestClassifier()\n",
        "# Busqueda aleatoria de parametros, usando 3 cv\n",
        "# Busca en 10 combinaciones diferentes, y usa todos los nucleos disponibles\n",
        "rf_random = RandomizedSearchCV(estimator = forest, param_distributions = random_grid, n_iter = 10, cv = 3, verbose=2, random_state=42, n_jobs = -1, scoring='accuracy')\n",
        "# Ajustar el modelo\n",
        "rf_random.fit(Xtr, ytr)\n",
        "# Mostrar los mejores parametros\n",
        "rf_random.best_params_"
      ],
      "metadata": {
        "colab": {
          "base_uri": "https://localhost:8080/"
        },
        "id": "LErl77Dwo8Uo",
        "outputId": "2c630346-701e-4aa3-87a5-3daec3dedd7b"
      },
      "execution_count": 27,
      "outputs": [
        {
          "output_type": "stream",
          "name": "stdout",
          "text": [
            "Fitting 3 folds for each of 10 candidates, totalling 30 fits\n"
          ]
        },
        {
          "output_type": "stream",
          "name": "stderr",
          "text": [
            "/usr/local/lib/python3.10/dist-packages/joblib/externals/loky/process_executor.py:752: UserWarning: A worker stopped while some jobs were given to the executor. This can be caused by a too short worker timeout or by a memory leak.\n",
            "  warnings.warn(\n"
          ]
        },
        {
          "output_type": "execute_result",
          "data": {
            "text/plain": [
              "{'n_estimators': 80,\n",
              " 'min_samples_split': 10,\n",
              " 'min_samples_leaf': 4,\n",
              " 'max_features': 'log2',\n",
              " 'max_depth': 17,\n",
              " 'criterion': 'entropy'}"
            ]
          },
          "metadata": {},
          "execution_count": 27
        }
      ]
    },
    {
      "cell_type": "code",
      "source": [
        "forestDef = RandomForestClassifier(n_estimators=80, max_depth=17, min_samples_split=10, min_samples_leaf=4, criterion='entropy')\n",
        "zDef = cross_validate(forestDef, Xtr, ytr, return_train_score=True, return_estimator=True,\n",
        "                    scoring='accuracy', cv=ShuffleSplit(n_splits=3, test_size=0.3))"
      ],
      "metadata": {
        "id": "-xkrxU495kCW"
      },
      "execution_count": 29,
      "outputs": []
    },
    {
      "cell_type": "code",
      "source": [
        "zDef"
      ],
      "metadata": {
        "colab": {
          "base_uri": "https://localhost:8080/"
        },
        "id": "SoiZtvg85oww",
        "outputId": "b207b8cb-213b-44e3-a80f-a0cef05d199b"
      },
      "execution_count": 30,
      "outputs": [
        {
          "output_type": "execute_result",
          "data": {
            "text/plain": [
              "{'fit_time': array([44.62149096, 40.92296457, 40.22159195]),\n",
              " 'score_time': array([3.5460124 , 3.16053987, 3.86337042]),\n",
              " 'estimator': [RandomForestClassifier(criterion='entropy', max_depth=17, min_samples_leaf=4,\n",
              "                         min_samples_split=10, n_estimators=80),\n",
              "  RandomForestClassifier(criterion='entropy', max_depth=17, min_samples_leaf=4,\n",
              "                         min_samples_split=10, n_estimators=80),\n",
              "  RandomForestClassifier(criterion='entropy', max_depth=17, min_samples_leaf=4,\n",
              "                         min_samples_split=10, n_estimators=80)],\n",
              " 'test_score': array([0.40802476, 0.40530858, 0.40895994]),\n",
              " 'train_score': array([0.48469756, 0.48402564, 0.48392544])}"
            ]
          },
          "metadata": {},
          "execution_count": 30
        }
      ]
    },
    {
      "cell_type": "markdown",
      "source": [
        "## Conclusiones\n",
        "En general el preprocesado no presenta mejoria en los puntajes de precisión y se decide realizar un tercer preprocesado"
      ],
      "metadata": {
        "id": "vgxUYQ3h5Qq-"
      }
    }
  ]
}