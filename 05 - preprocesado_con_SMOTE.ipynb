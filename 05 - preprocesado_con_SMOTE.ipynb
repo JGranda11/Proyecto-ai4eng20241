{
  "cells": [
    {
      "cell_type": "markdown",
      "metadata": {
        "id": "view-in-github",
        "colab_type": "text"
      },
      "source": [
        "<a href=\"https://colab.research.google.com/github/JGranda11/Proyecto-ai4eng20241/blob/main/05%20-%20preprocesado_con_SMOTE.ipynb\" target=\"_parent\"><img src=\"https://colab.research.google.com/assets/colab-badge.svg\" alt=\"Open In Colab\"/></a>"
      ]
    },
    {
      "cell_type": "markdown",
      "source": [
        "# Procesamientio con SMOTE\n",
        "Se trata de hacer un planteamiento de generación de muestras con la libreria SMOTE\n",
        "SMOTE es una técnica diseñada para abordar este problema generando muestras sintéticas de la clase minoritaria. Funciona seleccionando aleatoriamente muestras de la clase minoritaria y calculando los vecinos más cercanos de cada una de estas muestras. Luego, para cada muestra seleccionada, se selecciona aleatoriamente uno de sus vecinos más cercanos y se crea una nueva muestra sintética a lo largo de la línea que conecta la muestra original y su vecino."
      ],
      "metadata": {
        "id": "SeKvs0ZRLzgs"
      },
      "id": "SeKvs0ZRLzgs"
    },
    {
      "cell_type": "code",
      "execution_count": 1,
      "id": "69069eaf-de55-4fe6-9e6b-f62f0945e340",
      "metadata": {
        "id": "69069eaf-de55-4fe6-9e6b-f62f0945e340"
      },
      "outputs": [],
      "source": [
        "import pandas as pd\n",
        "import numpy as np\n",
        "from sklearn.model_selection import train_test_split\n",
        "from sklearn.svm import SVC\n",
        "from sklearn.linear_model import LinearRegression\n",
        "from sklearn.tree import DecisionTreeClassifier\n",
        "from sklearn.ensemble import RandomForestClassifier\n",
        "from sklearn.metrics import classification_report, accuracy_score\n",
        "from imblearn.over_sampling import SMOTE\n",
        "from sklearn.preprocessing import RobustScaler"
      ]
    },
    {
      "cell_type": "markdown",
      "source": [
        "## Lectura de los archivos\n",
        "Habia un preproceado previo ya realizado en los Notebooks 02 y 03, y asignamos estos valores a un nuevo Dataframe"
      ],
      "metadata": {
        "id": "9MsAvH3dMzvn"
      },
      "id": "9MsAvH3dMzvn"
    },
    {
      "cell_type": "code",
      "execution_count": 3,
      "id": "f8accadb-dac4-431c-b9bd-908544c72f1e",
      "metadata": {
        "id": "f8accadb-dac4-431c-b9bd-908544c72f1e"
      },
      "outputs": [],
      "source": [
        "train = pd.read_csv('trainP1.csv')\n",
        "test = pd.read_csv('testP1.csv')\n",
        "trainData = train.iloc[:20000]"
      ]
    },
    {
      "cell_type": "code",
      "execution_count": 4,
      "id": "e8e24ee3-4bb7-4fb8-8b91-29cd71527a68",
      "metadata": {
        "id": "e8e24ee3-4bb7-4fb8-8b91-29cd71527a68"
      },
      "outputs": [],
      "source": [
        "X = trainData.drop(['RENDIMIENTO_GLOBAL'] , axis=1)\n",
        "y = trainData[\"RENDIMIENTO_GLOBAL\"].values\n",
        "\n",
        "Xtest = test.drop('ID', axis=1)"
      ]
    },
    {
      "cell_type": "code",
      "source": [
        "X.shape, y.shape, Xtest.shape"
      ],
      "metadata": {
        "colab": {
          "base_uri": "https://localhost:8080/"
        },
        "id": "IdoB8oh_aBdd",
        "outputId": "15e32b0c-82d9-4373-f810-65a260272e2b"
      },
      "id": "IdoB8oh_aBdd",
      "execution_count": 5,
      "outputs": [
        {
          "output_type": "execute_result",
          "data": {
            "text/plain": [
              "((20000, 56), (20000,), (296786, 56))"
            ]
          },
          "metadata": {},
          "execution_count": 5
        }
      ]
    },
    {
      "cell_type": "code",
      "source": [
        "from sklearn.model_selection import train_test_split\n",
        "\n",
        "test_size = 0.3\n",
        "val_size  = test_size/(1-test_size) # Elementos de validación\n",
        "\n",
        "print (X.shape, y.shape)\n",
        "print (\"test size %.2f\"%test_size)\n",
        "print (\"val size is %.2f (relative to %.2f) \"%(val_size, 1-test_size))\n",
        "\n",
        "#Xtr, ytr son los datos que se usan para entrenar el modelo\n",
        "#Xts, yts son los datos que usamos para medir una metrica\n",
        "Xtr, Xts, ytr, yts = train_test_split(X, y, test_size=test_size)\n",
        "print (Xtr.shape, Xts.shape)"
      ],
      "metadata": {
        "colab": {
          "base_uri": "https://localhost:8080/"
        },
        "id": "Kha53UR0ZVUx",
        "outputId": "a31a872f-01b4-45ba-e6b7-8fa9b8efc68a"
      },
      "id": "Kha53UR0ZVUx",
      "execution_count": 6,
      "outputs": [
        {
          "output_type": "stream",
          "name": "stdout",
          "text": [
            "(20000, 56) (20000,)\n",
            "test size 0.30\n",
            "val size is 0.43 (relative to 0.70) \n",
            "(14000, 56) (6000, 56)\n"
          ]
        }
      ]
    },
    {
      "cell_type": "markdown",
      "source": [
        "## Uso del escalador\n",
        "En este caso definimos la instancia y las instancias para trabajar en cada modelo"
      ],
      "metadata": {
        "id": "eR6lbsFlV2lm"
      },
      "id": "eR6lbsFlV2lm"
    },
    {
      "cell_type": "code",
      "execution_count": 8,
      "id": "2362c957-c2c8-44ec-8b5b-453e60b432a2",
      "metadata": {
        "id": "2362c957-c2c8-44ec-8b5b-453e60b432a2"
      },
      "outputs": [],
      "source": [
        "scaler = RobustScaler()\n",
        "\n",
        "X_train = scaler.fit_transform(Xtr)\n",
        "X_ts =scaler.fit_transform(Xts)\n",
        "X_test = scaler.transform(Xtest)"
      ]
    },
    {
      "cell_type": "code",
      "source": [
        "smote = SMOTE(random_state=20)"
      ],
      "metadata": {
        "id": "JTEt6OAcWLKy"
      },
      "id": "JTEt6OAcWLKy",
      "execution_count": 7,
      "outputs": []
    },
    {
      "cell_type": "markdown",
      "source": [
        "## Procesado y entrenamiento con SVC"
      ],
      "metadata": {
        "id": "8h2UrWHvUvyX"
      },
      "id": "8h2UrWHvUvyX"
    },
    {
      "cell_type": "code",
      "execution_count": null,
      "id": "0580066b-70c7-4e24-8604-f4f34cc917d9",
      "metadata": {
        "id": "0580066b-70c7-4e24-8604-f4f34cc917d9"
      },
      "outputs": [],
      "source": [
        "\n",
        "#X_train, y_train = smote.fit_resample(X_train, y_train)\n",
        "\n",
        "#modelo = SVC(random_state=20)\n",
        "#modelo.fit(X_train, y_train)\n",
        "#y_predition = modelo.predict(X_test)"
      ]
    },
    {
      "cell_type": "markdown",
      "source": [
        "## Realización del proceso de entrenamiento con RandomForest"
      ],
      "metadata": {
        "id": "QOqRJRIBTkj5"
      },
      "id": "QOqRJRIBTkj5"
    },
    {
      "cell_type": "code",
      "execution_count": 9,
      "id": "57550853-9663-4b2c-ab6b-e71e4a66aec0",
      "metadata": {
        "id": "57550853-9663-4b2c-ab6b-e71e4a66aec0",
        "colab": {
          "base_uri": "https://localhost:8080/",
          "height": 75
        },
        "outputId": "ce56cbaf-5cc0-4f10-ab65-c884c0a4fc80"
      },
      "outputs": [
        {
          "output_type": "execute_result",
          "data": {
            "text/plain": [
              "RandomForestClassifier(max_depth=12)"
            ],
            "text/html": [
              "<style>#sk-container-id-1 {color: black;background-color: white;}#sk-container-id-1 pre{padding: 0;}#sk-container-id-1 div.sk-toggleable {background-color: white;}#sk-container-id-1 label.sk-toggleable__label {cursor: pointer;display: block;width: 100%;margin-bottom: 0;padding: 0.3em;box-sizing: border-box;text-align: center;}#sk-container-id-1 label.sk-toggleable__label-arrow:before {content: \"▸\";float: left;margin-right: 0.25em;color: #696969;}#sk-container-id-1 label.sk-toggleable__label-arrow:hover:before {color: black;}#sk-container-id-1 div.sk-estimator:hover label.sk-toggleable__label-arrow:before {color: black;}#sk-container-id-1 div.sk-toggleable__content {max-height: 0;max-width: 0;overflow: hidden;text-align: left;background-color: #f0f8ff;}#sk-container-id-1 div.sk-toggleable__content pre {margin: 0.2em;color: black;border-radius: 0.25em;background-color: #f0f8ff;}#sk-container-id-1 input.sk-toggleable__control:checked~div.sk-toggleable__content {max-height: 200px;max-width: 100%;overflow: auto;}#sk-container-id-1 input.sk-toggleable__control:checked~label.sk-toggleable__label-arrow:before {content: \"▾\";}#sk-container-id-1 div.sk-estimator input.sk-toggleable__control:checked~label.sk-toggleable__label {background-color: #d4ebff;}#sk-container-id-1 div.sk-label input.sk-toggleable__control:checked~label.sk-toggleable__label {background-color: #d4ebff;}#sk-container-id-1 input.sk-hidden--visually {border: 0;clip: rect(1px 1px 1px 1px);clip: rect(1px, 1px, 1px, 1px);height: 1px;margin: -1px;overflow: hidden;padding: 0;position: absolute;width: 1px;}#sk-container-id-1 div.sk-estimator {font-family: monospace;background-color: #f0f8ff;border: 1px dotted black;border-radius: 0.25em;box-sizing: border-box;margin-bottom: 0.5em;}#sk-container-id-1 div.sk-estimator:hover {background-color: #d4ebff;}#sk-container-id-1 div.sk-parallel-item::after {content: \"\";width: 100%;border-bottom: 1px solid gray;flex-grow: 1;}#sk-container-id-1 div.sk-label:hover label.sk-toggleable__label {background-color: #d4ebff;}#sk-container-id-1 div.sk-serial::before {content: \"\";position: absolute;border-left: 1px solid gray;box-sizing: border-box;top: 0;bottom: 0;left: 50%;z-index: 0;}#sk-container-id-1 div.sk-serial {display: flex;flex-direction: column;align-items: center;background-color: white;padding-right: 0.2em;padding-left: 0.2em;position: relative;}#sk-container-id-1 div.sk-item {position: relative;z-index: 1;}#sk-container-id-1 div.sk-parallel {display: flex;align-items: stretch;justify-content: center;background-color: white;position: relative;}#sk-container-id-1 div.sk-item::before, #sk-container-id-1 div.sk-parallel-item::before {content: \"\";position: absolute;border-left: 1px solid gray;box-sizing: border-box;top: 0;bottom: 0;left: 50%;z-index: -1;}#sk-container-id-1 div.sk-parallel-item {display: flex;flex-direction: column;z-index: 1;position: relative;background-color: white;}#sk-container-id-1 div.sk-parallel-item:first-child::after {align-self: flex-end;width: 50%;}#sk-container-id-1 div.sk-parallel-item:last-child::after {align-self: flex-start;width: 50%;}#sk-container-id-1 div.sk-parallel-item:only-child::after {width: 0;}#sk-container-id-1 div.sk-dashed-wrapped {border: 1px dashed gray;margin: 0 0.4em 0.5em 0.4em;box-sizing: border-box;padding-bottom: 0.4em;background-color: white;}#sk-container-id-1 div.sk-label label {font-family: monospace;font-weight: bold;display: inline-block;line-height: 1.2em;}#sk-container-id-1 div.sk-label-container {text-align: center;}#sk-container-id-1 div.sk-container {/* jupyter's `normalize.less` sets `[hidden] { display: none; }` but bootstrap.min.css set `[hidden] { display: none !important; }` so we also need the `!important` here to be able to override the default hidden behavior on the sphinx rendered scikit-learn.org. See: https://github.com/scikit-learn/scikit-learn/issues/21755 */display: inline-block !important;position: relative;}#sk-container-id-1 div.sk-text-repr-fallback {display: none;}</style><div id=\"sk-container-id-1\" class=\"sk-top-container\"><div class=\"sk-text-repr-fallback\"><pre>RandomForestClassifier(max_depth=12)</pre><b>In a Jupyter environment, please rerun this cell to show the HTML representation or trust the notebook. <br />On GitHub, the HTML representation is unable to render, please try loading this page with nbviewer.org.</b></div><div class=\"sk-container\" hidden><div class=\"sk-item\"><div class=\"sk-estimator sk-toggleable\"><input class=\"sk-toggleable__control sk-hidden--visually\" id=\"sk-estimator-id-1\" type=\"checkbox\" checked><label for=\"sk-estimator-id-1\" class=\"sk-toggleable__label sk-toggleable__label-arrow\">RandomForestClassifier</label><div class=\"sk-toggleable__content\"><pre>RandomForestClassifier(max_depth=12)</pre></div></div></div></div></div>"
            ]
          },
          "metadata": {},
          "execution_count": 9
        }
      ],
      "source": [
        "from sklearn.ensemble import RandomForestClassifier\n",
        "\n",
        "X_train, y_train = smote.fit_resample(Xtr, ytr)\n",
        "X_test, y_test = smote.fit_resample(Xts, yts)\n",
        "modelo2 = RandomForestClassifier(max_depth=12)\n",
        "modelo2.fit(X_train, y_train)\n"
      ]
    },
    {
      "cell_type": "code",
      "source": [
        "modelo2.score(X_train, y_train), modelo2.score(X_train, y_train)"
      ],
      "metadata": {
        "id": "f85JZyRndReT",
        "colab": {
          "base_uri": "https://localhost:8080/"
        },
        "outputId": "8b154eba-4c76-4429-daf1-4b99dc1bfe89"
      },
      "id": "f85JZyRndReT",
      "execution_count": 10,
      "outputs": [
        {
          "output_type": "execute_result",
          "data": {
            "text/plain": [
              "(0.6906003382187148, 0.6906003382187148)"
            ]
          },
          "metadata": {},
          "execution_count": 10
        }
      ]
    },
    {
      "cell_type": "markdown",
      "source": [
        "## Realizacion con DecisionTree"
      ],
      "metadata": {
        "id": "xdAgkT5YUTTP"
      },
      "id": "xdAgkT5YUTTP"
    },
    {
      "cell_type": "code",
      "source": [
        "from sklearn.ensemble import DecisionTreeClassifier\n",
        "\n",
        "X_train, y_train = smote.fit_resample(X_train, y_train)\n",
        "\n",
        "modelo3 = DecisionTreeClassifier(max_depth=12)\n",
        "modelo3.fit(X_train, y_train)\n",
        "y_predition3 = modelo3.predict(X_test)"
      ],
      "metadata": {
        "id": "Dca8XL8ZUYGl"
      },
      "id": "Dca8XL8ZUYGl",
      "execution_count": 11,
      "outputs": []
    },
    {
      "cell_type": "code",
      "source": [
        "modelo3.score(X_train, y_train), modelo3.score(X_train, y_train)"
      ],
      "metadata": {
        "id": "Jk0BZnsXWQXq",
        "colab": {
          "base_uri": "https://localhost:8080/"
        },
        "outputId": "05a46db5-55db-4490-cdfd-55fb2d5d760a"
      },
      "id": "Jk0BZnsXWQXq",
      "execution_count": 12,
      "outputs": [
        {
          "output_type": "execute_result",
          "data": {
            "text/plain": [
              "(0.5614430665163472, 0.5614430665163472)"
            ]
          },
          "metadata": {},
          "execution_count": 12
        }
      ]
    },
    {
      "cell_type": "markdown",
      "source": [
        "## Anotaciones de Score\n",
        "\n",
        "Aunque vemos muy buenos puntajes, los modelos entrenaban con demasiado tiempo, a veces colapsaba la RAM y cuando lograban realizar la predicción no era lo suficientemente buen en Kaggle\n"
      ],
      "metadata": {
        "id": "73DYWjlSXeOP"
      },
      "id": "73DYWjlSXeOP"
    },
    {
      "cell_type": "code",
      "execution_count": null,
      "id": "27975112-6fa0-4017-9554-fbd85c311779",
      "metadata": {
        "id": "27975112-6fa0-4017-9554-fbd85c311779",
        "outputId": "ce18e5ce-23c5-4336-f9ab-87890f9f8584"
      },
      "outputs": [
        {
          "data": {
            "text/plain": [
              "0.4726878327746007"
            ]
          },
          "execution_count": 15,
          "metadata": {},
          "output_type": "execute_result"
        }
      ],
      "source": [
        "#modelo.score(X_train, y_train)"
      ]
    },
    {
      "cell_type": "code",
      "execution_count": 13,
      "id": "de2b42bf-d2d6-4c96-85e1-95f6569bff72",
      "metadata": {
        "id": "de2b42bf-d2d6-4c96-85e1-95f6569bff72",
        "outputId": "fa3b9e58-457a-401e-d09a-8caaff129046",
        "colab": {
          "base_uri": "https://localhost:8080/"
        }
      },
      "outputs": [
        {
          "output_type": "execute_result",
          "data": {
            "text/plain": [
              "0.6906003382187148"
            ]
          },
          "metadata": {},
          "execution_count": 13
        }
      ],
      "source": [
        "modelo2.score(X_train, y_train)"
      ]
    },
    {
      "cell_type": "code",
      "source": [
        "modelo3.score(X_train, y_train)"
      ],
      "metadata": {
        "id": "iOdevCa1XWri",
        "colab": {
          "base_uri": "https://localhost:8080/"
        },
        "outputId": "c08e175f-b525-48da-8f63-d8bd97d44464"
      },
      "id": "iOdevCa1XWri",
      "execution_count": 15,
      "outputs": [
        {
          "output_type": "execute_result",
          "data": {
            "text/plain": [
              "0.5614430665163472"
            ]
          },
          "metadata": {},
          "execution_count": 15
        }
      ]
    },
    {
      "cell_type": "code",
      "execution_count": 18,
      "id": "7c62ffad-7212-447f-8cfb-29e0eef23c18",
      "metadata": {
        "id": "7c62ffad-7212-447f-8cfb-29e0eef23c18"
      },
      "outputs": [],
      "source": [
        "y_prediction2 = modelo2.predict(X_test)"
      ]
    },
    {
      "cell_type": "code",
      "source": [
        "y_prediction2"
      ],
      "metadata": {
        "colab": {
          "base_uri": "https://localhost:8080/"
        },
        "id": "6EivicanyTSl",
        "outputId": "4d0883b8-f5e7-42f8-a865-357ab7abc5a6"
      },
      "id": "6EivicanyTSl",
      "execution_count": 19,
      "outputs": [
        {
          "output_type": "execute_result",
          "data": {
            "text/plain": [
              "array([3., 2., 3., ..., 0., 0., 2.])"
            ]
          },
          "metadata": {},
          "execution_count": 19
        }
      ]
    },
    {
      "cell_type": "code",
      "execution_count": 20,
      "id": "5f6102d8-d871-4884-ae82-245bf1e93bc0",
      "metadata": {
        "id": "5f6102d8-d871-4884-ae82-245bf1e93bc0"
      },
      "outputs": [],
      "source": [
        "y_prediction3 = modelo3.predict(X_test)"
      ]
    },
    {
      "cell_type": "code",
      "source": [
        "y_prediction3"
      ],
      "metadata": {
        "colab": {
          "base_uri": "https://localhost:8080/"
        },
        "id": "AQVWzMD6yZmW",
        "outputId": "c2b42943-a7b8-4f9a-d674-bee25e6bca4f"
      },
      "id": "AQVWzMD6yZmW",
      "execution_count": 21,
      "outputs": [
        {
          "output_type": "execute_result",
          "data": {
            "text/plain": [
              "array([3., 2., 3., ..., 2., 0., 3.])"
            ]
          },
          "metadata": {},
          "execution_count": 21
        }
      ]
    },
    {
      "cell_type": "markdown",
      "source": [
        "## Generación de las predicciones\n",
        "Como el `modelo2` es el que tiene mejor comportamiento realizamos el envio a Kaggle con esa validación"
      ],
      "metadata": {
        "id": "nrjL30fWyugp"
      },
      "id": "nrjL30fWyugp"
    },
    {
      "cell_type": "code",
      "execution_count": 22,
      "id": "ec223475-2f6f-4649-bfbf-3a2fdb287e64",
      "metadata": {
        "id": "ec223475-2f6f-4649-bfbf-3a2fdb287e64"
      },
      "outputs": [],
      "source": [
        "idTest = pd.DataFrame(test[\"ID\"])\n",
        "\n",
        "Reference = ['bajo', 'medio-bajo', 'medio-alto', 'alto']\n",
        "y_preditionReference = [Reference[int(i)] for i in y_prediction2]\n",
        "\n",
        "idTest['RENDIMIENTO_GLOBAL'] = pd.Series(y_preditionReference, name='RENDIMIENTO_GLOBAL')"
      ]
    },
    {
      "cell_type": "code",
      "execution_count": 23,
      "id": "12e6e629-6007-4248-acde-df077be712c4",
      "metadata": {
        "id": "12e6e629-6007-4248-acde-df077be712c4",
        "outputId": "38d4b676-28e3-46a2-8819-f31bd3a05cad",
        "colab": {
          "base_uri": "https://localhost:8080/",
          "height": 206
        }
      },
      "outputs": [
        {
          "output_type": "execute_result",
          "data": {
            "text/plain": [
              "       ID RENDIMIENTO_GLOBAL\n",
              "0  550236               alto\n",
              "1   98545         medio-alto\n",
              "2  499179               alto\n",
              "3  782980               alto\n",
              "4  785185               bajo"
            ],
            "text/html": [
              "\n",
              "  <div id=\"df-07f06672-2968-4dc1-98fe-c644f626245e\" class=\"colab-df-container\">\n",
              "    <div>\n",
              "<style scoped>\n",
              "    .dataframe tbody tr th:only-of-type {\n",
              "        vertical-align: middle;\n",
              "    }\n",
              "\n",
              "    .dataframe tbody tr th {\n",
              "        vertical-align: top;\n",
              "    }\n",
              "\n",
              "    .dataframe thead th {\n",
              "        text-align: right;\n",
              "    }\n",
              "</style>\n",
              "<table border=\"1\" class=\"dataframe\">\n",
              "  <thead>\n",
              "    <tr style=\"text-align: right;\">\n",
              "      <th></th>\n",
              "      <th>ID</th>\n",
              "      <th>RENDIMIENTO_GLOBAL</th>\n",
              "    </tr>\n",
              "  </thead>\n",
              "  <tbody>\n",
              "    <tr>\n",
              "      <th>0</th>\n",
              "      <td>550236</td>\n",
              "      <td>alto</td>\n",
              "    </tr>\n",
              "    <tr>\n",
              "      <th>1</th>\n",
              "      <td>98545</td>\n",
              "      <td>medio-alto</td>\n",
              "    </tr>\n",
              "    <tr>\n",
              "      <th>2</th>\n",
              "      <td>499179</td>\n",
              "      <td>alto</td>\n",
              "    </tr>\n",
              "    <tr>\n",
              "      <th>3</th>\n",
              "      <td>782980</td>\n",
              "      <td>alto</td>\n",
              "    </tr>\n",
              "    <tr>\n",
              "      <th>4</th>\n",
              "      <td>785185</td>\n",
              "      <td>bajo</td>\n",
              "    </tr>\n",
              "  </tbody>\n",
              "</table>\n",
              "</div>\n",
              "    <div class=\"colab-df-buttons\">\n",
              "\n",
              "  <div class=\"colab-df-container\">\n",
              "    <button class=\"colab-df-convert\" onclick=\"convertToInteractive('df-07f06672-2968-4dc1-98fe-c644f626245e')\"\n",
              "            title=\"Convert this dataframe to an interactive table.\"\n",
              "            style=\"display:none;\">\n",
              "\n",
              "  <svg xmlns=\"http://www.w3.org/2000/svg\" height=\"24px\" viewBox=\"0 -960 960 960\">\n",
              "    <path d=\"M120-120v-720h720v720H120Zm60-500h600v-160H180v160Zm220 220h160v-160H400v160Zm0 220h160v-160H400v160ZM180-400h160v-160H180v160Zm440 0h160v-160H620v160ZM180-180h160v-160H180v160Zm440 0h160v-160H620v160Z\"/>\n",
              "  </svg>\n",
              "    </button>\n",
              "\n",
              "  <style>\n",
              "    .colab-df-container {\n",
              "      display:flex;\n",
              "      gap: 12px;\n",
              "    }\n",
              "\n",
              "    .colab-df-convert {\n",
              "      background-color: #E8F0FE;\n",
              "      border: none;\n",
              "      border-radius: 50%;\n",
              "      cursor: pointer;\n",
              "      display: none;\n",
              "      fill: #1967D2;\n",
              "      height: 32px;\n",
              "      padding: 0 0 0 0;\n",
              "      width: 32px;\n",
              "    }\n",
              "\n",
              "    .colab-df-convert:hover {\n",
              "      background-color: #E2EBFA;\n",
              "      box-shadow: 0px 1px 2px rgba(60, 64, 67, 0.3), 0px 1px 3px 1px rgba(60, 64, 67, 0.15);\n",
              "      fill: #174EA6;\n",
              "    }\n",
              "\n",
              "    .colab-df-buttons div {\n",
              "      margin-bottom: 4px;\n",
              "    }\n",
              "\n",
              "    [theme=dark] .colab-df-convert {\n",
              "      background-color: #3B4455;\n",
              "      fill: #D2E3FC;\n",
              "    }\n",
              "\n",
              "    [theme=dark] .colab-df-convert:hover {\n",
              "      background-color: #434B5C;\n",
              "      box-shadow: 0px 1px 3px 1px rgba(0, 0, 0, 0.15);\n",
              "      filter: drop-shadow(0px 1px 2px rgba(0, 0, 0, 0.3));\n",
              "      fill: #FFFFFF;\n",
              "    }\n",
              "  </style>\n",
              "\n",
              "    <script>\n",
              "      const buttonEl =\n",
              "        document.querySelector('#df-07f06672-2968-4dc1-98fe-c644f626245e button.colab-df-convert');\n",
              "      buttonEl.style.display =\n",
              "        google.colab.kernel.accessAllowed ? 'block' : 'none';\n",
              "\n",
              "      async function convertToInteractive(key) {\n",
              "        const element = document.querySelector('#df-07f06672-2968-4dc1-98fe-c644f626245e');\n",
              "        const dataTable =\n",
              "          await google.colab.kernel.invokeFunction('convertToInteractive',\n",
              "                                                    [key], {});\n",
              "        if (!dataTable) return;\n",
              "\n",
              "        const docLinkHtml = 'Like what you see? Visit the ' +\n",
              "          '<a target=\"_blank\" href=https://colab.research.google.com/notebooks/data_table.ipynb>data table notebook</a>'\n",
              "          + ' to learn more about interactive tables.';\n",
              "        element.innerHTML = '';\n",
              "        dataTable['output_type'] = 'display_data';\n",
              "        await google.colab.output.renderOutput(dataTable, element);\n",
              "        const docLink = document.createElement('div');\n",
              "        docLink.innerHTML = docLinkHtml;\n",
              "        element.appendChild(docLink);\n",
              "      }\n",
              "    </script>\n",
              "  </div>\n",
              "\n",
              "\n",
              "<div id=\"df-e02a82cb-6274-4c96-8a83-09d46cc2ec0b\">\n",
              "  <button class=\"colab-df-quickchart\" onclick=\"quickchart('df-e02a82cb-6274-4c96-8a83-09d46cc2ec0b')\"\n",
              "            title=\"Suggest charts\"\n",
              "            style=\"display:none;\">\n",
              "\n",
              "<svg xmlns=\"http://www.w3.org/2000/svg\" height=\"24px\"viewBox=\"0 0 24 24\"\n",
              "     width=\"24px\">\n",
              "    <g>\n",
              "        <path d=\"M19 3H5c-1.1 0-2 .9-2 2v14c0 1.1.9 2 2 2h14c1.1 0 2-.9 2-2V5c0-1.1-.9-2-2-2zM9 17H7v-7h2v7zm4 0h-2V7h2v10zm4 0h-2v-4h2v4z\"/>\n",
              "    </g>\n",
              "</svg>\n",
              "  </button>\n",
              "\n",
              "<style>\n",
              "  .colab-df-quickchart {\n",
              "      --bg-color: #E8F0FE;\n",
              "      --fill-color: #1967D2;\n",
              "      --hover-bg-color: #E2EBFA;\n",
              "      --hover-fill-color: #174EA6;\n",
              "      --disabled-fill-color: #AAA;\n",
              "      --disabled-bg-color: #DDD;\n",
              "  }\n",
              "\n",
              "  [theme=dark] .colab-df-quickchart {\n",
              "      --bg-color: #3B4455;\n",
              "      --fill-color: #D2E3FC;\n",
              "      --hover-bg-color: #434B5C;\n",
              "      --hover-fill-color: #FFFFFF;\n",
              "      --disabled-bg-color: #3B4455;\n",
              "      --disabled-fill-color: #666;\n",
              "  }\n",
              "\n",
              "  .colab-df-quickchart {\n",
              "    background-color: var(--bg-color);\n",
              "    border: none;\n",
              "    border-radius: 50%;\n",
              "    cursor: pointer;\n",
              "    display: none;\n",
              "    fill: var(--fill-color);\n",
              "    height: 32px;\n",
              "    padding: 0;\n",
              "    width: 32px;\n",
              "  }\n",
              "\n",
              "  .colab-df-quickchart:hover {\n",
              "    background-color: var(--hover-bg-color);\n",
              "    box-shadow: 0 1px 2px rgba(60, 64, 67, 0.3), 0 1px 3px 1px rgba(60, 64, 67, 0.15);\n",
              "    fill: var(--button-hover-fill-color);\n",
              "  }\n",
              "\n",
              "  .colab-df-quickchart-complete:disabled,\n",
              "  .colab-df-quickchart-complete:disabled:hover {\n",
              "    background-color: var(--disabled-bg-color);\n",
              "    fill: var(--disabled-fill-color);\n",
              "    box-shadow: none;\n",
              "  }\n",
              "\n",
              "  .colab-df-spinner {\n",
              "    border: 2px solid var(--fill-color);\n",
              "    border-color: transparent;\n",
              "    border-bottom-color: var(--fill-color);\n",
              "    animation:\n",
              "      spin 1s steps(1) infinite;\n",
              "  }\n",
              "\n",
              "  @keyframes spin {\n",
              "    0% {\n",
              "      border-color: transparent;\n",
              "      border-bottom-color: var(--fill-color);\n",
              "      border-left-color: var(--fill-color);\n",
              "    }\n",
              "    20% {\n",
              "      border-color: transparent;\n",
              "      border-left-color: var(--fill-color);\n",
              "      border-top-color: var(--fill-color);\n",
              "    }\n",
              "    30% {\n",
              "      border-color: transparent;\n",
              "      border-left-color: var(--fill-color);\n",
              "      border-top-color: var(--fill-color);\n",
              "      border-right-color: var(--fill-color);\n",
              "    }\n",
              "    40% {\n",
              "      border-color: transparent;\n",
              "      border-right-color: var(--fill-color);\n",
              "      border-top-color: var(--fill-color);\n",
              "    }\n",
              "    60% {\n",
              "      border-color: transparent;\n",
              "      border-right-color: var(--fill-color);\n",
              "    }\n",
              "    80% {\n",
              "      border-color: transparent;\n",
              "      border-right-color: var(--fill-color);\n",
              "      border-bottom-color: var(--fill-color);\n",
              "    }\n",
              "    90% {\n",
              "      border-color: transparent;\n",
              "      border-bottom-color: var(--fill-color);\n",
              "    }\n",
              "  }\n",
              "</style>\n",
              "\n",
              "  <script>\n",
              "    async function quickchart(key) {\n",
              "      const quickchartButtonEl =\n",
              "        document.querySelector('#' + key + ' button');\n",
              "      quickchartButtonEl.disabled = true;  // To prevent multiple clicks.\n",
              "      quickchartButtonEl.classList.add('colab-df-spinner');\n",
              "      try {\n",
              "        const charts = await google.colab.kernel.invokeFunction(\n",
              "            'suggestCharts', [key], {});\n",
              "      } catch (error) {\n",
              "        console.error('Error during call to suggestCharts:', error);\n",
              "      }\n",
              "      quickchartButtonEl.classList.remove('colab-df-spinner');\n",
              "      quickchartButtonEl.classList.add('colab-df-quickchart-complete');\n",
              "    }\n",
              "    (() => {\n",
              "      let quickchartButtonEl =\n",
              "        document.querySelector('#df-e02a82cb-6274-4c96-8a83-09d46cc2ec0b button');\n",
              "      quickchartButtonEl.style.display =\n",
              "        google.colab.kernel.accessAllowed ? 'block' : 'none';\n",
              "    })();\n",
              "  </script>\n",
              "</div>\n",
              "    </div>\n",
              "  </div>\n"
            ],
            "application/vnd.google.colaboratory.intrinsic+json": {
              "type": "dataframe",
              "variable_name": "idTest"
            }
          },
          "metadata": {},
          "execution_count": 23
        }
      ],
      "source": [
        " idTest.head()"
      ]
    },
    {
      "cell_type": "code",
      "execution_count": 24,
      "id": "b90a8c36-93ba-45e4-b47f-d35b0b8073b7",
      "metadata": {
        "id": "b90a8c36-93ba-45e4-b47f-d35b0b8073b7"
      },
      "outputs": [],
      "source": [
        "idTest.to_csv('submission3.csv', index=False)"
      ]
    },
    {
      "cell_type": "code",
      "source": [
        "!head submission3.csv"
      ],
      "metadata": {
        "colab": {
          "base_uri": "https://localhost:8080/"
        },
        "id": "qj7-AnQXy91x",
        "outputId": "6f92edcb-d8a5-4df7-d7ff-e2e423b6fdd4"
      },
      "id": "qj7-AnQXy91x",
      "execution_count": 25,
      "outputs": [
        {
          "output_type": "stream",
          "name": "stdout",
          "text": [
            "ID,RENDIMIENTO_GLOBAL\n",
            "550236,alto\n",
            "98545,medio-alto\n",
            "499179,alto\n",
            "782980,alto\n",
            "785185,bajo\n",
            "58495,alto\n",
            "705444,alto\n",
            "557548,bajo\n",
            "519909,alto\n"
          ]
        }
      ]
    }
  ],
  "metadata": {
    "kernelspec": {
      "display_name": "Python 3 (ipykernel)",
      "language": "python",
      "name": "python3"
    },
    "language_info": {
      "codemirror_mode": {
        "name": "ipython",
        "version": 3
      },
      "file_extension": ".py",
      "mimetype": "text/x-python",
      "name": "python",
      "nbconvert_exporter": "python",
      "pygments_lexer": "ipython3",
      "version": "3.10.12"
    },
    "colab": {
      "provenance": [],
      "include_colab_link": true
    }
  },
  "nbformat": 4,
  "nbformat_minor": 5
}