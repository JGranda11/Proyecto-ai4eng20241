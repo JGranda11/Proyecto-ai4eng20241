{
  "cells": [
    {
      "cell_type": "markdown",
      "metadata": {
        "id": "view-in-github",
        "colab_type": "text"
      },
      "source": [
        "<a href=\"https://colab.research.google.com/github/JGranda11/Proyecto-ai4eng20241/blob/main/05%20-%20preprocesado_con_SMOTE.ipynb\" target=\"_parent\"><img src=\"https://colab.research.google.com/assets/colab-badge.svg\" alt=\"Open In Colab\"/></a>"
      ]
    },
    {
      "cell_type": "markdown",
      "source": [
        "# Procesamientio con SMOTE\n",
        "Se trata de hacer un planteamiento de generación de muestras con la libreria SMOTE\n",
        "SMOTE es una técnica diseñada para abordar este problema generando muestras sintéticas de la clase minoritaria. Funciona seleccionando aleatoriamente muestras de la clase minoritaria y calculando los vecinos más cercanos de cada una de estas muestras. Luego, para cada muestra seleccionada, se selecciona aleatoriamente uno de sus vecinos más cercanos y se crea una nueva muestra sintética a lo largo de la línea que conecta la muestra original y su vecino."
      ],
      "metadata": {
        "id": "SeKvs0ZRLzgs"
      },
      "id": "SeKvs0ZRLzgs"
    },
    {
      "cell_type": "code",
      "execution_count": null,
      "id": "69069eaf-de55-4fe6-9e6b-f62f0945e340",
      "metadata": {
        "id": "69069eaf-de55-4fe6-9e6b-f62f0945e340"
      },
      "outputs": [],
      "source": [
        "import pandas as pd\n",
        "import numpy as np\n",
        "from sklearn.model_selection import train_test_split\n",
        "from sklearn.svm import SVC\n",
        "from sklearn.linear_model import LinearRegression\n",
        "from sklearn.tree import DecisionTreeClassifier\n",
        "from sklearn.ensemble import RandomForestClassifier\n",
        "from sklearn.metrics import classification_report, accuracy_score\n",
        "from imblearn.over_sampling import SMOTE\n",
        "from sklearn.preprocessing import RobustScaler"
      ]
    },
    {
      "cell_type": "markdown",
      "source": [
        "## Lectura de los archivos\n",
        "Habia un preproceado previo ya realizado en los Notebooks 02 y 03, y asignamos estos valores a un nuevo Dataframe"
      ],
      "metadata": {
        "id": "9MsAvH3dMzvn"
      },
      "id": "9MsAvH3dMzvn"
    },
    {
      "cell_type": "code",
      "execution_count": null,
      "id": "f8accadb-dac4-431c-b9bd-908544c72f1e",
      "metadata": {
        "id": "f8accadb-dac4-431c-b9bd-908544c72f1e"
      },
      "outputs": [],
      "source": [
        "train = pd.read_csv('trainP1.csv')\n",
        "test = pd.read_csv('testP1.csv')\n",
        "dataTrain = train.iloc[:20000]"
      ]
    },
    {
      "cell_type": "code",
      "execution_count": null,
      "id": "e8e24ee3-4bb7-4fb8-8b91-29cd71527a68",
      "metadata": {
        "id": "e8e24ee3-4bb7-4fb8-8b91-29cd71527a68"
      },
      "outputs": [],
      "source": [
        "X = trainData.drop(['RENDIMIENTO_GLOBAL'] , axis=1)\n",
        "y = trainData[\"RENDIMIENTO_GLOBAL\"].values\n",
        "\n",
        "Xtest = test.drop('ID', axis=1)"
      ]
    },
    {
      "cell_type": "code",
      "source": [
        "X.shape, y.shape, Xtest.shape"
      ],
      "metadata": {
        "colab": {
          "base_uri": "https://localhost:8080/"
        },
        "id": "IdoB8oh_aBdd",
        "outputId": "4372f02b-1bb9-4a33-ca29-489bda338016"
      },
      "id": "IdoB8oh_aBdd",
      "execution_count": null,
      "outputs": [
        {
          "output_type": "execute_result",
          "data": {
            "text/plain": [
              "((692500, 56), (692500,), (296786, 56))"
            ]
          },
          "metadata": {},
          "execution_count": 7
        }
      ]
    },
    {
      "cell_type": "code",
      "source": [
        "from sklearn.model_selection import train_test_split\n",
        "\n",
        "test_size = 0.3\n",
        "val_size  = test_size/(1-test_size) # Elementos de validación\n",
        "\n",
        "print (X.shape, y.shape)\n",
        "print (\"test size %.2f\"%test_size)\n",
        "print (\"val size is %.2f (relative to %.2f) \"%(val_size, 1-test_size))\n",
        "\n",
        "#Xtr, ytr son los datos que se usan para entrenar el modelo\n",
        "#Xts, yts son los datos que usamos para medir una metrica\n",
        "Xtr, Xts, ytr, yts = train_test_split(X, y, test_size=test_size)\n",
        "print (Xtr.shape, Xts.shape)"
      ],
      "metadata": {
        "colab": {
          "base_uri": "https://localhost:8080/"
        },
        "id": "Kha53UR0ZVUx",
        "outputId": "4aa0d6eb-118b-4efb-e98a-fecd8f02d76f"
      },
      "id": "Kha53UR0ZVUx",
      "execution_count": null,
      "outputs": [
        {
          "output_type": "stream",
          "name": "stdout",
          "text": [
            "(692500, 56) (692500,)\n",
            "test size 0.30\n",
            "val size is 0.43 (relative to 0.70) \n",
            "(484750, 56) (207750, 56)\n"
          ]
        }
      ]
    },
    {
      "cell_type": "markdown",
      "source": [
        "## Uso del escalador\n",
        "En este caso definimos la instancia y las instancias para trabajar en cada modelo"
      ],
      "metadata": {
        "id": "eR6lbsFlV2lm"
      },
      "id": "eR6lbsFlV2lm"
    },
    {
      "cell_type": "code",
      "execution_count": null,
      "id": "2362c957-c2c8-44ec-8b5b-453e60b432a2",
      "metadata": {
        "id": "2362c957-c2c8-44ec-8b5b-453e60b432a2"
      },
      "outputs": [],
      "source": [
        "scaler = RobustScaler()\n",
        "\n",
        "X_train = scaler.fit_transform(Xtr)\n",
        "X_ts =scaler.fit_transform(Xts)\n",
        "X_test = scaler.transform(Xtest)"
      ]
    },
    {
      "cell_type": "code",
      "source": [
        "smote = SMOTE(random_state=20)"
      ],
      "metadata": {
        "id": "JTEt6OAcWLKy"
      },
      "id": "JTEt6OAcWLKy",
      "execution_count": null,
      "outputs": []
    },
    {
      "cell_type": "markdown",
      "source": [
        "## Procesado y entrenamiento con SVC"
      ],
      "metadata": {
        "id": "8h2UrWHvUvyX"
      },
      "id": "8h2UrWHvUvyX"
    },
    {
      "cell_type": "code",
      "execution_count": null,
      "id": "0580066b-70c7-4e24-8604-f4f34cc917d9",
      "metadata": {
        "id": "0580066b-70c7-4e24-8604-f4f34cc917d9"
      },
      "outputs": [],
      "source": [
        "\n",
        "#X_train, y_train = smote.fit_resample(X_train, y_train)\n",
        "\n",
        "#modelo = SVC(random_state=20)\n",
        "#modelo.fit(X_train, y_train)\n",
        "#y_predition = modelo.predict(X_test)"
      ]
    },
    {
      "cell_type": "markdown",
      "source": [
        "## Realización del proceso de entrenamiento con RandomForest"
      ],
      "metadata": {
        "id": "QOqRJRIBTkj5"
      },
      "id": "QOqRJRIBTkj5"
    },
    {
      "cell_type": "code",
      "execution_count": null,
      "id": "57550853-9663-4b2c-ab6b-e71e4a66aec0",
      "metadata": {
        "id": "57550853-9663-4b2c-ab6b-e71e4a66aec0"
      },
      "outputs": [],
      "source": [
        "from sklearn.ensemble import RandomForestClassifier\n",
        "\n",
        "X_train, y_train = smote.fit_resample(Xtr, ytr)\n",
        "X_test, y_test = smote.fit_resample(Xts, yts)\n",
        "modelo2 = RandomForestClassifier(max_depth=12)\n",
        "modelo2.fit(X_train, y_train)\n"
      ]
    },
    {
      "cell_type": "code",
      "source": [
        "modelo2.score(X_train, y_train), modelo2.score(X_train, y_train)"
      ],
      "metadata": {
        "id": "f85JZyRndReT"
      },
      "id": "f85JZyRndReT",
      "execution_count": null,
      "outputs": []
    },
    {
      "cell_type": "markdown",
      "source": [
        "## Realizacion con DecisionTree"
      ],
      "metadata": {
        "id": "xdAgkT5YUTTP"
      },
      "id": "xdAgkT5YUTTP"
    },
    {
      "cell_type": "code",
      "source": [
        "from sklearn.ensemble import RandomForestClassifier\n",
        "\n",
        "X_train, y_train = smote.fit_resample(X_train, y_train)\n",
        "\n",
        "modelo3 = DecisionTreeClassifier(max_depth=12)\n",
        "modelo3.fit(X_train, y_train)\n",
        "y_predition3 = modelo3.predict(X_test)"
      ],
      "metadata": {
        "id": "Dca8XL8ZUYGl"
      },
      "id": "Dca8XL8ZUYGl",
      "execution_count": null,
      "outputs": []
    },
    {
      "cell_type": "code",
      "source": [],
      "metadata": {
        "id": "Jk0BZnsXWQXq"
      },
      "id": "Jk0BZnsXWQXq",
      "execution_count": null,
      "outputs": []
    },
    {
      "cell_type": "markdown",
      "source": [
        "## Anotaciones de Score"
      ],
      "metadata": {
        "id": "73DYWjlSXeOP"
      },
      "id": "73DYWjlSXeOP"
    },
    {
      "cell_type": "code",
      "execution_count": null,
      "id": "27975112-6fa0-4017-9554-fbd85c311779",
      "metadata": {
        "id": "27975112-6fa0-4017-9554-fbd85c311779",
        "outputId": "ce18e5ce-23c5-4336-f9ab-87890f9f8584"
      },
      "outputs": [
        {
          "data": {
            "text/plain": [
              "0.4726878327746007"
            ]
          },
          "execution_count": 15,
          "metadata": {},
          "output_type": "execute_result"
        }
      ],
      "source": [
        "#modelo.score(X_train, y_train)"
      ]
    },
    {
      "cell_type": "code",
      "execution_count": null,
      "id": "de2b42bf-d2d6-4c96-85e1-95f6569bff72",
      "metadata": {
        "id": "de2b42bf-d2d6-4c96-85e1-95f6569bff72",
        "outputId": "9adb0705-d0f4-4d38-d079-79e0a9aadec9"
      },
      "outputs": [
        {
          "data": {
            "text/plain": [
              "0.6506113192664169"
            ]
          },
          "execution_count": 18,
          "metadata": {},
          "output_type": "execute_result"
        }
      ],
      "source": [
        "modelo2.score(X_train, y_train)"
      ]
    },
    {
      "cell_type": "code",
      "source": [
        "modelo3.score()"
      ],
      "metadata": {
        "id": "iOdevCa1XWri"
      },
      "id": "iOdevCa1XWri",
      "execution_count": null,
      "outputs": []
    },
    {
      "cell_type": "code",
      "execution_count": null,
      "id": "7c62ffad-7212-447f-8cfb-29e0eef23c18",
      "metadata": {
        "id": "7c62ffad-7212-447f-8cfb-29e0eef23c18",
        "outputId": "74872361-e110-4dbb-ba62-2dae83e4507a"
      },
      "outputs": [
        {
          "data": {
            "text/plain": [
              "array([0., 3., 0., ..., 2., 0., 0.])"
            ]
          },
          "execution_count": 13,
          "metadata": {},
          "output_type": "execute_result"
        }
      ],
      "source": [
        "y_predition"
      ]
    },
    {
      "cell_type": "code",
      "execution_count": null,
      "id": "5f6102d8-d871-4884-ae82-245bf1e93bc0",
      "metadata": {
        "id": "5f6102d8-d871-4884-ae82-245bf1e93bc0",
        "outputId": "d7efc85c-ec40-455a-98b1-7bb032cd7c0f"
      },
      "outputs": [
        {
          "data": {
            "text/plain": [
              "array([1., 3., 0., ..., 0., 0., 0.])"
            ]
          },
          "execution_count": 19,
          "metadata": {},
          "output_type": "execute_result"
        }
      ],
      "source": [
        "y_predition2"
      ]
    },
    {
      "cell_type": "code",
      "execution_count": null,
      "id": "ec223475-2f6f-4649-bfbf-3a2fdb287e64",
      "metadata": {
        "id": "ec223475-2f6f-4649-bfbf-3a2fdb287e64"
      },
      "outputs": [],
      "source": [
        "idTest = pd.DataFrame(test[\"ID\"])\n",
        "\n",
        "Reference = ['bajo', 'medio-bajo', 'medio-alto', 'alto']\n",
        "y_preditionReference = [Reference[int(i)] for i in y_predition]\n",
        "\n",
        "idTest['RENDIMIENTO_GLOBAL'] = pd.Series(y_preditionReference, name='RENDIMIENTO_GLOBAL')"
      ]
    },
    {
      "cell_type": "code",
      "execution_count": null,
      "id": "12e6e629-6007-4248-acde-df077be712c4",
      "metadata": {
        "id": "12e6e629-6007-4248-acde-df077be712c4",
        "outputId": "71087a55-0ee3-435a-caa7-ca3c9bf6601a"
      },
      "outputs": [
        {
          "data": {
            "text/html": [
              "<div>\n",
              "<style scoped>\n",
              "    .dataframe tbody tr th:only-of-type {\n",
              "        vertical-align: middle;\n",
              "    }\n",
              "\n",
              "    .dataframe tbody tr th {\n",
              "        vertical-align: top;\n",
              "    }\n",
              "\n",
              "    .dataframe thead th {\n",
              "        text-align: right;\n",
              "    }\n",
              "</style>\n",
              "<table border=\"1\" class=\"dataframe\">\n",
              "  <thead>\n",
              "    <tr style=\"text-align: right;\">\n",
              "      <th></th>\n",
              "      <th>ID</th>\n",
              "      <th>RENDIMIENTO_GLOBAL</th>\n",
              "    </tr>\n",
              "  </thead>\n",
              "  <tbody>\n",
              "    <tr>\n",
              "      <th>0</th>\n",
              "      <td>550236</td>\n",
              "      <td>medio-alto</td>\n",
              "    </tr>\n",
              "    <tr>\n",
              "      <th>1</th>\n",
              "      <td>98545</td>\n",
              "      <td>medio-bajo</td>\n",
              "    </tr>\n",
              "    <tr>\n",
              "      <th>2</th>\n",
              "      <td>499179</td>\n",
              "      <td>medio-alto</td>\n",
              "    </tr>\n",
              "    <tr>\n",
              "      <th>3</th>\n",
              "      <td>782980</td>\n",
              "      <td>bajo</td>\n",
              "    </tr>\n",
              "    <tr>\n",
              "      <th>4</th>\n",
              "      <td>785185</td>\n",
              "      <td>bajo</td>\n",
              "    </tr>\n",
              "  </tbody>\n",
              "</table>\n",
              "</div>"
            ],
            "text/plain": [
              "       ID RENDIMIENTO_GLOBAL\n",
              "0  550236         medio-alto\n",
              "1   98545         medio-bajo\n",
              "2  499179         medio-alto\n",
              "3  782980               bajo\n",
              "4  785185               bajo"
            ]
          },
          "execution_count": 24,
          "metadata": {},
          "output_type": "execute_result"
        }
      ],
      "source": [
        " idTest.head()"
      ]
    },
    {
      "cell_type": "code",
      "execution_count": null,
      "id": "b90a8c36-93ba-45e4-b47f-d35b0b8073b7",
      "metadata": {
        "id": "b90a8c36-93ba-45e4-b47f-d35b0b8073b7"
      },
      "outputs": [],
      "source": [
        "idTest.to_csv('submission3.csv', index=False)"
      ]
    }
  ],
  "metadata": {
    "kernelspec": {
      "display_name": "Python 3 (ipykernel)",
      "language": "python",
      "name": "python3"
    },
    "language_info": {
      "codemirror_mode": {
        "name": "ipython",
        "version": 3
      },
      "file_extension": ".py",
      "mimetype": "text/x-python",
      "name": "python",
      "nbconvert_exporter": "python",
      "pygments_lexer": "ipython3",
      "version": "3.10.12"
    },
    "colab": {
      "provenance": [],
      "include_colab_link": true
    }
  },
  "nbformat": 4,
  "nbformat_minor": 5
}