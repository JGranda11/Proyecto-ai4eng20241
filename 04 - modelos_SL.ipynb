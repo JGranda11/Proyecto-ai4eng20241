{
  "cells": [
    {
      "cell_type": "markdown",
      "metadata": {
        "id": "view-in-github",
        "colab_type": "text"
      },
      "source": [
        "<a href=\"https://colab.research.google.com/github/JGranda11/Proyecto-ai4eng20241/blob/main/04%20-%20modelos_SL.ipynb\" target=\"_parent\"><img src=\"https://colab.research.google.com/assets/colab-badge.svg\" alt=\"Open In Colab\"/></a>"
      ]
    },
    {
      "cell_type": "markdown",
      "id": "0914c827-b269-4abe-bf1f-16fd40a1d7c0",
      "metadata": {
        "id": "0914c827-b269-4abe-bf1f-16fd40a1d7c0"
      },
      "source": [
        "# Iteraciones Modelos de aprendizaje Supervisados\n",
        "En este notebook vamos a realizar los primeros acercamientos a realizar entrenamiento de modelos de datos ya preprocesados de la manera en que se hizo en el Notebook 02."
      ]
    },
    {
      "cell_type": "markdown",
      "id": "8bf20e8e-3104-49ce-8985-daf3a2b0122e",
      "metadata": {
        "id": "8bf20e8e-3104-49ce-8985-daf3a2b0122e"
      },
      "source": [
        "Se realiza la instalacion de ciertas librerias ya que se trabaja en un entorno de Jupyter y no en colab"
      ]
    },
    {
      "cell_type": "code",
      "execution_count": null,
      "id": "ed0a6646-9af7-4ece-853f-e26c5fa61c59",
      "metadata": {
        "scrolled": true,
        "id": "ed0a6646-9af7-4ece-853f-e26c5fa61c59",
        "outputId": "863a25b4-2d99-49ec-b646-bb4c80a5ef92"
      },
      "outputs": [
        {
          "name": "stdout",
          "output_type": "stream",
          "text": [
            "Looking in indexes: https://pypi.org/simple, https://pypi.ngc.nvidia.com\n",
            "Collecting seaborn\n",
            "  Downloading seaborn-0.13.2-py3-none-any.whl.metadata (5.4 kB)\n",
            "Requirement already satisfied: numpy!=1.24.0,>=1.20 in /usr/local/lib/python3.10/dist-packages (from seaborn) (1.24.4)\n",
            "Requirement already satisfied: pandas>=1.2 in /usr/local/lib/python3.10/dist-packages (from seaborn) (1.5.3)\n",
            "Requirement already satisfied: matplotlib!=3.6.1,>=3.4 in /usr/local/lib/python3.10/dist-packages (from seaborn) (3.8.4)\n",
            "Requirement already satisfied: contourpy>=1.0.1 in /usr/local/lib/python3.10/dist-packages (from matplotlib!=3.6.1,>=3.4->seaborn) (1.2.1)\n",
            "Requirement already satisfied: cycler>=0.10 in /usr/local/lib/python3.10/dist-packages (from matplotlib!=3.6.1,>=3.4->seaborn) (0.12.1)\n",
            "Requirement already satisfied: fonttools>=4.22.0 in /usr/local/lib/python3.10/dist-packages (from matplotlib!=3.6.1,>=3.4->seaborn) (4.51.0)\n",
            "Requirement already satisfied: kiwisolver>=1.3.1 in /usr/local/lib/python3.10/dist-packages (from matplotlib!=3.6.1,>=3.4->seaborn) (1.4.5)\n",
            "Requirement already satisfied: packaging>=20.0 in /usr/local/lib/python3.10/dist-packages (from matplotlib!=3.6.1,>=3.4->seaborn) (23.2)\n",
            "Requirement already satisfied: pillow>=8 in /usr/local/lib/python3.10/dist-packages (from matplotlib!=3.6.1,>=3.4->seaborn) (10.2.0)\n",
            "Requirement already satisfied: pyparsing>=2.3.1 in /usr/local/lib/python3.10/dist-packages (from matplotlib!=3.6.1,>=3.4->seaborn) (3.1.2)\n",
            "Requirement already satisfied: python-dateutil>=2.7 in /usr/local/lib/python3.10/dist-packages (from matplotlib!=3.6.1,>=3.4->seaborn) (2.9.0.post0)\n",
            "Requirement already satisfied: pytz>=2020.1 in /usr/local/lib/python3.10/dist-packages (from pandas>=1.2->seaborn) (2024.1)\n",
            "Requirement already satisfied: six>=1.5 in /usr/local/lib/python3.10/dist-packages (from python-dateutil>=2.7->matplotlib!=3.6.1,>=3.4->seaborn) (1.16.0)\n",
            "Downloading seaborn-0.13.2-py3-none-any.whl (294 kB)\n",
            "\u001b[2K   \u001b[90m━━━━━━━━━━━━━━━━━━━━━━━━━━━━━━━━━━━━━━━━\u001b[0m \u001b[32m294.9/294.9 kB\u001b[0m \u001b[31m11.5 MB/s\u001b[0m eta \u001b[36m0:00:00\u001b[0m\n",
            "\u001b[?25hInstalling collected packages: seaborn\n",
            "Successfully installed seaborn-0.13.2\n",
            "\u001b[33mWARNING: Running pip as the 'root' user can result in broken permissions and conflicting behaviour with the system package manager. It is recommended to use a virtual environment instead: https://pip.pypa.io/warnings/venv\u001b[0m\u001b[33m\n",
            "\u001b[0m"
          ]
        }
      ],
      "source": [
        "!pip install seaborn"
      ]
    },
    {
      "cell_type": "code",
      "execution_count": null,
      "id": "0a602583-1303-4464-b966-aec4f83e492d",
      "metadata": {
        "id": "0a602583-1303-4464-b966-aec4f83e492d",
        "outputId": "64d1cf02-a455-4080-a8f5-f0f676e55ae3"
      },
      "outputs": [
        {
          "name": "stdout",
          "output_type": "stream",
          "text": [
            "Looking in indexes: https://pypi.org/simple, https://pypi.ngc.nvidia.com\n",
            "Collecting plotly\n",
            "  Downloading plotly-5.22.0-py3-none-any.whl.metadata (7.1 kB)\n",
            "Collecting tenacity>=6.2.0 (from plotly)\n",
            "  Downloading tenacity-8.3.0-py3-none-any.whl.metadata (1.2 kB)\n",
            "Requirement already satisfied: packaging in /usr/local/lib/python3.10/dist-packages (from plotly) (23.2)\n",
            "Downloading plotly-5.22.0-py3-none-any.whl (16.4 MB)\n",
            "\u001b[2K   \u001b[90m━━━━━━━━━━━━━━━━━━━━━━━━━━━━━━━━━━━━━━━━\u001b[0m \u001b[32m16.4/16.4 MB\u001b[0m \u001b[31m277.5 MB/s\u001b[0m eta \u001b[36m0:00:00\u001b[0ma \u001b[36m0:00:01\u001b[0m\n",
            "\u001b[?25hDownloading tenacity-8.3.0-py3-none-any.whl (25 kB)\n",
            "Installing collected packages: tenacity, plotly\n",
            "Successfully installed plotly-5.22.0 tenacity-8.3.0\n",
            "\u001b[33mWARNING: Running pip as the 'root' user can result in broken permissions and conflicting behaviour with the system package manager. It is recommended to use a virtual environment instead: https://pip.pypa.io/warnings/venv\u001b[0m\u001b[33m\n",
            "\u001b[0m"
          ]
        }
      ],
      "source": [
        "!pip install plotly"
      ]
    },
    {
      "cell_type": "code",
      "execution_count": null,
      "id": "a0712311-c504-441b-bf36-6b63076e78f9",
      "metadata": {
        "id": "a0712311-c504-441b-bf36-6b63076e78f9"
      },
      "outputs": [],
      "source": [
        "#bibliotecas de machine learning\n",
        "import pandas as pd\n",
        "import numpy as np\n",
        "import matplotlib.pyplot as plt\n",
        "from sklearn.linear_model import LinearRegression\n",
        "from sklearn.tree import DecisionTreeClassifier\n",
        "from sklearn.ensemble import RandomForestClassifier\n",
        "from sklearn.neighbors import KNeighborsClassifier\n",
        "from sklearn.model_selection import cross_validate, ShuffleSplit, KFold, cross_val_score\n",
        "\n",
        "# Libreria para transformar los datos\n",
        "from sklearn.preprocessing import StandardScaler, MinMaxScaler\n",
        "\n",
        "# Seaborn: Libreria para la visualización de datos\n",
        "import seaborn as sns"
      ]
    },
    {
      "cell_type": "markdown",
      "id": "lS5KisHhqbkT",
      "metadata": {
        "id": "lS5KisHhqbkT"
      },
      "source": [
        "## Carga de datos\n",
        "Lo que se hizo fue generar un archivo .csv en el Notebook anterior para realizar el preprocesamiento a los datos, y cargar los datos ya procesados en un Notebook distinto"
      ]
    },
    {
      "cell_type": "code",
      "execution_count": null,
      "id": "73469b44-9c25-4ca1-beb7-ac5abda55cbc",
      "metadata": {
        "id": "73469b44-9c25-4ca1-beb7-ac5abda55cbc"
      },
      "outputs": [],
      "source": [
        "train = pd.read_csv('trainP1.csv')"
      ]
    },
    {
      "cell_type": "code",
      "execution_count": null,
      "id": "3056be5a-6773-4d9b-9ef6-524842f94aa9",
      "metadata": {
        "id": "3056be5a-6773-4d9b-9ef6-524842f94aa9"
      },
      "outputs": [],
      "source": [
        "test = pd.read_csv('testP1.csv')"
      ]
    },
    {
      "cell_type": "code",
      "execution_count": null,
      "id": "dc026608-4b56-4993-abcf-b0b24b3a1d65",
      "metadata": {
        "colab": {
          "base_uri": "https://localhost:8080/"
        },
        "id": "dc026608-4b56-4993-abcf-b0b24b3a1d65",
        "outputId": "ffb9e812-5814-40ce-ae9d-3d925cd7f117"
      },
      "outputs": [
        {
          "data": {
            "text/plain": [
              "(296786, 57)"
            ]
          },
          "execution_count": 7,
          "metadata": {},
          "output_type": "execute_result"
        }
      ],
      "source": [
        "test.shape"
      ]
    },
    {
      "cell_type": "code",
      "execution_count": null,
      "id": "81586194-b143-4538-96cf-bec3f8470130",
      "metadata": {
        "colab": {
          "base_uri": "https://localhost:8080/"
        },
        "id": "81586194-b143-4538-96cf-bec3f8470130",
        "outputId": "16cc1836-3924-4439-dc8a-f1e2b9be4707"
      },
      "outputs": [
        {
          "data": {
            "text/plain": [
              "(692500, 57)"
            ]
          },
          "execution_count": 8,
          "metadata": {},
          "output_type": "execute_result"
        }
      ],
      "source": [
        "train.shape"
      ]
    },
    {
      "cell_type": "code",
      "execution_count": null,
      "id": "b3a0d6ad-4285-49b0-b089-84b43ac610b8",
      "metadata": {
        "colab": {
          "base_uri": "https://localhost:8080/",
          "height": 256
        },
        "id": "b3a0d6ad-4285-49b0-b089-84b43ac610b8",
        "outputId": "279473fc-cf7c-4005-ad10-3ec14dc79a6c"
      },
      "outputs": [
        {
          "data": {
            "text/html": [
              "<div>\n",
              "<style scoped>\n",
              "    .dataframe tbody tr th:only-of-type {\n",
              "        vertical-align: middle;\n",
              "    }\n",
              "\n",
              "    .dataframe tbody tr th {\n",
              "        vertical-align: top;\n",
              "    }\n",
              "\n",
              "    .dataframe thead th {\n",
              "        text-align: right;\n",
              "    }\n",
              "</style>\n",
              "<table border=\"1\" class=\"dataframe\">\n",
              "  <thead>\n",
              "    <tr style=\"text-align: right;\">\n",
              "      <th></th>\n",
              "      <th>ESTU_VALORMATRICULAUNIVERSIDAD</th>\n",
              "      <th>ESTU_HORASSEMANATRABAJA</th>\n",
              "      <th>FAMI_ESTRATOVIVIENDA</th>\n",
              "      <th>FAMI_TIENEINTERNET</th>\n",
              "      <th>FAMI_EDUCACIONPADRE</th>\n",
              "      <th>FAMI_TIENELAVADORA</th>\n",
              "      <th>FAMI_TIENEAUTOMOVIL</th>\n",
              "      <th>ESTU_PRIVADO_LIBERTAD</th>\n",
              "      <th>ESTU_PAGOMATRICULAPROPIO</th>\n",
              "      <th>FAMI_TIENECOMPUTADOR</th>\n",
              "      <th>...</th>\n",
              "      <th>('PSICOLOGIA',)</th>\n",
              "      <th>('PUBLICIDAD',)</th>\n",
              "      <th>('QUIMICA',)</th>\n",
              "      <th>('RELACIONES',)</th>\n",
              "      <th>('VETERINARIA',)</th>\n",
              "      <th>('AMAZONA',)</th>\n",
              "      <th>('ANDINA',)</th>\n",
              "      <th>('CARIBE',)</th>\n",
              "      <th>('ORINOQUIA',)</th>\n",
              "      <th>('PACIFICA',)</th>\n",
              "    </tr>\n",
              "  </thead>\n",
              "  <tbody>\n",
              "    <tr>\n",
              "      <th>0</th>\n",
              "      <td>6.0</td>\n",
              "      <td>1.0</td>\n",
              "      <td>3.0</td>\n",
              "      <td>1.0</td>\n",
              "      <td>5.0</td>\n",
              "      <td>1.0</td>\n",
              "      <td>1.0</td>\n",
              "      <td>0.0</td>\n",
              "      <td>0.0</td>\n",
              "      <td>1.0</td>\n",
              "      <td>...</td>\n",
              "      <td>0.0</td>\n",
              "      <td>0.0</td>\n",
              "      <td>0.0</td>\n",
              "      <td>0.0</td>\n",
              "      <td>0.0</td>\n",
              "      <td>0.0</td>\n",
              "      <td>1.0</td>\n",
              "      <td>0.0</td>\n",
              "      <td>0.0</td>\n",
              "      <td>0.0</td>\n",
              "    </tr>\n",
              "    <tr>\n",
              "      <th>1</th>\n",
              "      <td>4.0</td>\n",
              "      <td>0.0</td>\n",
              "      <td>3.0</td>\n",
              "      <td>0.0</td>\n",
              "      <td>6.0</td>\n",
              "      <td>1.0</td>\n",
              "      <td>0.0</td>\n",
              "      <td>0.0</td>\n",
              "      <td>0.0</td>\n",
              "      <td>1.0</td>\n",
              "      <td>...</td>\n",
              "      <td>0.0</td>\n",
              "      <td>0.0</td>\n",
              "      <td>0.0</td>\n",
              "      <td>0.0</td>\n",
              "      <td>0.0</td>\n",
              "      <td>0.0</td>\n",
              "      <td>0.0</td>\n",
              "      <td>1.0</td>\n",
              "      <td>0.0</td>\n",
              "      <td>0.0</td>\n",
              "    </tr>\n",
              "    <tr>\n",
              "      <th>2</th>\n",
              "      <td>4.0</td>\n",
              "      <td>4.0</td>\n",
              "      <td>3.0</td>\n",
              "      <td>1.0</td>\n",
              "      <td>4.0</td>\n",
              "      <td>1.0</td>\n",
              "      <td>0.0</td>\n",
              "      <td>0.0</td>\n",
              "      <td>0.0</td>\n",
              "      <td>0.0</td>\n",
              "      <td>...</td>\n",
              "      <td>0.0</td>\n",
              "      <td>0.0</td>\n",
              "      <td>0.0</td>\n",
              "      <td>0.0</td>\n",
              "      <td>0.0</td>\n",
              "      <td>0.0</td>\n",
              "      <td>1.0</td>\n",
              "      <td>0.0</td>\n",
              "      <td>0.0</td>\n",
              "      <td>0.0</td>\n",
              "    </tr>\n",
              "    <tr>\n",
              "      <th>3</th>\n",
              "      <td>5.0</td>\n",
              "      <td>0.0</td>\n",
              "      <td>4.0</td>\n",
              "      <td>1.0</td>\n",
              "      <td>0.0</td>\n",
              "      <td>1.0</td>\n",
              "      <td>0.0</td>\n",
              "      <td>0.0</td>\n",
              "      <td>0.0</td>\n",
              "      <td>1.0</td>\n",
              "      <td>...</td>\n",
              "      <td>0.0</td>\n",
              "      <td>0.0</td>\n",
              "      <td>0.0</td>\n",
              "      <td>0.0</td>\n",
              "      <td>0.0</td>\n",
              "      <td>0.0</td>\n",
              "      <td>1.0</td>\n",
              "      <td>0.0</td>\n",
              "      <td>0.0</td>\n",
              "      <td>0.0</td>\n",
              "    </tr>\n",
              "    <tr>\n",
              "      <th>4</th>\n",
              "      <td>4.0</td>\n",
              "      <td>3.0</td>\n",
              "      <td>3.0</td>\n",
              "      <td>1.0</td>\n",
              "      <td>2.0</td>\n",
              "      <td>1.0</td>\n",
              "      <td>1.0</td>\n",
              "      <td>0.0</td>\n",
              "      <td>0.0</td>\n",
              "      <td>1.0</td>\n",
              "      <td>...</td>\n",
              "      <td>1.0</td>\n",
              "      <td>0.0</td>\n",
              "      <td>0.0</td>\n",
              "      <td>0.0</td>\n",
              "      <td>0.0</td>\n",
              "      <td>0.0</td>\n",
              "      <td>1.0</td>\n",
              "      <td>0.0</td>\n",
              "      <td>0.0</td>\n",
              "      <td>0.0</td>\n",
              "    </tr>\n",
              "  </tbody>\n",
              "</table>\n",
              "<p>5 rows × 57 columns</p>\n",
              "</div>"
            ],
            "text/plain": [
              "   ESTU_VALORMATRICULAUNIVERSIDAD  ESTU_HORASSEMANATRABAJA  \\\n",
              "0                             6.0                      1.0   \n",
              "1                             4.0                      0.0   \n",
              "2                             4.0                      4.0   \n",
              "3                             5.0                      0.0   \n",
              "4                             4.0                      3.0   \n",
              "\n",
              "   FAMI_ESTRATOVIVIENDA  FAMI_TIENEINTERNET  FAMI_EDUCACIONPADRE  \\\n",
              "0                   3.0                 1.0                  5.0   \n",
              "1                   3.0                 0.0                  6.0   \n",
              "2                   3.0                 1.0                  4.0   \n",
              "3                   4.0                 1.0                  0.0   \n",
              "4                   3.0                 1.0                  2.0   \n",
              "\n",
              "   FAMI_TIENELAVADORA  FAMI_TIENEAUTOMOVIL  ESTU_PRIVADO_LIBERTAD  \\\n",
              "0                 1.0                  1.0                    0.0   \n",
              "1                 1.0                  0.0                    0.0   \n",
              "2                 1.0                  0.0                    0.0   \n",
              "3                 1.0                  0.0                    0.0   \n",
              "4                 1.0                  1.0                    0.0   \n",
              "\n",
              "   ESTU_PAGOMATRICULAPROPIO  FAMI_TIENECOMPUTADOR  ...  ('PSICOLOGIA',)  \\\n",
              "0                       0.0                   1.0  ...              0.0   \n",
              "1                       0.0                   1.0  ...              0.0   \n",
              "2                       0.0                   0.0  ...              0.0   \n",
              "3                       0.0                   1.0  ...              0.0   \n",
              "4                       0.0                   1.0  ...              1.0   \n",
              "\n",
              "   ('PUBLICIDAD',)  ('QUIMICA',)  ('RELACIONES',)  ('VETERINARIA',)  \\\n",
              "0              0.0           0.0              0.0               0.0   \n",
              "1              0.0           0.0              0.0               0.0   \n",
              "2              0.0           0.0              0.0               0.0   \n",
              "3              0.0           0.0              0.0               0.0   \n",
              "4              0.0           0.0              0.0               0.0   \n",
              "\n",
              "   ('AMAZONA',)  ('ANDINA',)  ('CARIBE',)  ('ORINOQUIA',)  ('PACIFICA',)  \n",
              "0           0.0          1.0          0.0             0.0            0.0  \n",
              "1           0.0          0.0          1.0             0.0            0.0  \n",
              "2           0.0          1.0          0.0             0.0            0.0  \n",
              "3           0.0          1.0          0.0             0.0            0.0  \n",
              "4           0.0          1.0          0.0             0.0            0.0  \n",
              "\n",
              "[5 rows x 57 columns]"
            ]
          },
          "execution_count": 9,
          "metadata": {},
          "output_type": "execute_result"
        }
      ],
      "source": [
        "train.head()"
      ]
    },
    {
      "cell_type": "code",
      "execution_count": null,
      "id": "763fc3e7-8211-4d41-ae26-a35a288494b9",
      "metadata": {
        "colab": {
          "base_uri": "https://localhost:8080/",
          "height": 444
        },
        "id": "763fc3e7-8211-4d41-ae26-a35a288494b9",
        "outputId": "5c73cd91-f4c8-40af-a8c4-a7fffd013eae"
      },
      "outputs": [
        {
          "data": {
            "text/html": [
              "<div>\n",
              "<style scoped>\n",
              "    .dataframe tbody tr th:only-of-type {\n",
              "        vertical-align: middle;\n",
              "    }\n",
              "\n",
              "    .dataframe tbody tr th {\n",
              "        vertical-align: top;\n",
              "    }\n",
              "\n",
              "    .dataframe thead th {\n",
              "        text-align: right;\n",
              "    }\n",
              "</style>\n",
              "<table border=\"1\" class=\"dataframe\">\n",
              "  <thead>\n",
              "    <tr style=\"text-align: right;\">\n",
              "      <th></th>\n",
              "      <th>ESTU_VALORMATRICULAUNIVERSIDAD</th>\n",
              "      <th>ESTU_HORASSEMANATRABAJA</th>\n",
              "      <th>FAMI_ESTRATOVIVIENDA</th>\n",
              "      <th>FAMI_TIENEINTERNET</th>\n",
              "      <th>FAMI_EDUCACIONPADRE</th>\n",
              "      <th>FAMI_TIENELAVADORA</th>\n",
              "      <th>FAMI_TIENEAUTOMOVIL</th>\n",
              "      <th>ESTU_PRIVADO_LIBERTAD</th>\n",
              "      <th>ESTU_PAGOMATRICULAPROPIO</th>\n",
              "      <th>FAMI_TIENECOMPUTADOR</th>\n",
              "      <th>FAMI_EDUCACIONMADRE</th>\n",
              "      <th>RENDIMIENTO_GLOBAL</th>\n",
              "      <th>('2018',)</th>\n",
              "      <th>('2019',)</th>\n",
              "      <th>('2020',)</th>\n",
              "      <th>('2021',)</th>\n",
              "      <th>('ADMINISTRACION',)</th>\n",
              "      <th>('AGRONOMIA',)</th>\n",
              "      <th>('ARTES',)</th>\n",
              "      <th>('CIENCIAS',)</th>\n",
              "      <th>('CINE',)</th>\n",
              "      <th>('COMERCIO',)</th>\n",
              "      <th>('COMUNICACION',)</th>\n",
              "      <th>('CONSTRUCCION',)</th>\n",
              "      <th>('CONTADURIA',)</th>\n",
              "      <th>('DIRECCION',)</th>\n",
              "      <th>('DISEÑO',)</th>\n",
              "      <th>('ECONOMIA',)</th>\n",
              "      <th>('ESTUDIOS',)</th>\n",
              "      <th>('FILOLOGIA',)</th>\n",
              "      <th>('FILOSOFIA',)</th>\n",
              "      <th>('FINANZAS',)</th>\n",
              "      <th>('GEOGRAFIA',)</th>\n",
              "      <th>('GERENCIA',)</th>\n",
              "      <th>('GESTION',)</th>\n",
              "      <th>('HISTORIA',)</th>\n",
              "      <th>('HOTELERIA',)</th>\n",
              "      <th>('INGENIERIA',)</th>\n",
              "      <th>('LENGUAS',)</th>\n",
              "      <th>('LICENCIATURA',)</th>\n",
              "      <th>('LITERATURA',)</th>\n",
              "      <th>('MATEMATICAS',)</th>\n",
              "      <th>('MERCADEO',)</th>\n",
              "      <th>('MUSICA',)</th>\n",
              "      <th>('NEGOCIOS',)</th>\n",
              "      <th>('Otras',)</th>\n",
              "      <th>('PROFESIONAL',)</th>\n",
              "      <th>('PSICOLOGIA',)</th>\n",
              "      <th>('PUBLICIDAD',)</th>\n",
              "      <th>('QUIMICA',)</th>\n",
              "      <th>('RELACIONES',)</th>\n",
              "      <th>('VETERINARIA',)</th>\n",
              "      <th>('AMAZONA',)</th>\n",
              "      <th>('ANDINA',)</th>\n",
              "      <th>('CARIBE',)</th>\n",
              "      <th>('ORINOQUIA',)</th>\n",
              "      <th>('PACIFICA',)</th>\n",
              "    </tr>\n",
              "  </thead>\n",
              "  <tbody>\n",
              "    <tr>\n",
              "      <th>0</th>\n",
              "      <td>6.0</td>\n",
              "      <td>1.0</td>\n",
              "      <td>3.0</td>\n",
              "      <td>1.0</td>\n",
              "      <td>5.0</td>\n",
              "      <td>1.0</td>\n",
              "      <td>1.0</td>\n",
              "      <td>0.0</td>\n",
              "      <td>0.0</td>\n",
              "      <td>1.0</td>\n",
              "      <td>9.0</td>\n",
              "      <td>2.0</td>\n",
              "      <td>0.0</td>\n",
              "      <td>0.0</td>\n",
              "      <td>0.0</td>\n",
              "      <td>1.0</td>\n",
              "      <td>0.0</td>\n",
              "      <td>0.0</td>\n",
              "      <td>0.0</td>\n",
              "      <td>0.0</td>\n",
              "      <td>0.0</td>\n",
              "      <td>0.0</td>\n",
              "      <td>0.0</td>\n",
              "      <td>0.0</td>\n",
              "      <td>0.0</td>\n",
              "      <td>0.0</td>\n",
              "      <td>0.0</td>\n",
              "      <td>0.0</td>\n",
              "      <td>0.0</td>\n",
              "      <td>0.0</td>\n",
              "      <td>0.0</td>\n",
              "      <td>0.0</td>\n",
              "      <td>0.0</td>\n",
              "      <td>0.0</td>\n",
              "      <td>0.0</td>\n",
              "      <td>0.0</td>\n",
              "      <td>0.0</td>\n",
              "      <td>0.0</td>\n",
              "      <td>0.0</td>\n",
              "      <td>0.0</td>\n",
              "      <td>0.0</td>\n",
              "      <td>0.0</td>\n",
              "      <td>0.0</td>\n",
              "      <td>0.0</td>\n",
              "      <td>0.0</td>\n",
              "      <td>1.0</td>\n",
              "      <td>0.0</td>\n",
              "      <td>0.0</td>\n",
              "      <td>0.0</td>\n",
              "      <td>0.0</td>\n",
              "      <td>0.0</td>\n",
              "      <td>0.0</td>\n",
              "      <td>0.0</td>\n",
              "      <td>1.0</td>\n",
              "      <td>0.0</td>\n",
              "      <td>0.0</td>\n",
              "      <td>0.0</td>\n",
              "    </tr>\n",
              "    <tr>\n",
              "      <th>1</th>\n",
              "      <td>4.0</td>\n",
              "      <td>0.0</td>\n",
              "      <td>3.0</td>\n",
              "      <td>0.0</td>\n",
              "      <td>6.0</td>\n",
              "      <td>1.0</td>\n",
              "      <td>0.0</td>\n",
              "      <td>0.0</td>\n",
              "      <td>0.0</td>\n",
              "      <td>1.0</td>\n",
              "      <td>5.0</td>\n",
              "      <td>1.0</td>\n",
              "      <td>0.0</td>\n",
              "      <td>0.0</td>\n",
              "      <td>0.0</td>\n",
              "      <td>1.0</td>\n",
              "      <td>0.0</td>\n",
              "      <td>0.0</td>\n",
              "      <td>0.0</td>\n",
              "      <td>0.0</td>\n",
              "      <td>0.0</td>\n",
              "      <td>0.0</td>\n",
              "      <td>0.0</td>\n",
              "      <td>0.0</td>\n",
              "      <td>0.0</td>\n",
              "      <td>0.0</td>\n",
              "      <td>0.0</td>\n",
              "      <td>0.0</td>\n",
              "      <td>0.0</td>\n",
              "      <td>0.0</td>\n",
              "      <td>0.0</td>\n",
              "      <td>0.0</td>\n",
              "      <td>0.0</td>\n",
              "      <td>0.0</td>\n",
              "      <td>0.0</td>\n",
              "      <td>0.0</td>\n",
              "      <td>0.0</td>\n",
              "      <td>0.0</td>\n",
              "      <td>0.0</td>\n",
              "      <td>0.0</td>\n",
              "      <td>0.0</td>\n",
              "      <td>0.0</td>\n",
              "      <td>0.0</td>\n",
              "      <td>0.0</td>\n",
              "      <td>0.0</td>\n",
              "      <td>1.0</td>\n",
              "      <td>0.0</td>\n",
              "      <td>0.0</td>\n",
              "      <td>0.0</td>\n",
              "      <td>0.0</td>\n",
              "      <td>0.0</td>\n",
              "      <td>0.0</td>\n",
              "      <td>0.0</td>\n",
              "      <td>0.0</td>\n",
              "      <td>1.0</td>\n",
              "      <td>0.0</td>\n",
              "      <td>0.0</td>\n",
              "    </tr>\n",
              "    <tr>\n",
              "      <th>2</th>\n",
              "      <td>4.0</td>\n",
              "      <td>4.0</td>\n",
              "      <td>3.0</td>\n",
              "      <td>1.0</td>\n",
              "      <td>4.0</td>\n",
              "      <td>1.0</td>\n",
              "      <td>0.0</td>\n",
              "      <td>0.0</td>\n",
              "      <td>0.0</td>\n",
              "      <td>0.0</td>\n",
              "      <td>4.0</td>\n",
              "      <td>1.0</td>\n",
              "      <td>0.0</td>\n",
              "      <td>0.0</td>\n",
              "      <td>1.0</td>\n",
              "      <td>0.0</td>\n",
              "      <td>0.0</td>\n",
              "      <td>0.0</td>\n",
              "      <td>0.0</td>\n",
              "      <td>0.0</td>\n",
              "      <td>0.0</td>\n",
              "      <td>0.0</td>\n",
              "      <td>0.0</td>\n",
              "      <td>0.0</td>\n",
              "      <td>0.0</td>\n",
              "      <td>0.0</td>\n",
              "      <td>0.0</td>\n",
              "      <td>0.0</td>\n",
              "      <td>0.0</td>\n",
              "      <td>0.0</td>\n",
              "      <td>0.0</td>\n",
              "      <td>0.0</td>\n",
              "      <td>0.0</td>\n",
              "      <td>0.0</td>\n",
              "      <td>0.0</td>\n",
              "      <td>0.0</td>\n",
              "      <td>0.0</td>\n",
              "      <td>0.0</td>\n",
              "      <td>0.0</td>\n",
              "      <td>0.0</td>\n",
              "      <td>0.0</td>\n",
              "      <td>0.0</td>\n",
              "      <td>1.0</td>\n",
              "      <td>0.0</td>\n",
              "      <td>0.0</td>\n",
              "      <td>0.0</td>\n",
              "      <td>0.0</td>\n",
              "      <td>0.0</td>\n",
              "      <td>0.0</td>\n",
              "      <td>0.0</td>\n",
              "      <td>0.0</td>\n",
              "      <td>0.0</td>\n",
              "      <td>0.0</td>\n",
              "      <td>1.0</td>\n",
              "      <td>0.0</td>\n",
              "      <td>0.0</td>\n",
              "      <td>0.0</td>\n",
              "    </tr>\n",
              "    <tr>\n",
              "      <th>3</th>\n",
              "      <td>5.0</td>\n",
              "      <td>0.0</td>\n",
              "      <td>4.0</td>\n",
              "      <td>1.0</td>\n",
              "      <td>0.0</td>\n",
              "      <td>1.0</td>\n",
              "      <td>0.0</td>\n",
              "      <td>0.0</td>\n",
              "      <td>0.0</td>\n",
              "      <td>1.0</td>\n",
              "      <td>4.0</td>\n",
              "      <td>0.0</td>\n",
              "      <td>0.0</td>\n",
              "      <td>1.0</td>\n",
              "      <td>0.0</td>\n",
              "      <td>0.0</td>\n",
              "      <td>1.0</td>\n",
              "      <td>0.0</td>\n",
              "      <td>0.0</td>\n",
              "      <td>0.0</td>\n",
              "      <td>0.0</td>\n",
              "      <td>0.0</td>\n",
              "      <td>0.0</td>\n",
              "      <td>0.0</td>\n",
              "      <td>0.0</td>\n",
              "      <td>0.0</td>\n",
              "      <td>0.0</td>\n",
              "      <td>0.0</td>\n",
              "      <td>0.0</td>\n",
              "      <td>0.0</td>\n",
              "      <td>0.0</td>\n",
              "      <td>0.0</td>\n",
              "      <td>0.0</td>\n",
              "      <td>0.0</td>\n",
              "      <td>0.0</td>\n",
              "      <td>0.0</td>\n",
              "      <td>0.0</td>\n",
              "      <td>0.0</td>\n",
              "      <td>0.0</td>\n",
              "      <td>0.0</td>\n",
              "      <td>0.0</td>\n",
              "      <td>0.0</td>\n",
              "      <td>0.0</td>\n",
              "      <td>0.0</td>\n",
              "      <td>0.0</td>\n",
              "      <td>0.0</td>\n",
              "      <td>0.0</td>\n",
              "      <td>0.0</td>\n",
              "      <td>0.0</td>\n",
              "      <td>0.0</td>\n",
              "      <td>0.0</td>\n",
              "      <td>0.0</td>\n",
              "      <td>0.0</td>\n",
              "      <td>1.0</td>\n",
              "      <td>0.0</td>\n",
              "      <td>0.0</td>\n",
              "      <td>0.0</td>\n",
              "    </tr>\n",
              "    <tr>\n",
              "      <th>4</th>\n",
              "      <td>4.0</td>\n",
              "      <td>3.0</td>\n",
              "      <td>3.0</td>\n",
              "      <td>1.0</td>\n",
              "      <td>2.0</td>\n",
              "      <td>1.0</td>\n",
              "      <td>1.0</td>\n",
              "      <td>0.0</td>\n",
              "      <td>0.0</td>\n",
              "      <td>1.0</td>\n",
              "      <td>2.0</td>\n",
              "      <td>3.0</td>\n",
              "      <td>0.0</td>\n",
              "      <td>0.0</td>\n",
              "      <td>0.0</td>\n",
              "      <td>1.0</td>\n",
              "      <td>0.0</td>\n",
              "      <td>0.0</td>\n",
              "      <td>0.0</td>\n",
              "      <td>0.0</td>\n",
              "      <td>0.0</td>\n",
              "      <td>0.0</td>\n",
              "      <td>0.0</td>\n",
              "      <td>0.0</td>\n",
              "      <td>0.0</td>\n",
              "      <td>0.0</td>\n",
              "      <td>0.0</td>\n",
              "      <td>0.0</td>\n",
              "      <td>0.0</td>\n",
              "      <td>0.0</td>\n",
              "      <td>0.0</td>\n",
              "      <td>0.0</td>\n",
              "      <td>0.0</td>\n",
              "      <td>0.0</td>\n",
              "      <td>0.0</td>\n",
              "      <td>0.0</td>\n",
              "      <td>0.0</td>\n",
              "      <td>0.0</td>\n",
              "      <td>0.0</td>\n",
              "      <td>0.0</td>\n",
              "      <td>0.0</td>\n",
              "      <td>0.0</td>\n",
              "      <td>0.0</td>\n",
              "      <td>0.0</td>\n",
              "      <td>0.0</td>\n",
              "      <td>0.0</td>\n",
              "      <td>0.0</td>\n",
              "      <td>1.0</td>\n",
              "      <td>0.0</td>\n",
              "      <td>0.0</td>\n",
              "      <td>0.0</td>\n",
              "      <td>0.0</td>\n",
              "      <td>0.0</td>\n",
              "      <td>1.0</td>\n",
              "      <td>0.0</td>\n",
              "      <td>0.0</td>\n",
              "      <td>0.0</td>\n",
              "    </tr>\n",
              "    <tr>\n",
              "      <th>...</th>\n",
              "      <td>...</td>\n",
              "      <td>...</td>\n",
              "      <td>...</td>\n",
              "      <td>...</td>\n",
              "      <td>...</td>\n",
              "      <td>...</td>\n",
              "      <td>...</td>\n",
              "      <td>...</td>\n",
              "      <td>...</td>\n",
              "      <td>...</td>\n",
              "      <td>...</td>\n",
              "      <td>...</td>\n",
              "      <td>...</td>\n",
              "      <td>...</td>\n",
              "      <td>...</td>\n",
              "      <td>...</td>\n",
              "      <td>...</td>\n",
              "      <td>...</td>\n",
              "      <td>...</td>\n",
              "      <td>...</td>\n",
              "      <td>...</td>\n",
              "      <td>...</td>\n",
              "      <td>...</td>\n",
              "      <td>...</td>\n",
              "      <td>...</td>\n",
              "      <td>...</td>\n",
              "      <td>...</td>\n",
              "      <td>...</td>\n",
              "      <td>...</td>\n",
              "      <td>...</td>\n",
              "      <td>...</td>\n",
              "      <td>...</td>\n",
              "      <td>...</td>\n",
              "      <td>...</td>\n",
              "      <td>...</td>\n",
              "      <td>...</td>\n",
              "      <td>...</td>\n",
              "      <td>...</td>\n",
              "      <td>...</td>\n",
              "      <td>...</td>\n",
              "      <td>...</td>\n",
              "      <td>...</td>\n",
              "      <td>...</td>\n",
              "      <td>...</td>\n",
              "      <td>...</td>\n",
              "      <td>...</td>\n",
              "      <td>...</td>\n",
              "      <td>...</td>\n",
              "      <td>...</td>\n",
              "      <td>...</td>\n",
              "      <td>...</td>\n",
              "      <td>...</td>\n",
              "      <td>...</td>\n",
              "      <td>...</td>\n",
              "      <td>...</td>\n",
              "      <td>...</td>\n",
              "      <td>...</td>\n",
              "    </tr>\n",
              "    <tr>\n",
              "      <th>692495</th>\n",
              "      <td>2.0</td>\n",
              "      <td>2.0</td>\n",
              "      <td>2.0</td>\n",
              "      <td>1.0</td>\n",
              "      <td>4.0</td>\n",
              "      <td>1.0</td>\n",
              "      <td>0.0</td>\n",
              "      <td>0.0</td>\n",
              "      <td>1.0</td>\n",
              "      <td>1.0</td>\n",
              "      <td>3.0</td>\n",
              "      <td>2.0</td>\n",
              "      <td>0.0</td>\n",
              "      <td>1.0</td>\n",
              "      <td>0.0</td>\n",
              "      <td>0.0</td>\n",
              "      <td>0.0</td>\n",
              "      <td>0.0</td>\n",
              "      <td>0.0</td>\n",
              "      <td>0.0</td>\n",
              "      <td>0.0</td>\n",
              "      <td>0.0</td>\n",
              "      <td>0.0</td>\n",
              "      <td>0.0</td>\n",
              "      <td>0.0</td>\n",
              "      <td>0.0</td>\n",
              "      <td>0.0</td>\n",
              "      <td>0.0</td>\n",
              "      <td>0.0</td>\n",
              "      <td>0.0</td>\n",
              "      <td>0.0</td>\n",
              "      <td>0.0</td>\n",
              "      <td>0.0</td>\n",
              "      <td>0.0</td>\n",
              "      <td>0.0</td>\n",
              "      <td>0.0</td>\n",
              "      <td>0.0</td>\n",
              "      <td>0.0</td>\n",
              "      <td>0.0</td>\n",
              "      <td>0.0</td>\n",
              "      <td>0.0</td>\n",
              "      <td>0.0</td>\n",
              "      <td>0.0</td>\n",
              "      <td>0.0</td>\n",
              "      <td>0.0</td>\n",
              "      <td>1.0</td>\n",
              "      <td>0.0</td>\n",
              "      <td>0.0</td>\n",
              "      <td>0.0</td>\n",
              "      <td>0.0</td>\n",
              "      <td>0.0</td>\n",
              "      <td>0.0</td>\n",
              "      <td>0.0</td>\n",
              "      <td>0.0</td>\n",
              "      <td>1.0</td>\n",
              "      <td>0.0</td>\n",
              "      <td>0.0</td>\n",
              "    </tr>\n",
              "    <tr>\n",
              "      <th>692496</th>\n",
              "      <td>4.0</td>\n",
              "      <td>4.0</td>\n",
              "      <td>3.0</td>\n",
              "      <td>1.0</td>\n",
              "      <td>1.0</td>\n",
              "      <td>1.0</td>\n",
              "      <td>0.0</td>\n",
              "      <td>0.0</td>\n",
              "      <td>0.0</td>\n",
              "      <td>1.0</td>\n",
              "      <td>3.0</td>\n",
              "      <td>1.0</td>\n",
              "      <td>0.0</td>\n",
              "      <td>0.0</td>\n",
              "      <td>0.0</td>\n",
              "      <td>1.0</td>\n",
              "      <td>0.0</td>\n",
              "      <td>0.0</td>\n",
              "      <td>0.0</td>\n",
              "      <td>0.0</td>\n",
              "      <td>0.0</td>\n",
              "      <td>0.0</td>\n",
              "      <td>0.0</td>\n",
              "      <td>0.0</td>\n",
              "      <td>0.0</td>\n",
              "      <td>0.0</td>\n",
              "      <td>0.0</td>\n",
              "      <td>0.0</td>\n",
              "      <td>0.0</td>\n",
              "      <td>0.0</td>\n",
              "      <td>0.0</td>\n",
              "      <td>0.0</td>\n",
              "      <td>0.0</td>\n",
              "      <td>0.0</td>\n",
              "      <td>0.0</td>\n",
              "      <td>0.0</td>\n",
              "      <td>0.0</td>\n",
              "      <td>0.0</td>\n",
              "      <td>0.0</td>\n",
              "      <td>0.0</td>\n",
              "      <td>0.0</td>\n",
              "      <td>0.0</td>\n",
              "      <td>0.0</td>\n",
              "      <td>0.0</td>\n",
              "      <td>0.0</td>\n",
              "      <td>0.0</td>\n",
              "      <td>0.0</td>\n",
              "      <td>1.0</td>\n",
              "      <td>0.0</td>\n",
              "      <td>0.0</td>\n",
              "      <td>0.0</td>\n",
              "      <td>0.0</td>\n",
              "      <td>0.0</td>\n",
              "      <td>1.0</td>\n",
              "      <td>0.0</td>\n",
              "      <td>0.0</td>\n",
              "      <td>0.0</td>\n",
              "    </tr>\n",
              "    <tr>\n",
              "      <th>692497</th>\n",
              "      <td>3.0</td>\n",
              "      <td>1.0</td>\n",
              "      <td>3.0</td>\n",
              "      <td>1.0</td>\n",
              "      <td>4.0</td>\n",
              "      <td>1.0</td>\n",
              "      <td>0.0</td>\n",
              "      <td>0.0</td>\n",
              "      <td>1.0</td>\n",
              "      <td>1.0</td>\n",
              "      <td>3.0</td>\n",
              "      <td>3.0</td>\n",
              "      <td>1.0</td>\n",
              "      <td>0.0</td>\n",
              "      <td>0.0</td>\n",
              "      <td>0.0</td>\n",
              "      <td>1.0</td>\n",
              "      <td>0.0</td>\n",
              "      <td>0.0</td>\n",
              "      <td>0.0</td>\n",
              "      <td>0.0</td>\n",
              "      <td>0.0</td>\n",
              "      <td>0.0</td>\n",
              "      <td>0.0</td>\n",
              "      <td>0.0</td>\n",
              "      <td>0.0</td>\n",
              "      <td>0.0</td>\n",
              "      <td>0.0</td>\n",
              "      <td>0.0</td>\n",
              "      <td>0.0</td>\n",
              "      <td>0.0</td>\n",
              "      <td>0.0</td>\n",
              "      <td>0.0</td>\n",
              "      <td>0.0</td>\n",
              "      <td>0.0</td>\n",
              "      <td>0.0</td>\n",
              "      <td>0.0</td>\n",
              "      <td>0.0</td>\n",
              "      <td>0.0</td>\n",
              "      <td>0.0</td>\n",
              "      <td>0.0</td>\n",
              "      <td>0.0</td>\n",
              "      <td>0.0</td>\n",
              "      <td>0.0</td>\n",
              "      <td>0.0</td>\n",
              "      <td>0.0</td>\n",
              "      <td>0.0</td>\n",
              "      <td>0.0</td>\n",
              "      <td>0.0</td>\n",
              "      <td>0.0</td>\n",
              "      <td>0.0</td>\n",
              "      <td>0.0</td>\n",
              "      <td>0.0</td>\n",
              "      <td>1.0</td>\n",
              "      <td>0.0</td>\n",
              "      <td>0.0</td>\n",
              "      <td>0.0</td>\n",
              "    </tr>\n",
              "    <tr>\n",
              "      <th>692498</th>\n",
              "      <td>4.0</td>\n",
              "      <td>1.0</td>\n",
              "      <td>1.0</td>\n",
              "      <td>0.0</td>\n",
              "      <td>2.0</td>\n",
              "      <td>0.0</td>\n",
              "      <td>0.0</td>\n",
              "      <td>0.0</td>\n",
              "      <td>1.0</td>\n",
              "      <td>1.0</td>\n",
              "      <td>2.0</td>\n",
              "      <td>1.0</td>\n",
              "      <td>0.0</td>\n",
              "      <td>1.0</td>\n",
              "      <td>0.0</td>\n",
              "      <td>0.0</td>\n",
              "      <td>0.0</td>\n",
              "      <td>0.0</td>\n",
              "      <td>0.0</td>\n",
              "      <td>0.0</td>\n",
              "      <td>0.0</td>\n",
              "      <td>0.0</td>\n",
              "      <td>0.0</td>\n",
              "      <td>0.0</td>\n",
              "      <td>0.0</td>\n",
              "      <td>0.0</td>\n",
              "      <td>0.0</td>\n",
              "      <td>0.0</td>\n",
              "      <td>0.0</td>\n",
              "      <td>0.0</td>\n",
              "      <td>0.0</td>\n",
              "      <td>0.0</td>\n",
              "      <td>0.0</td>\n",
              "      <td>0.0</td>\n",
              "      <td>0.0</td>\n",
              "      <td>0.0</td>\n",
              "      <td>0.0</td>\n",
              "      <td>0.0</td>\n",
              "      <td>0.0</td>\n",
              "      <td>0.0</td>\n",
              "      <td>0.0</td>\n",
              "      <td>0.0</td>\n",
              "      <td>0.0</td>\n",
              "      <td>0.0</td>\n",
              "      <td>0.0</td>\n",
              "      <td>0.0</td>\n",
              "      <td>0.0</td>\n",
              "      <td>1.0</td>\n",
              "      <td>0.0</td>\n",
              "      <td>0.0</td>\n",
              "      <td>0.0</td>\n",
              "      <td>0.0</td>\n",
              "      <td>0.0</td>\n",
              "      <td>1.0</td>\n",
              "      <td>0.0</td>\n",
              "      <td>0.0</td>\n",
              "      <td>0.0</td>\n",
              "    </tr>\n",
              "    <tr>\n",
              "      <th>692499</th>\n",
              "      <td>6.0</td>\n",
              "      <td>4.0</td>\n",
              "      <td>4.0</td>\n",
              "      <td>1.0</td>\n",
              "      <td>4.0</td>\n",
              "      <td>1.0</td>\n",
              "      <td>1.0</td>\n",
              "      <td>0.0</td>\n",
              "      <td>0.0</td>\n",
              "      <td>1.0</td>\n",
              "      <td>6.0</td>\n",
              "      <td>0.0</td>\n",
              "      <td>0.0</td>\n",
              "      <td>1.0</td>\n",
              "      <td>0.0</td>\n",
              "      <td>0.0</td>\n",
              "      <td>0.0</td>\n",
              "      <td>0.0</td>\n",
              "      <td>0.0</td>\n",
              "      <td>0.0</td>\n",
              "      <td>0.0</td>\n",
              "      <td>0.0</td>\n",
              "      <td>0.0</td>\n",
              "      <td>0.0</td>\n",
              "      <td>0.0</td>\n",
              "      <td>0.0</td>\n",
              "      <td>0.0</td>\n",
              "      <td>0.0</td>\n",
              "      <td>0.0</td>\n",
              "      <td>0.0</td>\n",
              "      <td>0.0</td>\n",
              "      <td>0.0</td>\n",
              "      <td>0.0</td>\n",
              "      <td>0.0</td>\n",
              "      <td>0.0</td>\n",
              "      <td>0.0</td>\n",
              "      <td>0.0</td>\n",
              "      <td>0.0</td>\n",
              "      <td>0.0</td>\n",
              "      <td>0.0</td>\n",
              "      <td>0.0</td>\n",
              "      <td>0.0</td>\n",
              "      <td>0.0</td>\n",
              "      <td>0.0</td>\n",
              "      <td>0.0</td>\n",
              "      <td>0.0</td>\n",
              "      <td>0.0</td>\n",
              "      <td>1.0</td>\n",
              "      <td>0.0</td>\n",
              "      <td>0.0</td>\n",
              "      <td>0.0</td>\n",
              "      <td>0.0</td>\n",
              "      <td>0.0</td>\n",
              "      <td>1.0</td>\n",
              "      <td>0.0</td>\n",
              "      <td>0.0</td>\n",
              "      <td>0.0</td>\n",
              "    </tr>\n",
              "  </tbody>\n",
              "</table>\n",
              "<p>692500 rows × 57 columns</p>\n",
              "</div>"
            ],
            "text/plain": [
              "        ESTU_VALORMATRICULAUNIVERSIDAD  ...  ('PACIFICA',)\n",
              "0                                  6.0  ...            0.0\n",
              "1                                  4.0  ...            0.0\n",
              "2                                  4.0  ...            0.0\n",
              "3                                  5.0  ...            0.0\n",
              "4                                  4.0  ...            0.0\n",
              "...                                ...  ...            ...\n",
              "692495                             2.0  ...            0.0\n",
              "692496                             4.0  ...            0.0\n",
              "692497                             3.0  ...            0.0\n",
              "692498                             4.0  ...            0.0\n",
              "692499                             6.0  ...            0.0\n",
              "\n",
              "[692500 rows x 57 columns]"
            ]
          },
          "execution_count": 11,
          "metadata": {},
          "output_type": "execute_result"
        }
      ],
      "source": [
        "pd.options.display.max_columns = 0\n",
        "train"
      ]
    },
    {
      "cell_type": "code",
      "execution_count": null,
      "id": "71ef8cb7-03c4-4061-8031-b14f04c38536",
      "metadata": {
        "colab": {
          "base_uri": "https://localhost:8080/"
        },
        "id": "71ef8cb7-03c4-4061-8031-b14f04c38536",
        "outputId": "042b6dc4-f95c-4de7-82f8-d461da212fd7"
      },
      "outputs": [
        {
          "data": {
            "text/plain": [
              "Index(['ESTU_VALORMATRICULAUNIVERSIDAD', 'ESTU_HORASSEMANATRABAJA',\n",
              "       'FAMI_ESTRATOVIVIENDA', 'FAMI_TIENEINTERNET', 'FAMI_EDUCACIONPADRE',\n",
              "       'FAMI_TIENELAVADORA', 'FAMI_TIENEAUTOMOVIL', 'ESTU_PRIVADO_LIBERTAD',\n",
              "       'ESTU_PAGOMATRICULAPROPIO', 'FAMI_TIENECOMPUTADOR',\n",
              "       'FAMI_EDUCACIONMADRE', 'RENDIMIENTO_GLOBAL', '('2018',)', '('2019',)',\n",
              "       '('2020',)', '('2021',)', '('ADMINISTRACION',)', '('AGRONOMIA',)',\n",
              "       '('ARTES',)', '('CIENCIAS',)', '('CINE',)', '('COMERCIO',)',\n",
              "       '('COMUNICACION',)', '('CONSTRUCCION',)', '('CONTADURIA',)',\n",
              "       '('DIRECCION',)', '('DISEÑO',)', '('ECONOMIA',)', '('ESTUDIOS',)',\n",
              "       '('FILOLOGIA',)', '('FILOSOFIA',)', '('FINANZAS',)', '('GEOGRAFIA',)',\n",
              "       '('GERENCIA',)', '('GESTION',)', '('HISTORIA',)', '('HOTELERIA',)',\n",
              "       '('INGENIERIA',)', '('LENGUAS',)', '('LICENCIATURA',)',\n",
              "       '('LITERATURA',)', '('MATEMATICAS',)', '('MERCADEO',)', '('MUSICA',)',\n",
              "       '('NEGOCIOS',)', '('Otras',)', '('PROFESIONAL',)', '('PSICOLOGIA',)',\n",
              "       '('PUBLICIDAD',)', '('QUIMICA',)', '('RELACIONES',)',\n",
              "       '('VETERINARIA',)', '('AMAZONA',)', '('ANDINA',)', '('CARIBE',)',\n",
              "       '('ORINOQUIA',)', '('PACIFICA',)'],\n",
              "      dtype='object')"
            ]
          },
          "execution_count": 12,
          "metadata": {},
          "output_type": "execute_result"
        }
      ],
      "source": [
        "train.columns"
      ]
    },
    {
      "cell_type": "code",
      "execution_count": null,
      "id": "bf51aa61-7028-466c-aba0-deebdc5ed05b",
      "metadata": {
        "colab": {
          "base_uri": "https://localhost:8080/"
        },
        "id": "bf51aa61-7028-466c-aba0-deebdc5ed05b",
        "outputId": "7fe94ee0-8571-4cd3-d675-6ca667fd3c44"
      },
      "outputs": [
        {
          "data": {
            "text/plain": [
              "Index(['ID', 'ESTU_VALORMATRICULAUNIVERSIDAD', 'ESTU_HORASSEMANATRABAJA',\n",
              "       'FAMI_ESTRATOVIVIENDA', 'FAMI_TIENEINTERNET', 'FAMI_EDUCACIONPADRE',\n",
              "       'FAMI_TIENELAVADORA', 'FAMI_TIENEAUTOMOVIL', 'ESTU_PRIVADO_LIBERTAD',\n",
              "       'ESTU_PAGOMATRICULAPROPIO', 'FAMI_TIENECOMPUTADOR',\n",
              "       'FAMI_EDUCACIONMADRE', '('2018',)', '('2019',)', '('2020',)',\n",
              "       '('2021',)', '('ADMINISTRACION',)', '('AGRONOMIA',)', '('ARTES',)',\n",
              "       '('CIENCIAS',)', '('CINE',)', '('COMERCIO',)', '('COMUNICACION',)',\n",
              "       '('CONSTRUCCION',)', '('CONTADURIA',)', '('DIRECCION',)', '('DISEÑO',)',\n",
              "       '('ECONOMIA',)', '('ESTUDIOS',)', '('FILOLOGIA',)', '('FILOSOFIA',)',\n",
              "       '('FINANZAS',)', '('GEOGRAFIA',)', '('GERENCIA',)', '('GESTION',)',\n",
              "       '('HISTORIA',)', '('HOTELERIA',)', '('INGENIERIA',)', '('LENGUAS',)',\n",
              "       '('LICENCIATURA',)', '('LITERATURA',)', '('MATEMATICAS',)',\n",
              "       '('MERCADEO',)', '('MUSICA',)', '('NEGOCIOS',)', '('Otras',)',\n",
              "       '('PROFESIONAL',)', '('PSICOLOGIA',)', '('PUBLICIDAD',)',\n",
              "       '('QUIMICA',)', '('RELACIONES',)', '('VETERINARIA',)', '('AMAZONA',)',\n",
              "       '('ANDINA',)', '('CARIBE',)', '('ORINOQUIA',)', '('PACIFICA',)'],\n",
              "      dtype='object')"
            ]
          },
          "execution_count": 13,
          "metadata": {},
          "output_type": "execute_result"
        }
      ],
      "source": [
        "test.columns"
      ]
    },
    {
      "cell_type": "code",
      "execution_count": null,
      "id": "1fad3a4e-d6b1-4ded-93df-ba326f529cbf",
      "metadata": {
        "colab": {
          "base_uri": "https://localhost:8080/"
        },
        "id": "1fad3a4e-d6b1-4ded-93df-ba326f529cbf",
        "outputId": "e0dd2ff4-95e1-48cd-e19c-aa0286ea427b"
      },
      "outputs": [
        {
          "data": {
            "text/plain": [
              "array([0., 1., 2., 3.])"
            ]
          },
          "execution_count": 14,
          "metadata": {},
          "output_type": "execute_result"
        }
      ],
      "source": [
        "np.unique(train['RENDIMIENTO_GLOBAL'].values)"
      ]
    },
    {
      "cell_type": "markdown",
      "id": "P7FXpQEnqrTM",
      "metadata": {
        "id": "P7FXpQEnqrTM"
      },
      "source": [
        "## Definicion de los datos\n",
        "Ya para este casio, tomamos del CSV, los datos que vamos a utilizar para entrenar `X` junto con un vector de salidas de referencias `y`"
      ]
    },
    {
      "cell_type": "code",
      "execution_count": null,
      "id": "4cee76be-a990-446c-928b-824cc0fb1599",
      "metadata": {
        "id": "4cee76be-a990-446c-928b-824cc0fb1599"
      },
      "outputs": [],
      "source": [
        "X = train.drop(['RENDIMIENTO_GLOBAL'],axis=1)"
      ]
    },
    {
      "cell_type": "code",
      "execution_count": null,
      "id": "dc75b38c-591e-4d95-9ed7-fd84feb06164",
      "metadata": {
        "id": "dc75b38c-591e-4d95-9ed7-fd84feb06164"
      },
      "outputs": [],
      "source": [
        "Xtest = test.drop(['ID'], axis=1)"
      ]
    },
    {
      "cell_type": "code",
      "execution_count": null,
      "id": "1dfdc1f8-6a2b-4f34-8d5c-745817474a22",
      "metadata": {
        "id": "1dfdc1f8-6a2b-4f34-8d5c-745817474a22"
      },
      "outputs": [],
      "source": [
        "y = train['RENDIMIENTO_GLOBAL'].values"
      ]
    },
    {
      "cell_type": "code",
      "execution_count": null,
      "id": "b9144910-cd66-43f5-b90a-791cdc8da216",
      "metadata": {
        "colab": {
          "base_uri": "https://localhost:8080/"
        },
        "id": "b9144910-cd66-43f5-b90a-791cdc8da216",
        "outputId": "cbb9f6cb-116d-4fa2-ff65-1fece992c50f"
      },
      "outputs": [
        {
          "data": {
            "text/plain": [
              "array([0., 1., 2., 3., 4., 5., 6., 7., 8., 9.])"
            ]
          },
          "execution_count": 19,
          "metadata": {},
          "output_type": "execute_result"
        }
      ],
      "source": [
        "np.unique(X)"
      ]
    },
    {
      "cell_type": "code",
      "execution_count": null,
      "id": "005e724a-a3f0-4465-8a78-eb5a10775785",
      "metadata": {
        "colab": {
          "base_uri": "https://localhost:8080/"
        },
        "id": "005e724a-a3f0-4465-8a78-eb5a10775785",
        "outputId": "44b1e277-6c75-4294-dad2-f9f5a3f6787a"
      },
      "outputs": [
        {
          "data": {
            "text/plain": [
              "array([0., 1., 2., 3.])"
            ]
          },
          "execution_count": 20,
          "metadata": {},
          "output_type": "execute_result"
        }
      ],
      "source": [
        "np.unique(y)"
      ]
    },
    {
      "cell_type": "markdown",
      "id": "Ck3LCgyTq-nO",
      "metadata": {
        "id": "Ck3LCgyTq-nO"
      },
      "source": [
        "## Particionar los datos"
      ]
    },
    {
      "cell_type": "code",
      "execution_count": null,
      "id": "c9536c78-f668-47ba-ac81-df6cb9653cf9",
      "metadata": {
        "colab": {
          "base_uri": "https://localhost:8080/"
        },
        "id": "c9536c78-f668-47ba-ac81-df6cb9653cf9",
        "outputId": "86150ae0-96e8-4a04-e54b-1c4ead6ed5aa"
      },
      "outputs": [
        {
          "name": "stdout",
          "output_type": "stream",
          "text": [
            "(692500, 56) (692500,)\n",
            "test size 0.30\n",
            "val size is 0.43 (relative to 0.70) \n",
            "(484750, 56) (207750, 56)\n"
          ]
        }
      ],
      "source": [
        "from sklearn.model_selection import train_test_split\n",
        "\n",
        "test_size = 0.3\n",
        "val_size  = test_size/(1-test_size) # Elementos de validación\n",
        "\n",
        "print (X.shape, y.shape)\n",
        "print (\"test size %.2f\"%test_size)\n",
        "print (\"val size is %.2f (relative to %.2f) \"%(val_size, 1-test_size))\n",
        "\n",
        "#Xtr, ytr son los datos que se usan para entrenar el modelo\n",
        "#Xts, yts son los datos que usamos para medir una metrica\n",
        "Xtr, Xts, ytr, yts = train_test_split(X, y, test_size=test_size)\n",
        "print (Xtr.shape, Xts.shape)"
      ]
    },
    {
      "cell_type": "code",
      "execution_count": null,
      "id": "5fac3a2c-8416-48fd-b0ff-b0494e15666d",
      "metadata": {
        "id": "5fac3a2c-8416-48fd-b0ff-b0494e15666d"
      },
      "outputs": [],
      "source": [
        "estimator1 = DecisionTreeClassifier(max_depth=10)\n",
        "z1 = cross_validate(estimator1, Xtr, ytr, return_train_score=True, return_estimator=True,\n",
        "                    scoring='accuracy', cv=ShuffleSplit(n_splits=10, test_size=0.3))"
      ]
    },
    {
      "cell_type": "code",
      "execution_count": null,
      "id": "afabebdf-6cc0-4e4e-bafa-5128cb571500",
      "metadata": {
        "colab": {
          "base_uri": "https://localhost:8080/"
        },
        "id": "afabebdf-6cc0-4e4e-bafa-5128cb571500",
        "outputId": "69e675f8-4f8d-4ce8-ff38-565ca8c2d061"
      },
      "outputs": [
        {
          "data": {
            "text/plain": [
              "{'fit_time': array([1.99403381, 2.0438633 , 1.97620034, 1.94225907, 1.93137217,\n",
              "        1.98708296, 1.90608406, 1.99222636, 1.94543839, 1.95033884]),\n",
              " 'score_time': array([0.05288625, 0.04970598, 0.04319406, 0.04103231, 0.04275703,\n",
              "        0.04374456, 0.04209161, 0.04319119, 0.04120016, 0.04137969]),\n",
              " 'estimator': [DecisionTreeClassifier(max_depth=10),\n",
              "  DecisionTreeClassifier(max_depth=10),\n",
              "  DecisionTreeClassifier(max_depth=10),\n",
              "  DecisionTreeClassifier(max_depth=10),\n",
              "  DecisionTreeClassifier(max_depth=10),\n",
              "  DecisionTreeClassifier(max_depth=10),\n",
              "  DecisionTreeClassifier(max_depth=10),\n",
              "  DecisionTreeClassifier(max_depth=10),\n",
              "  DecisionTreeClassifier(max_depth=10),\n",
              "  DecisionTreeClassifier(max_depth=10)],\n",
              " 'test_score': array([0.3971738 , 0.39654805, 0.3950765 , 0.39592917, 0.39417569,\n",
              "        0.39651367, 0.39576414, 0.3956885 , 0.39424446, 0.39656868]),\n",
              " 'train_score': array([0.40770648, 0.40633316, 0.40775658, 0.40650998, 0.40860237,\n",
              "        0.40642452, 0.40482134, 0.40711412, 0.40773595, 0.40742061])}"
            ]
          },
          "execution_count": 23,
          "metadata": {},
          "output_type": "execute_result"
        }
      ],
      "source": [
        "z1"
      ]
    },
    {
      "cell_type": "code",
      "execution_count": null,
      "id": "4a42ae17-2d9e-4282-a3d4-a452a04f51e9",
      "metadata": {
        "id": "4a42ae17-2d9e-4282-a3d4-a452a04f51e9"
      },
      "outputs": [],
      "source": [
        "estimator2 = RandomForestClassifier(max_depth=12)\n",
        "z2 = cross_validate(estimator2, Xtr, ytr, return_train_score=True, return_estimator=True,\n",
        "                    scoring='accuracy', cv=ShuffleSplit(n_splits=5, test_size=0.3))"
      ]
    },
    {
      "cell_type": "code",
      "execution_count": null,
      "id": "0c75ec48-fe84-42c6-8f73-fdd1107ee2f7",
      "metadata": {
        "colab": {
          "base_uri": "https://localhost:8080/"
        },
        "id": "0c75ec48-fe84-42c6-8f73-fdd1107ee2f7",
        "outputId": "e36aa209-06aa-4924-86f5-cd78ae443f23"
      },
      "outputs": [
        {
          "data": {
            "text/plain": [
              "{'fit_time': array([25.54179716, 25.52658725, 24.29139256, 26.30467224, 25.62735629]),\n",
              " 'score_time': array([2.6926496 , 2.69760108, 2.64484191, 2.68997025, 2.68700814]),\n",
              " 'estimator': [RandomForestClassifier(max_depth=12),\n",
              "  RandomForestClassifier(max_depth=12),\n",
              "  RandomForestClassifier(max_depth=12),\n",
              "  RandomForestClassifier(max_depth=12),\n",
              "  RandomForestClassifier(max_depth=12)],\n",
              " 'test_score': array([0.40712395, 0.40584494, 0.40748152, 0.40647757, 0.40992952]),\n",
              " 'train_score': array([0.44702277, 0.44600604, 0.4470876 , 0.44433213, 0.44548147])}"
            ]
          },
          "execution_count": 25,
          "metadata": {},
          "output_type": "execute_result"
        }
      ],
      "source": [
        "z2"
      ]
    },
    {
      "cell_type": "code",
      "execution_count": null,
      "id": "f0ab4e2d-e4e4-48da-b3c7-4619b1c62b76",
      "metadata": {
        "id": "f0ab4e2d-e4e4-48da-b3c7-4619b1c62b76"
      },
      "outputs": [],
      "source": [
        "from sklearn.naive_bayes import GaussianNB\n",
        "estimator3 = GaussianNB()\n",
        "z3 = cross_validate(estimator3, Xtr, ytr, return_train_score=True, return_estimator=True,\n",
        "                    scoring='accuracy', cv=ShuffleSplit(n_splits=10, test_size=0.3))"
      ]
    },
    {
      "cell_type": "code",
      "execution_count": null,
      "id": "42fdef1b-28f5-4540-9020-6175357d2a96",
      "metadata": {
        "colab": {
          "base_uri": "https://localhost:8080/"
        },
        "id": "42fdef1b-28f5-4540-9020-6175357d2a96",
        "outputId": "e2d57f9a-05f2-4d81-f0aa-1fc99b62db82"
      },
      "outputs": [
        {
          "data": {
            "text/plain": [
              "{'fit_time': array([0.78045988, 0.75029039, 0.92360377, 1.01354671, 0.70266819,\n",
              "        0.71516514, 0.69673157, 0.69873691, 0.71358776, 0.69908357]),\n",
              " 'score_time': array([0.25837421, 0.31102061, 0.30746293, 0.3275578 , 0.25279617,\n",
              "        0.25747418, 0.2518878 , 0.25990248, 0.25141692, 0.26370883]),\n",
              " 'estimator': [GaussianNB(),\n",
              "  GaussianNB(),\n",
              "  GaussianNB(),\n",
              "  GaussianNB(),\n",
              "  GaussianNB(),\n",
              "  GaussianNB(),\n",
              "  GaussianNB(),\n",
              "  GaussianNB(),\n",
              "  GaussianNB(),\n",
              "  GaussianNB()],\n",
              " 'test_score': array([0.28975761, 0.28853361, 0.28887055, 0.29054839, 0.28898057,\n",
              "        0.28898057, 0.30520887, 0.28378202, 0.28893932, 0.287399  ]),\n",
              " 'train_score': array([0.28948353, 0.28895896, 0.28890002, 0.28691962, 0.28998748,\n",
              "        0.2875827 , 0.30668533, 0.28402859, 0.28802476, 0.28821631])}"
            ]
          },
          "execution_count": 25,
          "metadata": {},
          "output_type": "execute_result"
        }
      ],
      "source": [
        "z3"
      ]
    },
    {
      "cell_type": "code",
      "execution_count": null,
      "id": "29fb42fa-5827-4407-b033-495fb7fec886",
      "metadata": {
        "id": "29fb42fa-5827-4407-b033-495fb7fec886"
      },
      "outputs": [],
      "source": [
        "def report_cv_score(z):\n",
        "    print (\"test score   %.3f (±%.4f) with %d splits\"%(np.mean(z[\"test_score\"]), np.std(z[\"test_score\"]), len(z[\"test_score\"])))\n",
        "    print (\"train score  %.3f (±%.4f) with %d splits\"%(np.mean(z[\"train_score\"]), np.std(z[\"train_score\"]), len(z[\"train_score\"])))\n",
        "\n"
      ]
    },
    {
      "cell_type": "code",
      "execution_count": null,
      "id": "6581fe62-05d5-4228-b501-535fa936fa68",
      "metadata": {
        "colab": {
          "base_uri": "https://localhost:8080/"
        },
        "id": "6581fe62-05d5-4228-b501-535fa936fa68",
        "outputId": "d46e91ec-057d-4f5e-be41-163f0a7109e5"
      },
      "outputs": [
        {
          "name": "stdout",
          "output_type": "stream",
          "text": [
            "Estimador 1\n",
            "test score   0.396 (±0.0010) with 10 splits\n",
            "train score  0.407 (±0.0010) with 10 splits\n",
            "Estimador 2\n",
            "test score   0.407 (±0.0014) with 5 splits\n",
            "train score  0.446 (±0.0010) with 5 splits\n"
          ]
        }
      ],
      "source": [
        "print('Estimador 1')\n",
        "report_cv_score(z1)\n",
        "\n",
        "print('Estimador 2')\n",
        "report_cv_score(z2)\n",
        "\n",
        "#print('Estimador 3')\n",
        "#report_cv_score(z3)\n",
        "\n"
      ]
    },
    {
      "cell_type": "code",
      "execution_count": null,
      "id": "rjHlbDhSaxIU",
      "metadata": {
        "colab": {
          "base_uri": "https://localhost:8080/"
        },
        "id": "rjHlbDhSaxIU",
        "outputId": "7f656901-7582-460e-887f-3de0a91a8d6a"
      },
      "outputs": [
        {
          "data": {
            "text/plain": [
              "(0.5031459515214027, 0.40882791817087843)"
            ]
          },
          "execution_count": 22,
          "metadata": {},
          "output_type": "execute_result"
        }
      ],
      "source": [
        "estimator2.fit(Xtr, ytr)\n",
        "estimator2.score(Xtr, ytr), estimator2.score(Xts, yts)"
      ]
    },
    {
      "cell_type": "markdown",
      "id": "Of8Wy7G5BMZ0",
      "metadata": {
        "id": "Of8Wy7G5BMZ0"
      },
      "source": [
        "## Eleccion Modelo\n",
        "Se decide elegir el estimator 2 `RandomForestClassifier` dado que es el modelo que mejor comportamineto tiene en test, y queremos entonces enfocarnos en mejorar este modelo"
      ]
    },
    {
      "cell_type": "markdown",
      "id": "222d792f-8a00-4709-9735-1e8c28c831ee",
      "metadata": {
        "id": "222d792f-8a00-4709-9735-1e8c28c831ee"
      },
      "source": [
        "Transformamos los datos intentaod ver si se logra modificar el score, con un nuevo entrenamiento del RandomForest"
      ]
    },
    {
      "cell_type": "code",
      "execution_count": null,
      "id": "YwE718OTBLCK",
      "metadata": {
        "id": "YwE718OTBLCK"
      },
      "outputs": [],
      "source": [
        "# Libreria para transformar los datos\n",
        "from sklearn.preprocessing import StandardScaler, MinMaxScaler\n",
        "X_transformed = StandardScaler().fit_transform(X)\n",
        "X_minmax = MinMaxScaler().fit_transform(X)"
      ]
    },
    {
      "cell_type": "code",
      "execution_count": null,
      "id": "6NdFiQWGBK_i",
      "metadata": {
        "id": "6NdFiQWGBK_i",
        "outputId": "729540d5-5825-4058-b310-10119e85cc4e"
      },
      "outputs": [
        {
          "name": "stderr",
          "output_type": "stream",
          "text": [
            "/tmp/ipykernel_66/2059910671.py:9: UserWarning: \n",
            "\n",
            "`distplot` is a deprecated function and will be removed in seaborn v0.14.0.\n",
            "\n",
            "Please adapt your code to use either `displot` (a figure-level function with\n",
            "similar flexibility) or `histplot` (an axes-level function for histograms).\n",
            "\n",
            "For a guide to updating your code to use the new functions, please see\n",
            "https://gist.github.com/mwaskom/de44147ed2974457ad6372750bbe5751\n",
            "\n",
            "  sns.distplot(X['FAMI_ESTRATOVIVIENDA'], ax=ax[0])\n",
            "/tmp/ipykernel_66/2059910671.py:11: UserWarning: \n",
            "\n",
            "`distplot` is a deprecated function and will be removed in seaborn v0.14.0.\n",
            "\n",
            "Please adapt your code to use either `displot` (a figure-level function with\n",
            "similar flexibility) or `histplot` (an axes-level function for histograms).\n",
            "\n",
            "For a guide to updating your code to use the new functions, please see\n",
            "https://gist.github.com/mwaskom/de44147ed2974457ad6372750bbe5751\n",
            "\n",
            "  sns.distplot(X_transformed[:, 0], ax=ax[1])\n",
            "/tmp/ipykernel_66/2059910671.py:13: UserWarning: \n",
            "\n",
            "`distplot` is a deprecated function and will be removed in seaborn v0.14.0.\n",
            "\n",
            "Please adapt your code to use either `displot` (a figure-level function with\n",
            "similar flexibility) or `histplot` (an axes-level function for histograms).\n",
            "\n",
            "For a guide to updating your code to use the new functions, please see\n",
            "https://gist.github.com/mwaskom/de44147ed2974457ad6372750bbe5751\n",
            "\n",
            "  sns.distplot(X_minmax[:, 0], ax=ax[2])\n"
          ]
        },
        {
          "data": {
            "image/png": "[encoded data removed]",
            "text/plain": [
              "<Figure size 1500x500 with 3 Axes>"
            ]
          },
          "metadata": {},
          "output_type": "display_data"
        }
      ],
      "source": [
        "import seaborn as sns\n",
        "\n",
        "# Graficos interactivos\n",
        "# Plotly: Libreria para la visualización de datos interactivos\n",
        "import plotly.express as px\n",
        "import plotly.subplots as sp\n",
        "\n",
        "fig, ax = plt.subplots(1, 3, figsize=(15, 5))\n",
        "sns.distplot(X['FAMI_ESTRATOVIVIENDA'], ax=ax[0])\n",
        "ax[0].set_title('Distribución original')\n",
        "sns.distplot(X_transformed[:, 0], ax=ax[1])\n",
        "ax[1].set_title('Distribución transformada')\n",
        "sns.distplot(X_minmax[:, 0], ax=ax[2])\n",
        "ax[2].set_title('Distribución MinMax')\n",
        "plt.show()"
      ]
    },
    {
      "cell_type": "markdown",
      "source": [
        "# Procesamiento con StandardScaler()"
      ],
      "metadata": {
        "id": "FdnOnF3BOqCG"
      },
      "id": "FdnOnF3BOqCG"
    },
    {
      "cell_type": "code",
      "execution_count": null,
      "id": "fXz9gZ5nBK83",
      "metadata": {
        "id": "fXz9gZ5nBK83",
        "outputId": "988ced0e-274a-456e-ac8d-13c3a768ac73"
      },
      "outputs": [
        {
          "name": "stdout",
          "output_type": "stream",
          "text": [
            "(692500, 56) (692500,)\n",
            "test size 0.30\n",
            "val size is 0.43 (relative to 0.70) \n",
            "(484750, 56) (207750, 56)\n"
          ]
        }
      ],
      "source": [
        "from sklearn.model_selection import train_test_split\n",
        "\n",
        "test_size = 0.3\n",
        "val_size  = test_size/(1-test_size) # Elementos de validación\n",
        "\n",
        "print (X_transformed.shape, y.shape)\n",
        "print (\"test size %.2f\"%test_size)\n",
        "print (\"val size is %.2f (relative to %.2f) \"%(val_size, 1-test_size))\n",
        "\n",
        "#Xtr, ytr son los datos que se usan para entrenar el modelo\n",
        "#Xts, yts son los datos que usamos para medir una metrica\n",
        "X_train1, X_test1, y_train1, y_test1 = train_test_split(X_transformed, y, test_size=test_size)\n",
        "print (X_train1.shape, X_test1.shape)"
      ]
    },
    {
      "cell_type": "code",
      "execution_count": null,
      "id": "eecZ-3f-BK0M",
      "metadata": {
        "id": "eecZ-3f-BK0M"
      },
      "outputs": [],
      "source": [
        "estimator2TR = RandomForestClassifier(max_depth=12)\n",
        "z2TR = cross_validate(estimator2TR, X_train1, y_train1, return_train_score=True, return_estimator=True,\n",
        "                    scoring='accuracy', cv=ShuffleSplit(n_splits=5, test_size=0.3))"
      ]
    },
    {
      "cell_type": "code",
      "execution_count": null,
      "id": "eD8xSqzBBKxe",
      "metadata": {
        "id": "eD8xSqzBBKxe",
        "outputId": "7c4bce53-ef30-44b7-ca42-43ea29f39e74"
      },
      "outputs": [
        {
          "data": {
            "text/plain": [
              "{'fit_time': array([29.92505503, 23.48078227, 23.38427997, 23.22620559, 24.22741175]),\n",
              " 'score_time': array([2.0818131 , 2.1217885 , 2.1213243 , 2.13028383, 2.15210605]),\n",
              " 'estimator': [RandomForestClassifier(max_depth=12),\n",
              "  RandomForestClassifier(max_depth=12),\n",
              "  RandomForestClassifier(max_depth=12),\n",
              "  RandomForestClassifier(max_depth=12),\n",
              "  RandomForestClassifier(max_depth=12)],\n",
              " 'test_score': array([0.40551487, 0.40627815, 0.40578993, 0.40618876, 0.4067595 ]),\n",
              " 'train_score': array([0.44483607, 0.44613276, 0.44574081, 0.44464157, 0.44639505])}"
            ]
          },
          "execution_count": 41,
          "metadata": {},
          "output_type": "execute_result"
        }
      ],
      "source": [
        "z2TR"
      ]
    },
    {
      "cell_type": "markdown",
      "source": [
        "# Procesamiento con MinMaxScaler()\n",
        "\n",
        "\n",
        "\n"
      ],
      "metadata": {
        "id": "k4rZ8J9aOQVa"
      },
      "id": "k4rZ8J9aOQVa"
    },
    {
      "cell_type": "code",
      "execution_count": null,
      "id": "2bb5815b-27da-43d6-baa7-fde8f50f32a7",
      "metadata": {
        "id": "2bb5815b-27da-43d6-baa7-fde8f50f32a7"
      },
      "outputs": [],
      "source": [
        "print('Estimador 2')\n",
        "report_cv_score(z2TR)"
      ]
    },
    {
      "cell_type": "code",
      "execution_count": null,
      "id": "lSbHvnl6BKt8",
      "metadata": {
        "id": "lSbHvnl6BKt8",
        "outputId": "4f60ed9e-b7ae-4ff3-ae2e-c7ce1c04d7c0"
      },
      "outputs": [
        {
          "name": "stdout",
          "output_type": "stream",
          "text": [
            "(692500, 56) (692500,)\n",
            "test size 0.30\n",
            "val size is 0.43 (relative to 0.70) \n",
            "(484750, 56) (207750, 56)\n"
          ]
        }
      ],
      "source": [
        "from sklearn.model_selection import train_test_split\n",
        "\n",
        "test_size = 0.3\n",
        "val_size  = test_size/(1-test_size) # Elementos de validación\n",
        "\n",
        "print (X_minmax.shape, y.shape)\n",
        "print (\"test size %.2f\"%test_size)\n",
        "print (\"val size is %.2f (relative to %.2f) \"%(val_size, 1-test_size))\n",
        "\n",
        "#Xtr, ytr son los datos que se usan para entrenar el modelo\n",
        "#Xts, yts son los datos que usamos para medir una metrica\n",
        "X_train2, X_test2, y_train2, y_test2 = train_test_split(X_minmax, y, test_size=test_size)\n",
        "print (X_train2.shape, X_test2.shape)"
      ]
    },
    {
      "cell_type": "code",
      "execution_count": null,
      "id": "94xtJ3z7BKmx",
      "metadata": {
        "id": "94xtJ3z7BKmx"
      },
      "outputs": [],
      "source": [
        "estimator2MX = RandomForestClassifier(max_depth = 12)\n",
        "z2MX = cross_validate(estimator2MX, X_train2, y_train2, return_train_score=True, return_estimator=True,\n",
        "                    scoring='accuracy', cv=ShuffleSplit(n_splits=5, test_size=0.3))"
      ]
    },
    {
      "cell_type": "code",
      "execution_count": null,
      "id": "vQ08DsbzBKlj",
      "metadata": {
        "id": "vQ08DsbzBKlj",
        "outputId": "eccbbee6-6caa-4663-8f00-e077d022e0e9"
      },
      "outputs": [
        {
          "data": {
            "text/plain": [
              "{'fit_time': array([23.69416642, 23.76131749, 23.8011682 , 24.56363773, 23.60084963]),\n",
              " 'score_time': array([2.13602972, 2.1210444 , 2.1461544 , 2.1236732 , 2.14932084]),\n",
              " 'estimator': [RandomForestClassifier(max_depth=12),\n",
              "  RandomForestClassifier(max_depth=12),\n",
              "  RandomForestClassifier(max_depth=12),\n",
              "  RandomForestClassifier(max_depth=12),\n",
              "  RandomForestClassifier(max_depth=12)],\n",
              " 'test_score': array([0.40679388, 0.40604435, 0.40745401, 0.40814853, 0.40785972]),\n",
              " 'train_score': array([0.44495395, 0.4446062 , 0.44497458, 0.44492448, 0.44625949])}"
            ]
          },
          "execution_count": 47,
          "metadata": {},
          "output_type": "execute_result"
        }
      ],
      "source": [
        "z2MX"
      ]
    },
    {
      "cell_type": "code",
      "execution_count": null,
      "id": "GV1K2YD6BKiW",
      "metadata": {
        "id": "GV1K2YD6BKiW"
      },
      "outputs": [],
      "source": [
        "print('Estimador 1')\n",
        "report_cv_score(z2MX)"
      ]
    },
    {
      "cell_type": "markdown",
      "id": "9f702c09-319a-4733-8c2f-04a8eb4a3dc1",
      "metadata": {
        "id": "9f702c09-319a-4733-8c2f-04a8eb4a3dc1"
      },
      "source": [
        "### Analisis transformación\n",
        "Vemos con la transformacion de los datos no obtenemos una diferencia de score significativa, y entonces procedemos a tratar de optimizar los parametros"
      ]
    },
    {
      "cell_type": "markdown",
      "id": "a28d2ef1-a5df-4da6-96f2-93812b11b657",
      "metadata": {
        "id": "a28d2ef1-a5df-4da6-96f2-93812b11b657"
      },
      "source": [
        "### Optimización de hiperparametros"
      ]
    },
    {
      "cell_type": "code",
      "execution_count": null,
      "id": "d4b8cec9-4744-4771-a98a-dc2a257444fb",
      "metadata": {
        "id": "d4b8cec9-4744-4771-a98a-dc2a257444fb",
        "outputId": "65897265-da02-4750-fdff-f6cf13e67b67"
      },
      "outputs": [
        {
          "name": "stdout",
          "output_type": "stream",
          "text": [
            "Fitting 3 folds for each of 10 candidates, totalling 30 fits\n"
          ]
        },
        {
          "data": {
            "text/plain": [
              "{'n_estimators': 80,\n",
              " 'min_samples_split': 10,\n",
              " 'min_samples_leaf': 4,\n",
              " 'max_features': 'log2',\n",
              " 'max_depth': 17,\n",
              " 'criterion': 'entropy'}"
            ]
          },
          "execution_count": 56,
          "metadata": {},
          "output_type": "execute_result"
        }
      ],
      "source": [
        "from sklearn.model_selection import GridSearchCV, RandomizedSearchCV\n",
        "#Estimadores\n",
        "n_estimators = [int(x_minmax) for x_minmax in np.linspace(start = 10, stop = 100, num = 10)]\n",
        "# Profundidad\n",
        "max_depth = [int(x_minmax) for x_minmax in np.linspace(1, 20, num = 10)]\n",
        "max_depth.append(None)\n",
        "\n",
        "max_features = ['log2', 'sqrt']\n",
        "\n",
        "criterion = ['gini', 'entropy']\n",
        "\n",
        "min_samples_split = [2, 5, 10]\n",
        "\n",
        "min_samples_leaf = [1, 2, 4]\n",
        "# Crear la cuadricula aleatoria\n",
        "random_grid = {'n_estimators': n_estimators,\n",
        "               'max_depth': max_depth,\n",
        "               'max_features': max_features,\n",
        "               'criterion': criterion,\n",
        "               'min_samples_split': min_samples_split,\n",
        "               'min_samples_leaf': min_samples_leaf}\n",
        "forest =RandomForestClassifier()\n",
        "# Busqueda aleatoria de parametros, usando 3 cv\n",
        "# Busca en 10 combinaciones diferentes, y usa todos los nucleos disponibles\n",
        "rf_random = RandomizedSearchCV(estimator = forest, param_distributions = random_grid, n_iter = 10, cv = 3, verbose=2, random_state=42, n_jobs = -1, scoring='accuracy')\n",
        "# Ajustar el modelo\n",
        "rf_random.fit(Xtr, y)\n",
        "# Mostrar los mejores parametros\n",
        "rf_random.best_params_"
      ]
    },
    {
      "cell_type": "markdown",
      "id": "0db5b0ef-b3bd-4565-a8c4-685b17168a4a",
      "metadata": {
        "id": "0db5b0ef-b3bd-4565-a8c4-685b17168a4a"
      },
      "source": [
        "### Instancia del modelo con los parametros optimizados\n",
        "Usamos un randomForest, con los parametros que arrojo la optimización"
      ]
    },
    {
      "cell_type": "code",
      "execution_count": null,
      "id": "02a7a6cb-3b92-4e13-9068-575c35febc1d",
      "metadata": {
        "id": "02a7a6cb-3b92-4e13-9068-575c35febc1d"
      },
      "outputs": [],
      "source": [
        "forestDef = RandomForestClassifier(n_estimators=80, max_depth=17, min_samples_split=10, min_samples_leaf=4, criterion='entropy')\n",
        "zDef = cross_validate(forestDef, Xtr, ytr, return_train_score=True, return_estimator=True,\n",
        "                    scoring='accuracy', cv=ShuffleSplit(n_splits=5, test_size=0.3))"
      ]
    },
    {
      "cell_type": "code",
      "execution_count": null,
      "id": "929fb113-1382-4f9b-820c-4ac760833625",
      "metadata": {
        "id": "929fb113-1382-4f9b-820c-4ac760833625",
        "outputId": "e7b1906c-855c-450c-e3f0-9ff833275e4f"
      },
      "outputs": [
        {
          "data": {
            "text/plain": [
              "{'fit_time': array([24.83860135, 25.33997607, 25.31276011, 25.42334294, 25.45860529]),\n",
              " 'score_time': array([2.89263368, 2.88977671, 2.89451838, 2.88736582, 2.88923979]),\n",
              " 'estimator': [RandomForestClassifier(criterion='entropy', max_depth=17, min_samples_leaf=4,\n",
              "                         min_samples_split=10, n_estimators=80),\n",
              "  RandomForestClassifier(criterion='entropy', max_depth=17, min_samples_leaf=4,\n",
              "                         min_samples_split=10, n_estimators=80),\n",
              "  RandomForestClassifier(criterion='entropy', max_depth=17, min_samples_leaf=4,\n",
              "                         min_samples_split=10, n_estimators=80),\n",
              "  RandomForestClassifier(criterion='entropy', max_depth=17, min_samples_leaf=4,\n",
              "                         min_samples_split=10, n_estimators=80),\n",
              "  RandomForestClassifier(criterion='entropy', max_depth=17, min_samples_leaf=4,\n",
              "                         min_samples_split=10, n_estimators=80)],\n",
              " 'test_score': array([0.41069967, 0.40785972, 0.40818979, 0.4088568 , 0.41069967]),\n",
              " 'train_score': array([0.50361748, 0.50156045, 0.50244751, 0.50222353, 0.49994843])}"
            ]
          },
          "execution_count": 57,
          "metadata": {},
          "output_type": "execute_result"
        }
      ],
      "source": [
        "zDef"
      ]
    },
    {
      "cell_type": "code",
      "execution_count": null,
      "id": "bdcf9686-ae41-4667-9125-9bcead8213c7",
      "metadata": {
        "id": "bdcf9686-ae41-4667-9125-9bcead8213c7",
        "outputId": "9461733d-cfe8-4372-ecea-18930f42745c"
      },
      "outputs": [
        {
          "data": {
            "text/plain": [
              "(0.48959257349149043, 0.40971841155234656)"
            ]
          },
          "execution_count": 70,
          "metadata": {},
          "output_type": "execute_result"
        }
      ],
      "source": [
        "forestDef.fit(Xtr, ytr)\n",
        "forestDef.score(Xtr, ytr), forestDef.score(Xts, yts)"
      ]
    },
    {
      "cell_type": "code",
      "execution_count": null,
      "id": "0affa035-6222-4e1c-b5fa-fbedd0d3082e",
      "metadata": {
        "id": "0affa035-6222-4e1c-b5fa-fbedd0d3082e"
      },
      "outputs": [],
      "source": [
        "from sklearn.model_selection import learning_curve\n",
        "\n",
        "# Funcion para graficar la curva de aprendizaje\n",
        "\n",
        "def plot_learning_curve(forestDef, title, X, y, ylim=None, cv=None,\n",
        "                        n_jobs=-1, train_sizes=np.linspace(.1, 1.0, 5)):\n",
        "\n",
        "    # Generar la grafica\n",
        "    plt.figure(figsize=(10, 5))\n",
        "    plt.title(title)\n",
        "    if ylim is not None:\n",
        "        plt.ylim(*ylim)\n",
        "    plt.xlabel(\"Ejemplos de entrenamiento\")\n",
        "    plt.ylabel(\"Score\")\n",
        "\n",
        "    # Generar los valores de la curva de aprendizaje\n",
        "    train_sizes, train_scores, test_scores = learning_curve(\n",
        "        forestDef, X, y, cv=cv, n_jobs=n_jobs, train_sizes=train_sizes, scoring='accuracy')\n",
        "\n",
        "    # Calcular la media y la desviacion estandar\n",
        "    train_scores_mean = np.mean(train_scores, axis=1)\n",
        "    train_scores_std = np.std(train_scores, axis=1)\n",
        "    test_scores_mean = np.mean(test_scores,axis=1)\n",
        "    test_scores_std = np.std(test_scores, axis=1)\n",
        "\n",
        "    # Graficar los resultados\n",
        "    plt.grid()\n",
        "    plt.fill_between(train_sizes, train_scores_mean - train_scores_std,\n",
        "                     train_scores_mean + train_scores_std, alpha=0.3,\n",
        "                     color=\"r\")\n",
        "    plt.fill_between(train_sizes, test_scores_mean - test_scores_std,\n",
        "                     test_scores_mean + test_scores_std, alpha=0.3,\n",
        "                     color=\"g\")\n",
        "    plt.plot(train_sizes, train_scores_mean, 'o-', color=\"r\",\n",
        "             label=\"Entrenamiento\")\n",
        "    plt.plot(train_sizes, test_scores_mean, 'o-', color=\"g\",\n",
        "             label=\"Validación cruzada\")\n",
        "\n",
        "    plt.legend(loc=\"best\")\n",
        "    return plt"
      ]
    },
    {
      "cell_type": "code",
      "execution_count": null,
      "id": "f652ef77-38b5-43c5-886d-93db66b14dde",
      "metadata": {
        "id": "f652ef77-38b5-43c5-886d-93db66b14dde",
        "outputId": "a08ed3f0-6979-4d24-a95e-ded78d50d64a"
      },
      "outputs": [
        {
          "data": {
            "image/png": "[encoded data removed]",
            "text/plain": [
              "<Figure size 1000x500 with 1 Axes>"
            ]
          },
          "metadata": {},
          "output_type": "display_data"
        }
      ],
      "source": [
        "\n",
        "plot_learning_curve(forest, 'Curva de aprendizaje para Random Forest', Xtr, ytr, cv=5)\n",
        "plt.show()"
      ]
    },
    {
      "cell_type": "markdown",
      "id": "1cb11363-0f0e-4ee1-a6d3-32a5e4d19ea5",
      "metadata": {
        "id": "1cb11363-0f0e-4ee1-a6d3-32a5e4d19ea5"
      },
      "source": [
        "Podemos ver que el modelo esta sobreajustado, ya que el score de entrenamiento es muy alto y el de validacion es muy bajo. Las soluciones a este problema son: conseguir mas datos, reducir la complejidad del modelo o aumentar la regularizacion. Sin embargo, no logramos reducir dicha precision"
      ]
    },
    {
      "cell_type": "markdown",
      "id": "d6ca6e28-4265-4f83-8016-673978c80d4d",
      "metadata": {
        "id": "d6ca6e28-4265-4f83-8016-673978c80d4d"
      },
      "source": [
        "Por ultimo realizamos las predicciones para enviar la submisión, sabiendo que con las transformaciones y las validaciones de\n",
        "la optimización no se aumento un buen Score"
      ]
    },
    {
      "cell_type": "code",
      "execution_count": null,
      "id": "4105e267-f185-45cf-b969-ed9cb73dd35e",
      "metadata": {
        "id": "4105e267-f185-45cf-b969-ed9cb73dd35e"
      },
      "outputs": [],
      "source": [
        "preds = forestDef.predict(Xtest)"
      ]
    },
    {
      "cell_type": "code",
      "execution_count": null,
      "id": "80c40e91-49dc-49e4-a8a6-1cf7e0e22e22",
      "metadata": {
        "id": "80c40e91-49dc-49e4-a8a6-1cf7e0e22e22",
        "outputId": "47e45cdb-48d5-489a-dc3c-f3f6b895e13a"
      },
      "outputs": [
        {
          "data": {
            "text/plain": [
              "array([2., 3., 0., ..., 0., 0., 0.])"
            ]
          },
          "execution_count": 72,
          "metadata": {},
          "output_type": "execute_result"
        }
      ],
      "source": [
        "preds"
      ]
    },
    {
      "cell_type": "code",
      "execution_count": null,
      "id": "aea0e0b5-022c-4e68-b729-8a2683dd7ce8",
      "metadata": {
        "id": "aea0e0b5-022c-4e68-b729-8a2683dd7ce8"
      },
      "outputs": [],
      "source": [
        "idTest = pd.DataFrame(test[\"ID\"])\n",
        "\n",
        "Reference = ['medio-alto', 'bajo', 'alto', 'medio-bajo']\n",
        "y_preditionReference = [Reference[int(i)] for i in preds]\n",
        "\n",
        "idTest['RENDIMIENTO_GLOBAL'] = pd.Series(y_preditionReference, name='RENDIMIENTO_GLOBAL')"
      ]
    },
    {
      "cell_type": "code",
      "execution_count": null,
      "id": "94ca4bbd-e212-45bb-bbd6-389dfc39448b",
      "metadata": {
        "id": "94ca4bbd-e212-45bb-bbd6-389dfc39448b",
        "outputId": "daf35ed3-c66d-4a91-d33c-2612e093a259"
      },
      "outputs": [
        {
          "data": {
            "text/html": [
              "<div>\n",
              "<style scoped>\n",
              "    .dataframe tbody tr th:only-of-type {\n",
              "        vertical-align: middle;\n",
              "    }\n",
              "\n",
              "    .dataframe tbody tr th {\n",
              "        vertical-align: top;\n",
              "    }\n",
              "\n",
              "    .dataframe thead th {\n",
              "        text-align: right;\n",
              "    }\n",
              "</style>\n",
              "<table border=\"1\" class=\"dataframe\">\n",
              "  <thead>\n",
              "    <tr style=\"text-align: right;\">\n",
              "      <th></th>\n",
              "      <th>ID</th>\n",
              "      <th>RENDIMIENTO_GLOBAL</th>\n",
              "    </tr>\n",
              "  </thead>\n",
              "  <tbody>\n",
              "    <tr>\n",
              "      <th>0</th>\n",
              "      <td>550236</td>\n",
              "      <td>alto</td>\n",
              "    </tr>\n",
              "    <tr>\n",
              "      <th>1</th>\n",
              "      <td>98545</td>\n",
              "      <td>medio-bajo</td>\n",
              "    </tr>\n",
              "    <tr>\n",
              "      <th>2</th>\n",
              "      <td>499179</td>\n",
              "      <td>medio-alto</td>\n",
              "    </tr>\n",
              "    <tr>\n",
              "      <th>3</th>\n",
              "      <td>782980</td>\n",
              "      <td>bajo</td>\n",
              "    </tr>\n",
              "    <tr>\n",
              "      <th>4</th>\n",
              "      <td>785185</td>\n",
              "      <td>bajo</td>\n",
              "    </tr>\n",
              "  </tbody>\n",
              "</table>\n",
              "</div>"
            ],
            "text/plain": [
              "       ID RENDIMIENTO_GLOBAL\n",
              "0  550236               alto\n",
              "1   98545         medio-bajo\n",
              "2  499179         medio-alto\n",
              "3  782980               bajo\n",
              "4  785185               bajo"
            ]
          },
          "execution_count": 74,
          "metadata": {},
          "output_type": "execute_result"
        }
      ],
      "source": [
        " idTest.head()"
      ]
    },
    {
      "cell_type": "code",
      "execution_count": null,
      "id": "db17b8ac-adf1-424c-badb-c86e16b8b64f",
      "metadata": {
        "id": "db17b8ac-adf1-424c-badb-c86e16b8b64f"
      },
      "outputs": [],
      "source": [
        "idTest.to_csv('submission.csv', index=False)"
      ]
    },
    {
      "cell_type": "markdown",
      "id": "7982370c-120e-4fd1-9dba-9f8f80be0df0",
      "metadata": {
        "id": "7982370c-120e-4fd1-9dba-9f8f80be0df0"
      },
      "source": [
        "Estructura del archivo que lleva las predicciones en Kaggle"
      ]
    },
    {
      "cell_type": "code",
      "execution_count": null,
      "id": "2a5b0aa9-5560-42dc-b2d8-bda96ad0c400",
      "metadata": {
        "id": "2a5b0aa9-5560-42dc-b2d8-bda96ad0c400",
        "outputId": "2b97be50-0c95-4e37-a4b0-f698d0baca6a"
      },
      "outputs": [
        {
          "name": "stdout",
          "output_type": "stream",
          "text": [
            "ID,RENDIMIENTO_GLOBAL\n",
            "550236,medio-alto\n",
            "98545,medio-alto\n",
            "499179,medio-alto\n",
            "782980,medio-alto\n",
            "785185,medio-alto\n",
            "58495,medio-alto\n",
            "705444,medio-alto\n",
            "557548,medio-alto\n",
            "519909,medio-alto\n"
          ]
        }
      ],
      "source": [
        "!head submission.csv"
      ]
    }
  ],
  "metadata": {
    "colab": {
      "provenance": [],
      "include_colab_link": true
    },
    "kernelspec": {
      "display_name": "Python 3 (ipykernel)",
      "language": "python",
      "name": "python3"
    },
    "language_info": {
      "codemirror_mode": {
        "name": "ipython",
        "version": 3
      },
      "file_extension": ".py",
      "mimetype": "text/x-python",
      "name": "python",
      "nbconvert_exporter": "python",
      "pygments_lexer": "ipython3",
      "version": "3.10.12"
    }
  },
  "nbformat": 4,
  "nbformat_minor": 5
}